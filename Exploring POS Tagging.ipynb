{
 "cells": [
  {
   "cell_type": "code",
   "execution_count": 3,
   "metadata": {
    "collapsed": true
   },
   "outputs": [],
   "source": [
    "#Special module written for this class\n",
    "#This provides access to data and to helper functions from previous weeks\n",
    "#Make sure you update it before starting this notebook\n",
    "import lucem_illud #pip install -U git+git://github.com/Computational-Content-Analysis-2018/lucem_illud.git\n",
    "\n",
    "#All these packages need to be installed from pip\n",
    "import gensim#For word2vec, etc\n",
    "import requests #For downloading our datasets\n",
    "import nltk #For stop words and stemmers\n",
    "import numpy as np #For arrays\n",
    "import pandas #Gives us DataFrames\n",
    "import matplotlib.pyplot as plt #For graphics\n",
    "import seaborn #Makes the graphics look nicer\n",
    "import sklearn.metrics.pairwise #For cosine similarity\n",
    "import sklearn.manifold #For T-SNE\n",
    "import sklearn.decomposition #For PCA\n",
    "import sklearn.feature_extraction\n",
    "from nltk.corpus import stopwords #For stopwords\n",
    "\n",
    "#gensim uses a couple of deprecated features\n",
    "#we can't do anything about them so lets ignore them \n",
    "import warnings\n",
    "warnings.filterwarnings(\"ignore\", category=DeprecationWarning) \n",
    "\n",
    "#This 'magic' command makes the plots work better\n",
    "#in the notebook, don't use it outside of a notebook.\n",
    "#Also you can ignore the warning\n",
    "%matplotlib inline\n",
    "\n",
    "import os #For looking through files\n",
    "import os.path #For managing file paths\n",
    "\n",
    "#This will be doing most of the work\n",
    "import networkx as nx"
   ]
  },
  {
   "cell_type": "code",
   "execution_count": 14,
   "metadata": {},
   "outputs": [
    {
     "name": "stdout",
     "output_type": "stream",
     "text": [
      "Starting downloads, this will take 5-10 minutes\n",
      "../stanford-NLP/parser already exists, skipping download\n",
      "../stanford-NLP/ner already exists, skipping download\n",
      "../stanford-NLP/postagger already exists, skipping download\n",
      "../stanford-NLP/core already exists, skipping download\n",
      "[100%]Done setting up the Stanford NLP collection\n"
     ]
    }
   ],
   "source": [
    "lucem_illud.setupStanfordNLP()"
   ]
  },
  {
   "cell_type": "code",
   "execution_count": 15,
   "metadata": {},
   "outputs": [
    {
     "name": "stderr",
     "output_type": "stream",
     "text": [
      "/anaconda3/lib/python3.6/site-packages/nltk/tag/stanford.py:183: DeprecationWarning: \n",
      "The StanfordTokenizer will be deprecated in version 3.2.5.\n",
      "Please use \u001b[91mnltk.tag.corenlp.CoreNLPPOSTagger\u001b[0m or \u001b[91mnltk.tag.corenlp.CoreNLPNERTagger\u001b[0m instead.\n",
      "  super(StanfordNERTagger, self).__init__(*args, **kwargs)\n",
      "/anaconda3/lib/python3.6/site-packages/nltk/tag/stanford.py:149: DeprecationWarning: \n",
      "The StanfordTokenizer will be deprecated in version 3.2.5.\n",
      "Please use \u001b[91mnltk.tag.corenlp.CoreNLPPOSTagger\u001b[0m or \u001b[91mnltk.tag.corenlp.CoreNLPNERTagger\u001b[0m instead.\n",
      "  super(StanfordPOSTagger, self).__init__(*args, **kwargs)\n"
     ]
    }
   ],
   "source": [
    "import lucem_illud.stanford as stanford"
   ]
  },
  {
   "cell_type": "markdown",
   "metadata": {},
   "source": [
    "Getting our corpora."
   ]
  },
  {
   "cell_type": "code",
   "execution_count": 4,
   "metadata": {},
   "outputs": [
    {
     "data": {
      "text/plain": [
       "1724"
      ]
     },
     "execution_count": 4,
     "metadata": {},
     "output_type": "execute_result"
    }
   ],
   "source": [
    "newsDF = pandas.read_csv('nu_simple.csv', encoding='utf-8')\n",
    "len(newsDF)"
   ]
  },
  {
   "cell_type": "code",
   "execution_count": 7,
   "metadata": {},
   "outputs": [
    {
     "data": {
      "text/plain": [
       "25129"
      ]
     },
     "execution_count": 7,
     "metadata": {},
     "output_type": "execute_result"
    }
   ],
   "source": [
    "newsDF2 = pandas.read_csv('party_simple.csv', encoding='latin-1')\n",
    "len(newsDF2)"
   ]
  },
  {
   "cell_type": "markdown",
   "metadata": {},
   "source": [
    "<h1>Parties</h1>"
   ]
  },
  {
   "cell_type": "code",
   "execution_count": 8,
   "metadata": {},
   "outputs": [],
   "source": [
    "news_P = newsDF2\n",
    "#Break the articles into sentences.\n",
    "news_P['sentences'] = news_P['Article'].apply(lambda x: [nltk.word_tokenize(s) for s in nltk.sent_tokenize(x)])\n",
    "news_P.index = range(len(news_P) - 1, -1,-1) #Reindex to make things nice in the future"
   ]
  },
  {
   "cell_type": "code",
   "execution_count": 10,
   "metadata": {},
   "outputs": [],
   "source": [
    "#Filter for articles from 2008-2009.\n",
    "news_P_08 = news_P.loc[news_P['Year'] == 2008]\n",
    "news_P_09 = news_P.loc[news_P['Year'] == 2009]\n",
    "news_P_0809 = pandas.concat([news_P_08, news_P_09])\n",
    "\n",
    "#Filter for articles from 2013-2014.\n",
    "news_P_13 = news_P.loc[news_P['Year'] == 2013]\n",
    "news_P_14 = news_P.loc[news_P['Year'] == 2014]\n",
    "news_P_1314 = pandas.concat([news_P_13, news_P_14])\n",
    "\n",
    "#Filter for articles from 2016-2017.\n",
    "news_P_16 = news_P.loc[news_P['Year'] == 2016]\n",
    "news_P_17 = news_P.loc[news_P['Year'] == 2017]\n",
    "news_P_1617 = pandas.concat([news_P_16, news_P_17])"
   ]
  },
  {
   "cell_type": "code",
   "execution_count": 11,
   "metadata": {
    "collapsed": true
   },
   "outputs": [],
   "source": [
    "#Sample a random 100 articles from 2008-2009.\n",
    "random_P_0809 = news_P_0809.sample(n=100)\n",
    "\n",
    "#Sample a random 100 articles from 2013-2014.\n",
    "random_P_1314 = news_P_1314.sample(n=100)\n",
    "\n",
    "#Sample a random 100 articles from 2016-2017.\n",
    "random_P_1617 = news_P_1617.sample(n=100)"
   ]
  },
  {
   "cell_type": "code",
   "execution_count": 16,
   "metadata": {},
   "outputs": [],
   "source": [
    "#Apply POS tags for 2008-2009.\n",
    "random_P_0809['POS_sents'] = random_P_0809['sentences'].apply(lambda x: stanford.postTagger.tag_sents(x))\n",
    "\n",
    "#Apply POS tags for 2013-2014.\n",
    "random_P_1314['POS_sents'] = random_P_1314['sentences'].apply(lambda x: stanford.postTagger.tag_sents(x))\n",
    "\n",
    "#Apply POS tags for 2016-2017.\n",
    "random_P_1617['POS_sents'] = random_P_1617['sentences'].apply(lambda x: stanford.postTagger.tag_sents(x))"
   ]
  },
  {
   "cell_type": "markdown",
   "metadata": {},
   "source": [
    "**2008-2009**"
   ]
  },
  {
   "cell_type": "code",
   "execution_count": 18,
   "metadata": {},
   "outputs": [
    {
     "data": {
      "text/plain": [
       "17347    [[(Max, NNP), (Moein, NNP), (,, ,), (a, DT), (...\n",
       "17482    [[(LOCK, NN), (AND, CC), (KEY, NN), (:, :), (A...\n",
       "16091    [[(As, IN), (a, DT), (newly, RB), (established...\n",
       "17628    [[(``, ``), (So, RB), (long, RB), (,, ,), (it,...\n",
       "17243    [[(The, DT), (Golkar, NNP), (Party, NNP), ('s,...\n",
       "15325    [[(Many, JJ), (pollsters, NNS), (published, VB...\n",
       "17169    [[(Lately, RB), (there, EX), (have, VBP), (bee...\n",
       "17015    [[(Halida, NNP), (Hatta, NNP), ((, NNP), (left...\n",
       "17414    [[(With, IN), (the, DT), (House, NNP), (of, IN...\n",
       "14863    [[(The, DT), (names, NNS), (of, IN), (politica...\n",
       "17517    [[(Lawmaker, NNP), (Agus, NNP), (Condro, NNP),...\n",
       "16910    [[(Candidates, NNS), (in, IN), (the, DT), (sec...\n",
       "18094    [[(Golkar, NNP), (Party, NNP), (members, NNS),...\n",
       "17715    [[(Your, PRP$), (comments, NNS), (on, IN), (th...\n",
       "18021    [[(The, DT), (banking, NN), (sector, NN), (wil...\n",
       "15759    [[(Legal, JJ), (experts, NNS), (,, ,), (resear...\n",
       "18426    [[(For, IN), (Thai, NNP), (King, NNP), (Bhumib...\n",
       "16025    [[(BULELENG, NNP), (:, :), (Female, JJ), (legi...\n",
       "15561    [[(The, DT), (presidential, JJ), (election, NN...\n",
       "15097    [[(Recurrent, JJ), (forest, NN), (and, CC), (p...\n",
       "14660    [[(House, NNP), (of, IN), (Rerpresentatives, N...\n",
       "14753    [[(The, DT), (Prosperous, NNP), (Justice, NNP)...\n",
       "17281    [[(State, NNP), (Secretary, NNP), (Hatta, NNP)...\n",
       "14796    [[(President, NNP), (Susilo, NNP), (Bambang, N...\n",
       "16827    [[(The, DT), (Constitutional, NNP), (Court, NN...\n",
       "16547    [[(The, DT), (Constitutional, NNP), (Court, NN...\n",
       "18245    [[(To, TO), (avoid, VB), (tension, NN), (durin...\n",
       "17946    [[(With, IN), (cancer, NN), (,, ,), (a, DT), (...\n",
       "14895    [[(JAKARTA, NNP), (:, :), (Golkar, NNP), (Part...\n",
       "18152    [[(Home, NNP), (Minister, NNP), (Mardiyanto, N...\n",
       "                               ...                        \n",
       "17680    [[(The, DT), (pairing, NN), (of, IN), (Khofifa...\n",
       "14620    [[(National, NNP), (Police, NNP), (chief, NN),...\n",
       "17953    [[(Bureaucratic, JJ), (reform, NN), (in, IN), ...\n",
       "17224    [[(The, DT), (East, NNP), (Denpasar, NNP), (Po...\n",
       "16293    [[(The, DT), (General, NNP), (Elections, NNPS)...\n",
       "15803    [[(Swine, NN), (flu, NN), (has, VBZ), (become,...\n",
       "17232    [[(The, DT), (Rote, NNP), (Ndao, NNP), (Region...\n",
       "15548    [[(Members, NNS), (of, IN), (the, DT), (Italia...\n",
       "18092    [[(ADPARA, NN), (>, JJR), (JAKARTA, NNP), (:, ...\n",
       "16743    [[(PT, NN), (Bumi, NNP), (Resources, NNP), (,,...\n",
       "14530    [[(Are, VBP), (you, PRP), (eager, JJ), (to, TO...\n",
       "16032    [[(For, IN), (all, PDT), (its, PRP$), (faults,...\n",
       "17679    [[(In, IN), (an, DT), (attempt, NN), (to, TO),...\n",
       "17119    [[(DENPASAR, NNP), (:, :), (The, DT), (rate, N...\n",
       "17181    [[(The, DT), (financial, JJ), (crisis, NN), (m...\n",
       "18325    [[(Kosovo, NNP), ('s, POS), (independence, NN)...\n",
       "16365    [[(KUPANG, NNP), (:, :), (The, DT), (Maumere, ...\n",
       "14483    [[(SUKABUMI, NNP), (:, :), (Actress, NNP), (Ay...\n",
       "14982    [[(Political, JJ), (analysts, NNS), (expressed...\n",
       "15743    [[(House, NNP), (Speaker, NNP), (Agung, NNP), ...\n",
       "17213    [[(The, DT), (West, NNP), (Java, NNP), (Electi...\n",
       "17397    [[(The, DT), (Prosperous, NNP), (Justice, NNP)...\n",
       "15364    [[(Writing, VBG), (about, IN), (Jusuf, NNP), (...\n",
       "15755    [[(The, DT), (House, NNP), (of, IN), (Represen...\n",
       "16576    [[(Abdul, NNP), (Canter, NNP), (Sangaji, NNP),...\n",
       "15195    [[(The, DT), (defeat, NN), (of, IN), (Vice, NN...\n",
       "18466    [[(At, IN), (the, DT), (start, NN), (of, IN), ...\n",
       "18229    [[(The, DT), (House, NNP), (of, IN), (Represen...\n",
       "16611    [[(Members, NNS), (of, IN), (the, DT), (House,...\n",
       "16877    [[(JAKARTA, NNP), (:, :), (A, DT), (tapped, VB...\n",
       "Name: POS_sents, Length: 100, dtype: object"
      ]
     },
     "execution_count": 18,
     "metadata": {},
     "output_type": "execute_result"
    }
   ],
   "source": [
    "random_P_0809['POS_sents']"
   ]
  },
  {
   "cell_type": "code",
   "execution_count": 19,
   "metadata": {},
   "outputs": [
    {
     "data": {
      "text/plain": [
       "[('Party', 236),\n",
       " ('(', 188),\n",
       " (')', 155),\n",
       " ('House', 125),\n",
       " ('Yudhoyono', 97),\n",
       " ('Jakarta', 94),\n",
       " ('Indonesia', 91),\n",
       " ('Golkar', 85),\n",
       " ('President', 82),\n",
       " ('Kalla', 75),\n",
       " ('Democratic', 68),\n",
       " ('Court', 67),\n",
       " ('Indonesian', 57),\n",
       " ('Commission', 56),\n",
       " ('National', 54),\n",
       " ('Java', 53),\n",
       " ('KPK', 45),\n",
       " ('KPU', 42),\n",
       " ('Bambang', 39),\n",
       " ('East', 36)]"
      ]
     },
     "execution_count": 19,
     "metadata": {},
     "output_type": "execute_result"
    }
   ],
   "source": [
    "countTarget = 'NNP'\n",
    "targetCounts = {}\n",
    "for entry in random_P_0809['POS_sents']:\n",
    "    for sentence in entry:\n",
    "        for ent, kind in sentence:\n",
    "            if kind != countTarget:\n",
    "                continue\n",
    "            elif ent in targetCounts:\n",
    "                targetCounts[ent] += 1\n",
    "            else:\n",
    "                targetCounts[ent] = 1\n",
    "sortedTargets = sorted(targetCounts.items(), key = lambda x: x[1], reverse = True)\n",
    "sortedTargets[:20]"
   ]
  },
  {
   "cell_type": "code",
   "execution_count": 20,
   "metadata": {},
   "outputs": [
    {
     "data": {
      "text/plain": [
       "[('party', 238),\n",
       " ('election', 163),\n",
       " ('percent', 116),\n",
       " (')', 100),\n",
       " ('campaign', 84),\n",
       " ('government', 68),\n",
       " ('Rp', 64),\n",
       " ('court', 50),\n",
       " ('country', 49),\n",
       " ('state', 48),\n",
       " ('chairman', 48),\n",
       " ('law', 47),\n",
       " ('year', 47),\n",
       " ('bill', 47),\n",
       " ('money', 46),\n",
       " ('candidate', 45),\n",
       " ('office', 45),\n",
       " ('support', 44),\n",
       " ('president', 44),\n",
       " ('minister', 43)]"
      ]
     },
     "execution_count": 20,
     "metadata": {},
     "output_type": "execute_result"
    }
   ],
   "source": [
    "countTarget = 'NN'\n",
    "targetCounts = {}\n",
    "for entry in random_P_0809['POS_sents']:\n",
    "    for sentence in entry:\n",
    "        for ent, kind in sentence:\n",
    "            if kind != countTarget:\n",
    "                continue\n",
    "            elif ent in targetCounts:\n",
    "                targetCounts[ent] += 1\n",
    "            else:\n",
    "                targetCounts[ent] = 1\n",
    "sortedTargets = sorted(targetCounts.items(), key = lambda x: x[1], reverse = True)\n",
    "sortedTargets[:20]"
   ]
  },
  {
   "cell_type": "code",
   "execution_count": 21,
   "metadata": {},
   "outputs": [
    {
     "name": "stdout",
     "output_type": "stream",
     "text": [
      "{'so-called', 'personal', 'other', 'political'}\n"
     ]
    }
   ],
   "source": [
    "NTarget = 'JJ'\n",
    "Word = 'coalition'\n",
    "NResults = set()\n",
    "for entry in random_P_0809['POS_sents']:\n",
    "    for sentence in entry:\n",
    "        for (ent1, kind1),(ent2,kind2) in zip(sentence[:-1], sentence[1:]):\n",
    "            if (kind1,ent2.lower())==(NTarget,Word):\n",
    "                NResults.add(ent1)\n",
    "            else:\n",
    "                continue\n",
    "\n",
    "print(NResults)"
   ]
  },
  {
   "cell_type": "code",
   "execution_count": 107,
   "metadata": {},
   "outputs": [
    {
     "name": "stdout",
     "output_type": "stream",
     "text": [
      "{'traditional', 'conservative', 'other'}\n"
     ]
    }
   ],
   "source": [
    "NTarget = 'JJ'\n",
    "Word = 'muslim'\n",
    "NResults = set()\n",
    "for entry in random_P_0809['POS_sents']:\n",
    "    for sentence in entry:\n",
    "        for (ent1, kind1),(ent2,kind2) in zip(sentence[:-1], sentence[1:]):\n",
    "            if (kind1,ent2.lower())==(NTarget,Word):\n",
    "                NResults.add(ent1)\n",
    "            else:\n",
    "                continue\n",
    "\n",
    "print(NResults)"
   ]
  },
  {
   "cell_type": "code",
   "execution_count": 109,
   "metadata": {},
   "outputs": [
    {
     "name": "stdout",
     "output_type": "stream",
     "text": [
      "{'regional', 'intergovernmental', 'Muslim', 'religion-based'}\n"
     ]
    }
   ],
   "source": [
    "NTarget = 'JJ'\n",
    "Word = 'organization'\n",
    "NResults = set()\n",
    "for entry in random_P_0809['POS_sents']:\n",
    "    for sentence in entry:\n",
    "        for (ent1, kind1),(ent2,kind2) in zip(sentence[:-1], sentence[1:]):\n",
    "            if (kind1,ent2.lower())==(NTarget,Word):\n",
    "                NResults.add(ent1)\n",
    "            else:\n",
    "                continue\n",
    "\n",
    "print(NResults)"
   ]
  },
  {
   "cell_type": "markdown",
   "metadata": {},
   "source": [
    "**2013-2014**"
   ]
  },
  {
   "cell_type": "code",
   "execution_count": 22,
   "metadata": {},
   "outputs": [
    {
     "data": {
      "text/plain": [
       "8554     [[(There, EX), (are, VBP), (moments, NNS), (in...\n",
       "9496     [[(Exercising, VBG), (the, DT), (franchise, NN...\n",
       "21244    [[(Former, JJ), (party, NN), (chairman, NN), (...\n",
       "4729     [[(The, DT), (Election, NNP), (Supervisory, NN...\n",
       "6846     [[(An, DT), (interesting, JJ), (picture, NN), ...\n",
       "9329     [[(The, DT), (camps, NNS), (of, IN), (two, CD)...\n",
       "6004     [[(Environmentally, RB), (friendly, JJ), (team...\n",
       "3806     [[(When, WRB), (former, JJ), (Solo, NNP), (may...\n",
       "6412     [[(Presidential, JJ), (candidate, NN), (Prabow...\n",
       "9663     [[(Neneng, NNP), (Sri, NNP), (Wahyuni, NNP), (...\n",
       "6002     [[(The, DT), (Corruption, NNP), (Eradication, ...\n",
       "7646     [[(Following, VBG), (criticism, NN), (on, IN),...\n",
       "9326     [[(ÒThis, NN), (is, VBZ), (a, DT), (business, ...\n",
       "5496     [[(An, DT), (increase, NN), (of, IN), (vote, N...\n",
       "9803     [[(Prosecutors, NNS), (are, VBP), (seeking, VB...\n",
       "6807     [[(The, DT), (Corruption, NNP), (Eradication, ...\n",
       "9808     [[(JAKARTA, NNP), (:, :), (The, DT), (central,...\n",
       "3684     [[(The, DT), (Corruption, NNP), (Eradication, ...\n",
       "8582     [[(April, NNP), (14, CD), (,, ,), (Online, NNP...\n",
       "2723     [[(The, DT), (youth, NN), (vote, NN), (:, :), ...\n",
       "9372     [[(Trisakti, NNP), (University, NNP), (gave, V...\n",
       "4485     [[(The, DT), (corruption, NN), (scandal, NN), ...\n",
       "3193     [[(More, JJR), (than, IN), (2,000, CD), (Party...\n",
       "6657     [[(North, NNP), (Sumatra, NNP), (Governor, NNP...\n",
       "21415    [[(All, DT), (ears, NNS), (:, :), (Corruption,...\n",
       "2727     [[(Sex, NN), (slaves, NNS), (:, :), (Osaka, NN...\n",
       "4173     [[(Three, CD), (days, NNS), (after, IN), (the,...\n",
       "20       [[(A, DT), (member, NN), (of, IN), (the, DT), ...\n",
       "9615     [[(ÒHow, NN), (do, VBP), (you, PRP), (know, VB...\n",
       "21467    [[(A, DT), (political, JJ), (analyst, NN), (sa...\n",
       "                               ...                        \n",
       "9703     [[(Meat, NN), (scandal, NN), (:, :), (Juard, N...\n",
       "5639     [[(Thailand, NNP), ('s, POS), (government, NN)...\n",
       "8596     [[(Many, JJ), (candidates, NNS), (who, WP), (f...\n",
       "3995     [[(The, DT), (Indonesian, NNP), (Democratic, N...\n",
       "5898     [[(A, DT), (rift, NN), (within, IN), (the, DT)...\n",
       "9331     [[(Former, NNP), (Democratic, NNP), (Party, NN...\n",
       "5907     [[(Thailand, NNP), ('s, POS), (army, NN), (chi...\n",
       "8828     [[(Nov., NNP), (24, CD), (,, ,), (p2, NNP), (T...\n",
       "5218     [[(A, DT), (political, JJ), (analyst, NN), (fr...\n",
       "2930     [[(Indonesia's, JJ), (criminal, JJ), (justic...\n",
       "3584     [[(Many, JJ), (are, VBP), (becoming, VBG), (pe...\n",
       "5991     [[(The, DT), (night, NN), (view, NN), (of, IN)...\n",
       "4845     [[(Hot, JJ), (seat, NN), (:, :), (Golkar, NNP)...\n",
       "7543     [[(The, DT), (Indonesian, JJ), (government, NN...\n",
       "9081     [[(M., FW), (Chatib, FW), (Basri, FW), (', F...\n",
       "3767     [[(Chairperson, NNP), (of, IN), (the, DT), (De...\n",
       "21533    [[(An, DT), (Agriculture, NNP), (Ministry, NNP...\n",
       "8635     [[(It, PRP), (is, VBZ), (clear, JJ), (that, IN...\n",
       "21357    [[(To, TO), (mark, VB), (May, NNP), (Day, NNP)...\n",
       "4145     [[(JAKARTA, NNP), (:, :), (Indonesian, NNP), (...\n",
       "3734     [[(The, DT), (House, NNP), (of, IN), (Represen...\n",
       "2779     [[(As, IN), (politicians, NNS), (from, IN), (t...\n",
       "9173     [[(JAKARTA, NNP), (:, :), (The, DT), (central,...\n",
       "3334     [[(May, NNP), (the, DT), (best, JJS), (man, NN...\n",
       "7516     [[(With, IN), (just, RB), (two, CD), (years, N...\n",
       "8956     [[(I, PRP), (read, VBP), (something, NN), (tod...\n",
       "5072     [[(No, DT), (exceptions, NNS), (:, :), (A, NNP...\n",
       "21258    [[(The, DT), (Great, NNP), (Indonesia, NNP), (...\n",
       "9154     [[(The, DT), (Corruption, NNP), (Eradication, ...\n",
       "4409     [[(Corruption, NNP), (Eradication, NNP), (Comm...\n",
       "Name: POS_sents, Length: 100, dtype: object"
      ]
     },
     "execution_count": 22,
     "metadata": {},
     "output_type": "execute_result"
    }
   ],
   "source": [
    "random_P_1314['POS_sents']"
   ]
  },
  {
   "cell_type": "code",
   "execution_count": 23,
   "metadata": {},
   "outputs": [
    {
     "data": {
      "text/plain": [
       "[('Party', 228),\n",
       " ('(', 207),\n",
       " (')', 174),\n",
       " ('Jakarta', 110),\n",
       " ('Indonesia', 95),\n",
       " (\"'\\x80\\x9d\", 89),\n",
       " ('Democratic', 75),\n",
       " ('House', 67),\n",
       " ('KPK', 62),\n",
       " ('Court', 58),\n",
       " ('Golkar', 58),\n",
       " ('Jokowi', 58),\n",
       " ('President', 54),\n",
       " ('Commission', 53),\n",
       " ('Indonesian', 52),\n",
       " ('National', 51),\n",
       " ('Java', 48),\n",
       " ('Tuesday', 43),\n",
       " ('Ministry', 42),\n",
       " ('Anas', 40)]"
      ]
     },
     "execution_count": 23,
     "metadata": {},
     "output_type": "execute_result"
    }
   ],
   "source": [
    "countTarget = 'NNP'\n",
    "targetCounts = {}\n",
    "for entry in random_P_1314['POS_sents']:\n",
    "    for sentence in entry:\n",
    "        for ent, kind in sentence:\n",
    "            if kind != countTarget:\n",
    "                continue\n",
    "            elif ent in targetCounts:\n",
    "                targetCounts[ent] += 1\n",
    "            else:\n",
    "                targetCounts[ent] = 1\n",
    "sortedTargets = sorted(targetCounts.items(), key = lambda x: x[1], reverse = True)\n",
    "sortedTargets[:20]"
   ]
  },
  {
   "cell_type": "code",
   "execution_count": 24,
   "metadata": {},
   "outputs": [
    {
     "data": {
      "text/plain": [
       "[('party', 176),\n",
       " ('election', 134),\n",
       " (')', 92),\n",
       " ('government', 73),\n",
       " ('candidate', 71),\n",
       " ('chairman', 69),\n",
       " ('case', 64),\n",
       " ('Rp', 59),\n",
       " ('percent', 58),\n",
       " ('year', 58),\n",
       " ('campaign', 57),\n",
       " ('coalition', 56),\n",
       " ('court', 55),\n",
       " ('president', 54),\n",
       " ('country', 54),\n",
       " ('money', 54),\n",
       " ('state', 51),\n",
       " ('law', 51),\n",
       " ('power', 48),\n",
       " ('graft', 46)]"
      ]
     },
     "execution_count": 24,
     "metadata": {},
     "output_type": "execute_result"
    }
   ],
   "source": [
    "countTarget = 'NN'\n",
    "targetCounts = {}\n",
    "for entry in random_P_1314['POS_sents']:\n",
    "    for sentence in entry:\n",
    "        for ent, kind in sentence:\n",
    "            if kind != countTarget:\n",
    "                continue\n",
    "            elif ent in targetCounts:\n",
    "                targetCounts[ent] += 1\n",
    "            else:\n",
    "                targetCounts[ent] = 1\n",
    "sortedTargets = sorted(targetCounts.items(), key = lambda x: x[1], reverse = True)\n",
    "sortedTargets[:20]"
   ]
  },
  {
   "cell_type": "code",
   "execution_count": 94,
   "metadata": {},
   "outputs": [
    {
     "name": "stdout",
     "output_type": "stream",
     "text": [
      "{'international', 'official', 'other', \"Golkar'\\x80\\x99s\", 'original', \"Jokowi'\\x80\\x99s\", 'ongoing'}\n"
     ]
    }
   ],
   "source": [
    "NTarget = 'JJ'\n",
    "Word = 'coalition'\n",
    "NResults = set()\n",
    "for entry in random_P_1314['POS_sents']:\n",
    "    for sentence in entry:\n",
    "        for (ent1, kind1),(ent2,kind2) in zip(sentence[:-1], sentence[1:]):\n",
    "            if (kind1,ent2.lower())==(NTarget,Word):\n",
    "                NResults.add(ent1)\n",
    "            else:\n",
    "                continue\n",
    "\n",
    "print(NResults)"
   ]
  },
  {
   "cell_type": "code",
   "execution_count": 95,
   "metadata": {},
   "outputs": [
    {
     "name": "stdout",
     "output_type": "stream",
     "text": [
      "{'affiliated', 'Islamic', 'non-governmental', 'humanitarian', 'Muslim'}\n"
     ]
    }
   ],
   "source": [
    "NTarget = 'JJ'\n",
    "Word = 'organization'\n",
    "NResults = set()\n",
    "for entry in random_P_1314['POS_sents']:\n",
    "    for sentence in entry:\n",
    "        for (ent1, kind1),(ent2,kind2) in zip(sentence[:-1], sentence[1:]):\n",
    "            if (kind1,ent2.lower())==(NTarget,Word):\n",
    "                NResults.add(ent1)\n",
    "            else:\n",
    "                continue\n",
    "\n",
    "print(NResults)"
   ]
  },
  {
   "cell_type": "code",
   "execution_count": 101,
   "metadata": {},
   "outputs": [
    {
     "name": "stdout",
     "output_type": "stream",
     "text": [
      "{'Non-party', 'dedicated', 'respected', 'Egyptian', 'mainstream', 'second-largest'}\n"
     ]
    }
   ],
   "source": [
    "NTarget = 'JJ'\n",
    "Word = 'muslim'\n",
    "NResults = set()\n",
    "for entry in random_P_1314['POS_sents']:\n",
    "    for sentence in entry:\n",
    "        for (ent1, kind1),(ent2,kind2) in zip(sentence[:-1], sentence[1:]):\n",
    "            if (kind1,ent2.lower())==(NTarget,Word):\n",
    "                NResults.add(ent1)\n",
    "            else:\n",
    "                continue\n",
    "\n",
    "print(NResults)"
   ]
  },
  {
   "cell_type": "markdown",
   "metadata": {},
   "source": [
    "**2016-2017**"
   ]
  },
  {
   "cell_type": "code",
   "execution_count": 25,
   "metadata": {},
   "outputs": [
    {
     "data": {
      "text/plain": [
       "20448    [[(The, DT), (Corruption, NNP), (Eradication, ...\n",
       "24283    [[(The, DT), (mayor, NN), (of, IN), (Surakarta...\n",
       "23871    [[(South, NNP), (Korean, NNP), (President, NNP...\n",
       "24131    [[(In, IN), (the, DT), (last, JJ), (official, ...\n",
       "23310    [[(The, DT), (House, NNP), (of, IN), (Represen...\n",
       "24664    [[(Democratic, JJ), (Party, NNP), (chairman, N...\n",
       "22885    [[(Ukraine, NNP), ('s, POS), (President, NNP),...\n",
       "20527    [[(In, IN), (view, NN), (of, IN), (a, DT), (re...\n",
       "23259    [[(The, DT), (House, NNP), (of, IN), (Represen...\n",
       "22189    [[(Vietnamese, NNP), (Foreign, NNP), (Minister...\n",
       "24237    [[(The, DT), (Saudi, JJ), (kingÕs, NN), (speec...\n",
       "22138    [[(The, DT), (Corruption, NNP), (Eradication, ...\n",
       "19667    [[(The, DT), (Agriculture, NNP), (Ministry, NN...\n",
       "23741    [[(South, NNP), (Korea, NNP), ('s, POS), (pres...\n",
       "25008    [[(Pope, NNP), (Francis, NNP), ('s, POS), (emb...\n",
       "19804    [[(It, PRP), (appears, VBZ), (that, IN), (Golk...\n",
       "19369    [[(The, DT), (South, NNP), (Sulawesi, NNP), (P...\n",
       "24311    [[(The, DT), (State, NNP), (Palace, NNP), (rec...\n",
       "18761    [[(Two, CD), (weeks, NNS), (have, VBP), (passe...\n",
       "19585    [[(Airline, NN), (managements, NNS), (will, MD...\n",
       "24837    [[(The, DT), (United, NNP), (Development, NNP)...\n",
       "20614    [[(Endorsement, NN), (?, .)], [(:, :), (Chairw...\n",
       "23612    [[(One, CD), (man, NN), (was, VBD), (killed, V...\n",
       "22742    [[(The, DT), (deliberation, NN), (of, IN), (a,...\n",
       "19895    [[(The, DT), (Terrorism, NNP), (Law, NNP), (is...\n",
       "19005    [[(The, DT), (Sungaipenuh, NNP), (District, NN...\n",
       "22980    [[(Denouncing, VBG), (what, WP), (they, PRP), ...\n",
       "18672    [[(It, PRP), (doesnÕt, NN), (take, VB), (much,...\n",
       "18785    [[(The, DT), (Supreme, NNP), (Court, NNP), (ha...\n",
       "20465    [[(A, DT), (small, JJ), (outdoor, JJ), (kitche...\n",
       "                               ...                        \n",
       "24241    [[(Jakarta, NNP), (Governor, NNP), (Basuki, NN...\n",
       "19119    [[(Members, NNS), (of, IN), (the, DT), (House,...\n",
       "25066    [[(Indonesia, NNP), ('s, POS), (oldest, JJS), ...\n",
       "24751    [[(JakartaÊPolice, NN), (chief, NN), (Insp, NN...\n",
       "23624    [[(Four, CD), (political, JJ), (parties, NNS),...\n",
       "23782    [[(The, DT), (Jakarta, NNP), (Composite, NNP),...\n",
       "24840    [[(More, JJR), (than, IN), (half, DT), (way, N...\n",
       "19704    [[(P, NN), (ublicly, RB), (listed, VBN), (lend...\n",
       "23341    [[(The, DT), (appointment, NN), (of, IN), (ret...\n",
       "22764    [[(Matthew, NNP), (Pennington, NNP), (Associat...\n",
       "20223    [[(The, DT), (East, NNP), (Nusa, NNP), (Tengga...\n",
       "18597    [[(A, DT), (recent, JJ), (ruling, NN), (by, IN...\n",
       "18716    [[(The, DT), (public, NN), (may, MD), (see, VB...\n",
       "22094    [[(Joaquin, NNP), (``, ``), (El, NNP), (Chapo,...\n",
       "18613    [[(The, DT), (Corruption, NNP), (Eradication, ...\n",
       "22238    [[(The, DT), (Manado, NNP), (General, NNP), (E...\n",
       "20151    [[(Political, JJ), (and, CC), (legal, JJ), (pr...\n",
       "22782    [[(A, DT), (civil, JJ), (society, NN), (organi...\n",
       "22091    [[(Speed, VB), (it, PRP), (up, RP), (!, .)], [...\n",
       "19298    [[(The, DT), (Jakarta, NNP), (chapter, NN), (o...\n",
       "19051    [[(President, NNP), (Joko, NNP), (ÒJokowiÓ, NN...\n",
       "23465    [[(The, DT), (seven, CD), (political, JJ), (pa...\n",
       "19506    [[(Fancy, VB), (the, DT), (idea, NN), (of, IN)...\n",
       "19617    [[(Just, RB), (two, CD), (weeks, NNS), (ahead,...\n",
       "19264    [[(The, DT), (governmentÕs, NN), (announcement...\n",
       "23638    [[(Life, NNP), (has, VBZ), (been, VBN), (parti...\n",
       "20456    [[(The, DT), (central, JJ), (board, NN), (of, ...\n",
       "24180    [[(The, DT), (ruling, NN), (Indonesian, NNP), ...\n",
       "18583    [[(The, DT), (closure, NN), (of, IN), (North, ...\n",
       "18846    [[(Fourteen, CD), (candidates, NNS), (of, IN),...\n",
       "Name: POS_sents, Length: 100, dtype: object"
      ]
     },
     "execution_count": 25,
     "metadata": {},
     "output_type": "execute_result"
    }
   ],
   "source": [
    "random_P_1617['POS_sents']"
   ]
  },
  {
   "cell_type": "code",
   "execution_count": 26,
   "metadata": {},
   "outputs": [
    {
     "data": {
      "text/plain": [
       "[('(', 177),\n",
       " ('Party', 169),\n",
       " ('Jakarta', 137),\n",
       " (')', 134),\n",
       " ('House', 116),\n",
       " ('Ó', 103),\n",
       " ('Indonesia', 70),\n",
       " ('Golkar', 69),\n",
       " ('US', 57),\n",
       " ('Ahok', 51),\n",
       " ('Jokowi', 49),\n",
       " ('President', 47),\n",
       " ('National', 47),\n",
       " ('Commission', 46),\n",
       " ('KPK', 46),\n",
       " ('Indonesian', 42),\n",
       " ('China', 42),\n",
       " ('Trump', 42),\n",
       " ('Setya', 40),\n",
       " ('Monday', 39)]"
      ]
     },
     "execution_count": 26,
     "metadata": {},
     "output_type": "execute_result"
    }
   ],
   "source": [
    "countTarget = 'NNP'\n",
    "targetCounts = {}\n",
    "for entry in random_P_1617['POS_sents']:\n",
    "    for sentence in entry:\n",
    "        for ent, kind in sentence:\n",
    "            if kind != countTarget:\n",
    "                continue\n",
    "            elif ent in targetCounts:\n",
    "                targetCounts[ent] += 1\n",
    "            else:\n",
    "                targetCounts[ent] = 1\n",
    "sortedTargets = sorted(targetCounts.items(), key = lambda x: x[1], reverse = True)\n",
    "sortedTargets[:20]"
   ]
  },
  {
   "cell_type": "code",
   "execution_count": 27,
   "metadata": {},
   "outputs": [
    {
     "data": {
      "text/plain": [
       "[('party', 127),\n",
       " ('election', 121),\n",
       " ('government', 89),\n",
       " (')', 85),\n",
       " ('percent', 79),\n",
       " ('case', 64),\n",
       " ('meeting', 62),\n",
       " ('Rp', 58),\n",
       " ('Ó', 57),\n",
       " ('chairman', 55),\n",
       " ('decision', 53),\n",
       " ('year', 52),\n",
       " ('law', 51),\n",
       " ('state', 50),\n",
       " ('candidate', 47),\n",
       " ('graft', 42),\n",
       " ('president', 42),\n",
       " ('member', 42),\n",
       " ('country', 39),\n",
       " ('campaign', 38)]"
      ]
     },
     "execution_count": 27,
     "metadata": {},
     "output_type": "execute_result"
    }
   ],
   "source": [
    "countTarget = 'NN'\n",
    "targetCounts = {}\n",
    "for entry in random_P_1617['POS_sents']:\n",
    "    for sentence in entry:\n",
    "        for ent, kind in sentence:\n",
    "            if kind != countTarget:\n",
    "                continue\n",
    "            elif ent in targetCounts:\n",
    "                targetCounts[ent] += 1\n",
    "            else:\n",
    "                targetCounts[ent] = 1\n",
    "sortedTargets = sorted(targetCounts.items(), key = lambda x: x[1], reverse = True)\n",
    "sortedTargets[:20]"
   ]
  },
  {
   "cell_type": "code",
   "execution_count": 102,
   "metadata": {},
   "outputs": [
    {
     "name": "stdout",
     "output_type": "stream",
     "text": [
      "{'Indonesian', 'Êstateless', 'JakartaÕs', 'Hijab-wearing'}\n"
     ]
    }
   ],
   "source": [
    "NTarget = 'JJ'\n",
    "Word = 'muslim'\n",
    "NResults = set()\n",
    "for entry in random_P_1617['POS_sents']:\n",
    "    for sentence in entry:\n",
    "        for (ent1, kind1),(ent2,kind2) in zip(sentence[:-1], sentence[1:]):\n",
    "            if (kind1,ent2.lower())==(NTarget,Word):\n",
    "                NResults.add(ent1)\n",
    "            else:\n",
    "                continue\n",
    "\n",
    "print(NResults)"
   ]
  },
  {
   "cell_type": "code",
   "execution_count": 103,
   "metadata": {},
   "outputs": [
    {
     "name": "stdout",
     "output_type": "stream",
     "text": [
      "{'Muslim', 'Islamic'}\n"
     ]
    }
   ],
   "source": [
    "NTarget = 'JJ'\n",
    "Word = 'organization'\n",
    "NResults = set()\n",
    "for entry in random_P_1617['POS_sents']:\n",
    "    for sentence in entry:\n",
    "        for (ent1, kind1),(ent2,kind2) in zip(sentence[:-1], sentence[1:]):\n",
    "            if (kind1,ent2.lower())==(NTarget,Word):\n",
    "                NResults.add(ent1)\n",
    "            else:\n",
    "                continue\n",
    "\n",
    "print(NResults)"
   ]
  },
  {
   "cell_type": "code",
   "execution_count": 106,
   "metadata": {},
   "outputs": [
    {
     "name": "stdout",
     "output_type": "stream",
     "text": [
      "{'society', 'mass'}\n"
     ]
    }
   ],
   "source": [
    "NTarget = 'NN'\n",
    "Word = 'organization'\n",
    "NResults = set()\n",
    "for entry in random_P_1617['POS_sents']:\n",
    "    for sentence in entry:\n",
    "        for (ent1, kind1),(ent2,kind2) in zip(sentence[:-1], sentence[1:]):\n",
    "            if (kind1,ent2.lower())==(NTarget,Word):\n",
    "                NResults.add(ent1)\n",
    "            else:\n",
    "                continue\n",
    "\n",
    "print(NResults)"
   ]
  },
  {
   "cell_type": "markdown",
   "metadata": {},
   "source": [
    "<h1>SMO</h1>"
   ]
  },
  {
   "cell_type": "code",
   "execution_count": 28,
   "metadata": {
    "collapsed": true
   },
   "outputs": [],
   "source": [
    "news_SMO = newsDF\n",
    "#Break the articles into sentences.\n",
    "news_SMO['sentences'] = news_SMO['Article'].apply(lambda x: [nltk.word_tokenize(s) for s in nltk.sent_tokenize(x)])\n",
    "news_SMO.index = range(len(news_SMO) - 1, -1,-1) #Reindex to make things nice in the future"
   ]
  },
  {
   "cell_type": "code",
   "execution_count": 29,
   "metadata": {
    "collapsed": true
   },
   "outputs": [],
   "source": [
    "#Filter for articles from 2008-2009.\n",
    "news_SMO_08 = news_SMO.loc[news_SMO['Year'] == 2008]\n",
    "news_SMO_09 = news_SMO.loc[news_SMO['Year'] == 2009]\n",
    "news_SMO_0809 = pandas.concat([news_SMO_08, news_SMO_09])\n",
    "\n",
    "#Filter for articles from 2013-2014.\n",
    "news_SMO_13 = news_SMO.loc[news_SMO['Year'] == 2013]\n",
    "news_SMO_14 = news_SMO.loc[news_SMO['Year'] == 2014]\n",
    "news_SMO_1314 = pandas.concat([news_SMO_13, news_SMO_14])\n",
    "\n",
    "#Filter for articles from 2016-2017.\n",
    "news_SMO_16 = news_SMO.loc[news_SMO['Year'] == 2016]\n",
    "news_SMO_17 = news_SMO.loc[news_SMO['Year'] == 2017]\n",
    "news_SMO_1617 = pandas.concat([news_SMO_16, news_SMO_17])"
   ]
  },
  {
   "cell_type": "code",
   "execution_count": 30,
   "metadata": {
    "collapsed": true
   },
   "outputs": [],
   "source": [
    "#Sample a random 100 articles from 2008-2009.\n",
    "random_SMO_0809 = news_SMO_0809.sample(n=100)\n",
    "\n",
    "#Sample a random 100 articles from 2013-2014.\n",
    "random_SMO_1314 = news_SMO_1314.sample(n=100)\n",
    "\n",
    "#Sample a random 100 articles from 2016-2017.\n",
    "random_SMO_1617 = news_SMO_1617.sample(n=100)"
   ]
  },
  {
   "cell_type": "code",
   "execution_count": 32,
   "metadata": {
    "collapsed": true
   },
   "outputs": [],
   "source": [
    "#Apply POS tags for 2008-2009.\n",
    "random_SMO_0809['POS_sents'] = random_SMO_0809['sentences'].apply(lambda x: stanford.postTagger.tag_sents(x))\n",
    "\n",
    "#Apply POS tags for 2013-2014.\n",
    "random_SMO_1314['POS_sents'] = random_SMO_1314['sentences'].apply(lambda x: stanford.postTagger.tag_sents(x))\n",
    "\n",
    "#Apply POS tags for 2016-2017.\n",
    "random_SMO_1617['POS_sents'] = random_SMO_1617['sentences'].apply(lambda x: stanford.postTagger.tag_sents(x))"
   ]
  },
  {
   "cell_type": "markdown",
   "metadata": {},
   "source": [
    "**2008-2009**"
   ]
  },
  {
   "cell_type": "code",
   "execution_count": 44,
   "metadata": {},
   "outputs": [
    {
     "data": {
      "text/plain": [
       "1412    [[(Islamic, JJ), (scholars, NNS), (blamed, VBD...\n",
       "1430    [[(Leaders, NNS), (of, IN), (Indonesia, NNP), ...\n",
       "1315    [[(A, DT), (friend, NN), (sent, VBD), (a, DT),...\n",
       "496     [[(Threatened, VBN), (heritage, NN), (:, :), (...\n",
       "1396    [[(Unlike, IN), (the, DT), (majority, NN), (,,...\n",
       "1354    [[(For, IN), (peaceful, JJ), (election, NN), (...\n",
       "587     [[(The, DT), (local, JJ), (chapter, NN), (of, ...\n",
       "1407    [[(The, DT), (two, CD), (contending, VBG), (pa...\n",
       "1422    [[(It, PRP), (has, VBZ), (been, VBN), (said, V...\n",
       "1416    [[(Heading, VBG), (into, IN), (Wednesday, NNP)...\n",
       "1369    [[(Residents, NNS), (of, IN), (Kemang, NNP), (...\n",
       "1359    [[(After, IN), (a, DT), (series, NN), (of, IN)...\n",
       "1370    [[(The, DT), (Indonesian, NNP), (Ulema, NNP), ...\n",
       "580     [[(Human, JJ), (rights, NNS), (advocates, NNS)...\n",
       "1353    [[(High-profile, JJ), (meet, VBP), (:, :), (Pr...\n",
       "497     [[(Religious, JJ), (intolerance, NN), (is, VBZ...\n",
       "1424    [[(Post, NNP), (Sept., NNP), (11, CD), (,, ,),...\n",
       "493     [[(Lutfi, NNP), (Hakim, NNP), (:, :), (JP/R, N...\n",
       "1340    [[(After, IN), (being, VBG), (pressured, VBN),...\n",
       "1303    [[(Nahdlatul, NNP), (Ulama, NNP), ((, NNP), (N...\n",
       "1331    [[(Youth, NN), (members, NNS), (of, IN), (Nahd...\n",
       "597     [[(The, DT), (government, NN), (is, VBZ), (con...\n",
       "561     [[(Should, MD), (the, DT), (government, NN), (...\n",
       "1429    [[(A, DT), (nationalist, JJ), (agenda, NN), (a...\n",
       "554     [[(Recently, RB), (,, ,), (I, PRP), (stayed, V...\n",
       "1327    [[(I, PRP), (refer, VBP), (to, TO), (``, ``), ...\n",
       "490     [[(While, IN), (the, DT), (lurid, JJ), (indict...\n",
       "1388    [[(A, DT), (vote, NN), (rerun, NN), (is, VBZ),...\n",
       "564     [[(The, DT), (FPI, NNP), (are, VBP), (a, DT), ...\n",
       "558     [[(The, DT), (leader, NN), (of, IN), (the, DT)...\n",
       "                              ...                        \n",
       "1448    [[(Political, JJ), (parties, NNS), (in, IN), (...\n",
       "1313    [[(JAKARTA, NNP), (:, :), (Nahdlatul, NNP), (U...\n",
       "584     [[(The, DT), (government, NN), (says, VBZ), (n...\n",
       "537     [[(Yogyakarta, NNP), (Governor, NNP), (Sri, NN...\n",
       "598     [[(ENOUGH, NN), (IS, VBZ), (ENOUGH, NN), (:, :...\n",
       "541     [[(The, DT), (Betawi, NNP), (Brotherhood, NNP)...\n",
       "1387    [[(The, DT), (government, NN), (has, VBZ), (as...\n",
       "1391    [[(The, DT), (Prosperous, NNP), (and, CC), (Ju...\n",
       "1317    [[(Indonesia, NNP), ('s, POS), (largest, JJS),...\n",
       "549     [[(Moderate, JJ), (Muslim, JJ), (organizations...\n",
       "1299    [[(Criticism, NN), (of, IN), (entertainment, N...\n",
       "1318    [[(Munjid, NNP), ('s, POS), (article, NN), (``...\n",
       "1321    [[(SURABAYA, NNP), (:, :), (The, DT), (executi...\n",
       "592     [[(ANTI, NNP), (VIOLANCE, NNP), (:, :), (Demon...\n",
       "510     [[(Last, JJ), (month, NN), (Bambang, NNP), (He...\n",
       "509     [[(BEHIND, NNP), (BARS, NNP), (:, :), (Islam, ...\n",
       "557     [[(If, IN), (Indonesia, NNP), ('s, POS), (arti...\n",
       "1350    [[(The, DT), (four, CD), (elected, VBN), (cand...\n",
       "1431    [[(Violence, NN), (by, IN), (members, NNS), (o...\n",
       "533     [[(I, PRP), (agree, VBP), (with, IN), (Barker,...\n",
       "1335    [[(Finding, VBG), (a, DT), (way, NN), (out, IN...\n",
       "1310    [[(We, PRP), (can, MD), (say, VB), (that, IN),...\n",
       "1332    [[(Prominent, JJ), (Islamic, JJ), (scholars, N...\n",
       "1427    [[(Local, NNP), (Islamic, NNP), (organizations...\n",
       "1311    [[(``, ``), (I, PRP), (will, MD), (ensure, VB)...\n",
       "1322    [[(New, NNP), (York, NNP), (City, NNP), (,, ,)...\n",
       "1347    [[(On, IN), (the, DT), (heels, NNS), (of, IN),...\n",
       "1302    [[(Abaya, NNP), (,, ,), (burqa, NN), (,, ,), (...\n",
       "559     [[(STOP, NNP), (SIGN, NNP), (:, :), (Members, ...\n",
       "531     [[(JAKARTA, NNP), (:, :), (Islam, NNP), (Defen...\n",
       "Name: POS_sents, Length: 100, dtype: object"
      ]
     },
     "execution_count": 44,
     "metadata": {},
     "output_type": "execute_result"
    }
   ],
   "source": [
    "random_SMO_0809['POS_sents']"
   ]
  },
  {
   "cell_type": "code",
   "execution_count": 45,
   "metadata": {},
   "outputs": [
    {
     "data": {
      "text/plain": [
       "[('(', 255),\n",
       " (')', 243),\n",
       " ('Islam', 214),\n",
       " ('NU', 213),\n",
       " ('Jakarta', 202),\n",
       " ('FPI', 169),\n",
       " ('Indonesia', 158),\n",
       " ('Java', 96),\n",
       " ('National', 89),\n",
       " ('Ahmadiyah', 87),\n",
       " ('Party', 86),\n",
       " ('Muhammadiyah', 68),\n",
       " ('Ulama', 65),\n",
       " ('Dur', 64),\n",
       " ('Yudhoyono', 61),\n",
       " ('Gus', 60),\n",
       " ('President', 58),\n",
       " ('West', 56),\n",
       " ('MUI', 53),\n",
       " ('Central', 52)]"
      ]
     },
     "execution_count": 45,
     "metadata": {},
     "output_type": "execute_result"
    }
   ],
   "source": [
    "countTarget = 'NNP'\n",
    "targetCounts = {}\n",
    "for entry in random_SMO_0809['POS_sents']:\n",
    "    for sentence in entry:\n",
    "        for ent, kind in sentence:\n",
    "            if kind != countTarget:\n",
    "                continue\n",
    "            elif ent in targetCounts:\n",
    "                targetCounts[ent] += 1\n",
    "            else:\n",
    "                targetCounts[ent] = 1\n",
    "sortedTargets = sorted(targetCounts.items(), key = lambda x: x[1], reverse = True)\n",
    "sortedTargets[:20]"
   ]
  },
  {
   "cell_type": "code",
   "execution_count": 111,
   "metadata": {},
   "outputs": [
    {
     "data": {
      "text/plain": [
       "[('government', 215),\n",
       " ('police', 137),\n",
       " ('country', 111),\n",
       " (')', 111),\n",
       " ('violence', 90),\n",
       " ('organization', 73),\n",
       " ('group', 73),\n",
       " ('law', 71),\n",
       " ('chairman', 70),\n",
       " ('attack', 67),\n",
       " ('city', 61),\n",
       " ('time', 57),\n",
       " ('religion', 57),\n",
       " ('world', 55),\n",
       " ('state', 55),\n",
       " ('election', 53),\n",
       " ('leader', 50),\n",
       " ('president', 49),\n",
       " ('percent', 49),\n",
       " ('support', 48)]"
      ]
     },
     "execution_count": 111,
     "metadata": {},
     "output_type": "execute_result"
    }
   ],
   "source": [
    "countTarget = 'NN'\n",
    "targetCounts = {}\n",
    "for entry in random_SMO_0809['POS_sents']:\n",
    "    for sentence in entry:\n",
    "        for ent, kind in sentence:\n",
    "            if kind != countTarget:\n",
    "                continue\n",
    "            elif ent in targetCounts:\n",
    "                targetCounts[ent] += 1\n",
    "            else:\n",
    "                targetCounts[ent] = 1\n",
    "sortedTargets = sorted(targetCounts.items(), key = lambda x: x[1], reverse = True)\n",
    "sortedTargets[:20]"
   ]
  },
  {
   "cell_type": "code",
   "execution_count": 47,
   "metadata": {},
   "outputs": [
    {
     "name": "stdout",
     "output_type": "stream",
     "text": [
      "{'Jakarta', 'Monas'}\n"
     ]
    }
   ],
   "source": [
    "NTarget = 'NNP'\n",
    "Word = 'violence'\n",
    "NResults = set()\n",
    "for entry in random_SMO_0809['POS_sents']:\n",
    "    for sentence in entry:\n",
    "        for (ent1, kind1),(ent2,kind2) in zip(sentence[:-1], sentence[1:]):\n",
    "            if (kind1,ent2.lower())==(NTarget,Word):\n",
    "                NResults.add(ent1)\n",
    "            else:\n",
    "                continue\n",
    "\n",
    "print(NResults)"
   ]
  },
  {
   "cell_type": "code",
   "execution_count": 48,
   "metadata": {},
   "outputs": [
    {
     "name": "stdout",
     "output_type": "stream",
     "text": [
      "{'violent', 'complex', 'Muslim', 'Islamic'}\n"
     ]
    }
   ],
   "source": [
    "NTarget = 'JJ'\n",
    "Word = 'organization'\n",
    "NResults = set()\n",
    "for entry in random_SMO_0809['POS_sents']:\n",
    "    for sentence in entry:\n",
    "        for (ent1, kind1),(ent2,kind2) in zip(sentence[:-1], sentence[1:]):\n",
    "            if (kind1,ent2.lower())==(NTarget,Word):\n",
    "                NResults.add(ent1)\n",
    "            else:\n",
    "                continue\n",
    "\n",
    "print(NResults)"
   ]
  },
  {
   "cell_type": "code",
   "execution_count": 76,
   "metadata": {},
   "outputs": [
    {
     "name": "stdout",
     "output_type": "stream",
     "text": [
      "{'female', 'potential', 'ineligible', 'eligible', 'underage', 'unregistered', 'Javanese', 'multiple-registered', 'Indonesian', 'many'}\n"
     ]
    }
   ],
   "source": [
    "NTarget = 'JJ'\n",
    "Word = 'voters'\n",
    "NResults = set()\n",
    "for entry in random_SMO_0809['POS_sents']:\n",
    "    for sentence in entry:\n",
    "        for (ent1, kind1),(ent2,kind2) in zip(sentence[:-1], sentence[1:]):\n",
    "            if (kind1,ent2.lower())==(NTarget,Word):\n",
    "                NResults.add(ent1)\n",
    "            else:\n",
    "                continue\n",
    "\n",
    "print(NResults)"
   ]
  },
  {
   "cell_type": "code",
   "execution_count": 77,
   "metadata": {},
   "outputs": [
    {
     "name": "stdout",
     "output_type": "stream",
     "text": [
      "{'Islamic-based', 'corrupt', 'clever', 'Muslim', 'personal', 'unclear', 'own', 'local', 'short-term', 'social', 'Islamist', 'Major', 'powerful', 'aforementioned', 'moderate', 'different', 'global', 'major', 'legitimate', 'coherent', 'Other', 'certain', 'current'}\n"
     ]
    }
   ],
   "source": [
    "NTarget = 'JJ'\n",
    "Word = 'political'\n",
    "NResults = set()\n",
    "for entry in random_SMO_0809['POS_sents']:\n",
    "    for sentence in entry:\n",
    "        for (ent1, kind1),(ent2,kind2) in zip(sentence[:-1], sentence[1:]):\n",
    "            if (kind1,ent2.lower())==(NTarget,Word):\n",
    "                NResults.add(ent1)\n",
    "            else:\n",
    "                continue\n",
    "\n",
    "print(NResults)"
   ]
  },
  {
   "cell_type": "code",
   "execution_count": 78,
   "metadata": {},
   "outputs": [
    {
     "name": "stdout",
     "output_type": "stream",
     "text": [
      "{'legislative', 'peaceful', 'presidential', 'fair', 'local', 'general', 'other', 'near', 'gubernatorial', 'possible', 'recent', 'pronounced'}\n"
     ]
    }
   ],
   "source": [
    "NTarget = 'JJ'\n",
    "Word = 'election'\n",
    "NResults = set()\n",
    "for entry in random_SMO_0809['POS_sents']:\n",
    "    for sentence in entry:\n",
    "        for (ent1, kind1),(ent2,kind2) in zip(sentence[:-1], sentence[1:]):\n",
    "            if (kind1,ent2.lower())==(NTarget,Word):\n",
    "                NResults.add(ent1)\n",
    "            else:\n",
    "                continue\n",
    "\n",
    "print(NResults)"
   ]
  },
  {
   "cell_type": "code",
   "execution_count": 79,
   "metadata": {},
   "outputs": [
    {
     "name": "stdout",
     "output_type": "stream",
     "text": [
      "{'strong', 'similar'}\n"
     ]
    }
   ],
   "source": [
    "NTarget = 'JJ'\n",
    "Word = 'protest'\n",
    "NResults = set()\n",
    "for entry in random_SMO_0809['POS_sents']:\n",
    "    for sentence in entry:\n",
    "        for (ent1, kind1),(ent2,kind2) in zip(sentence[:-1], sentence[1:]):\n",
    "            if (kind1,ent2.lower())==(NTarget,Word):\n",
    "                NResults.add(ent1)\n",
    "            else:\n",
    "                continue\n",
    "\n",
    "print(NResults)"
   ]
  },
  {
   "cell_type": "code",
   "execution_count": 80,
   "metadata": {},
   "outputs": [
    {
     "name": "stdout",
     "output_type": "stream",
     "text": [
      "{'few'}\n"
     ]
    }
   ],
   "source": [
    "NTarget = 'JJ'\n",
    "Word = 'radical'\n",
    "NResults = set()\n",
    "for entry in random_SMO_0809['POS_sents']:\n",
    "    for sentence in entry:\n",
    "        for (ent1, kind1),(ent2,kind2) in zip(sentence[:-1], sentence[1:]):\n",
    "            if (kind1,ent2.lower())==(NTarget,Word):\n",
    "                NResults.add(ent1)\n",
    "            else:\n",
    "                continue\n",
    "\n",
    "print(NResults)"
   ]
  },
  {
   "cell_type": "code",
   "execution_count": 93,
   "metadata": {},
   "outputs": [
    {
     "name": "stdout",
     "output_type": "stream",
     "text": [
      "{'Awakening', 'Patriot', 'Golkar', 'Communist', 'Movement', 'NU', 'Conscience', 'Hanura', 'PKS', 'Sun', 'Justice', 'Development', 'Mandate', 'Democratic', ')'}\n"
     ]
    }
   ],
   "source": [
    "NTarget = 'NNP'\n",
    "Word = 'party'\n",
    "NResults = set()\n",
    "for entry in random_SMO_0809['POS_sents']:\n",
    "    for sentence in entry:\n",
    "        for (ent1, kind1),(ent2,kind2) in zip(sentence[:-1], sentence[1:]):\n",
    "            if (kind1,ent2.lower())==(NTarget,Word):\n",
    "                NResults.add(ent1)\n",
    "            else:\n",
    "                continue\n",
    "\n",
    "print(NResults)"
   ]
  },
  {
   "cell_type": "markdown",
   "metadata": {},
   "source": [
    "**2013-2014**"
   ]
  },
  {
   "cell_type": "code",
   "execution_count": 49,
   "metadata": {},
   "outputs": [
    {
     "data": {
      "text/plain": [
       "748     [[(A, DT), (group, NN), (of, IN), (academics, ...\n",
       "199     [[(Two, CD), (groups, NNS), (in, IN), (Jakarta...\n",
       "40      [[(Pros, NNS), (and, CC), (cons, NNS), (over, ...\n",
       "101     [[(The, DT), (Jakarta, NNP), (Police, NNP), (a...\n",
       "36      [[(Cabinet, NNP), (Secretary, NNP), (Dipo, NNP...\n",
       "38      [[(Chairman, NN), (of, IN), (the, DT), (hard-l...\n",
       "1067    [[(Nahdlatul, NNP), (Ulama, NNP), (,, ,), (the...\n",
       "188     [[(March, NNP), (24, CD), (,, ,), (Online, NNP...\n",
       "181     [[(Jay, NNP), (Rayner, NNP), ('s, POS), (amusi...\n",
       "1100    [[(West, NNP), (Java, NNP), (and, CC), (East, ...\n",
       "1049    [[(Rusdi, NNP), (Kirana, NNP), ('s, POS), (cla...\n",
       "65      [[(The, DT), (ongoing, JJ), (friction, NN), (b...\n",
       "1075    [[(The, DT), (marketing, NN), (arm, NN), (of, ...\n",
       "83      [[(Police, NNS), (have, VBP), (arrested, VBN),...\n",
       "110     [[(Not, RB), (gon, VBG), (na, TO), (take, VB),...\n",
       "1082    [[(The, DT), (country, NN), ('s, POS), (larges...\n",
       "1099    [[(Voting, NNP), (for, IN), (number, NN), (2, ...\n",
       "70      [[(Restraint, NN), (is, VBZ), (being, VBG), (u...\n",
       "48      [[(Thousands, NNS), (of, IN), (Islam, NNP), (D...\n",
       "26      [[(A, DT), (riot, NN), (broke, VBD), (out, RP)...\n",
       "1070    [[(A, DT), (coalition, NN), (claiming, VBG), (...\n",
       "608     [[(I, PRP), (refer, VBP), (to, TO), (the, DT),...\n",
       "0       [[(With, IN), (their, PRP$), (violent, JJ), (p...\n",
       "108     [[(The, DT), (Jakarta, NNP), (Police, NNP), (s...\n",
       "112     [[(Jakartans, NNPS), (', POS), (sense, NN), (o...\n",
       "25      [[(Old, JJ), (or, CC), (new, JJ), (:, :), (Mem...\n",
       "942     [[(The, DT), (Poso, NNP), (chapter, NN), (of, ...\n",
       "74      [[(Religious, JJ), (intolerance, NN), (is, VBZ...\n",
       "195     [[(With, IN), (more, JJR), (twists, NNS), (and...\n",
       "1146    [[(The, DT), (large, JJ), (parties, NNS), (had...\n",
       "                              ...                        \n",
       "609     [[(Your, PRP$), (comments, NNS), (on, IN), (th...\n",
       "121     [[(The, DT), (MAARIF, NNP), (Institute, NNP), ...\n",
       "1145    [[(The, DT), (people, NNS), (have, VBP), (spok...\n",
       "1095    [[(Nahdlatul, NNP), (Ulama, NNP), (executive, ...\n",
       "936     [[(After, IN), (receiving, VBG), (more, JJR), ...\n",
       "604     [[(As, IN), (a, DT), (starry-eyed, JJ), (stude...\n",
       "172     [[(The, DT), (police, NN), ('s, POS), (promise...\n",
       "1065    [[(Speaking, VBG), (in, IN), (a, DT), (post-el...\n",
       "1102    [[(Forging, VBG), (ties, NNS), (:, :), (Presid...\n",
       "158     [[(Dec., NNP), (13, CD), (,, ,), (Online, NNP)...\n",
       "81      [[(Ghost, NN), (town, NN), (:, :), (Scores, NN...\n",
       "1046    [[(Political, JJ), (parties, NNS), (are, VBP),...\n",
       "51      [[(Man, NN), (on, IN), (a, DT), (mission, NN),...\n",
       "27      [[(A, DT), (riot, NN), (broke, VBD), (out, RP)...\n",
       "161     [[(Oct., NNP), (25, CD), (,, ,), (p4, NN), (Ho...\n",
       "1117    [[(Quest, NNP), (for, IN), (peace, NN), (:, :)...\n",
       "182     [[(June, NNP), (11, CD), (,, ,), (p2, NN), (Th...\n",
       "1069    [[(The, DT), (legislative, JJ), (election, NN)...\n",
       "91      [[(The, DT), (hardline, JJ), (Islam, NNP), (De...\n",
       "95      [[(The, DT), (Jakarta, NNP), (Police, NNP), (a...\n",
       "86      [[(A, DT), (police, NN), (official, NN), (said...\n",
       "37      [[(The, DT), (South, NNP), (Sulawesi, NNP), (P...\n",
       "156     [[(J-Pop, NN), (still, RB), (shines, VBZ), (in...\n",
       "75      [[(When, WRB), (in, IN), (Rome, NNP), (:, :), ...\n",
       "92      [[(The, DT), (Islam, NNP), (Defenders, NNS), (...\n",
       "35      [[(Dozens, NNS), (of, IN), (people, NNS), (gro...\n",
       "73      [[(Smear, JJ), (campaign, NN), (:, :), (Electi...\n",
       "1119    [[(Goodbye, NNP), (freedom, NN), (:, :), (:, :...\n",
       "1073    [[(The, DT), (National, NNP), (Police, NNP), (...\n",
       "160     [[(Joyful, JJ), (images, NNS), (of, IN), (Yogy...\n",
       "Name: POS_sents, Length: 100, dtype: object"
      ]
     },
     "execution_count": 49,
     "metadata": {},
     "output_type": "execute_result"
    }
   ],
   "source": [
    "random_SMO_1314['POS_sents']"
   ]
  },
  {
   "cell_type": "code",
   "execution_count": 50,
   "metadata": {},
   "outputs": [
    {
     "data": {
      "text/plain": [
       "[('FPI', 283),\n",
       " ('Jakarta', 216),\n",
       " ('(', 212),\n",
       " (')', 192),\n",
       " ('NU', 175),\n",
       " ('Islam', 141),\n",
       " ('Indonesia', 136),\n",
       " ('Java', 132),\n",
       " ('Party', 131),\n",
       " ('Jokowi', 104),\n",
       " ('Central', 101),\n",
       " ('Prabowo', 86),\n",
       " ('Ahok', 85),\n",
       " ('Police', 65),\n",
       " ('National', 61),\n",
       " ('Yudhoyono', 56),\n",
       " ('President', 52),\n",
       " ('Friday', 51),\n",
       " ('Thursday', 44),\n",
       " ('Ulama', 44)]"
      ]
     },
     "execution_count": 50,
     "metadata": {},
     "output_type": "execute_result"
    }
   ],
   "source": [
    "countTarget = 'NNP'\n",
    "targetCounts = {}\n",
    "for entry in random_SMO_1314['POS_sents']:\n",
    "    for sentence in entry:\n",
    "        for ent, kind in sentence:\n",
    "            if kind != countTarget:\n",
    "                continue\n",
    "            elif ent in targetCounts:\n",
    "                targetCounts[ent] += 1\n",
    "            else:\n",
    "                targetCounts[ent] = 1\n",
    "sortedTargets = sorted(targetCounts.items(), key = lambda x: x[1], reverse = True)\n",
    "sortedTargets[:20]"
   ]
  },
  {
   "cell_type": "code",
   "execution_count": 51,
   "metadata": {},
   "outputs": [
    {
     "data": {
      "text/plain": [
       "[('chairman', 105),\n",
       " ('group', 102),\n",
       " ('country', 102),\n",
       " ('party', 99),\n",
       " ('organization', 93),\n",
       " ('police', 93),\n",
       " ('election', 86),\n",
       " (')', 80),\n",
       " ('support', 80),\n",
       " ('percent', 72),\n",
       " ('law', 67),\n",
       " ('governor', 65),\n",
       " ('Front', 64),\n",
       " ('violence', 64),\n",
       " ('government', 60),\n",
       " ('time', 52),\n",
       " ('campaign', 52),\n",
       " ('state', 48),\n",
       " ('candidate', 48),\n",
       " ('head', 46)]"
      ]
     },
     "execution_count": 51,
     "metadata": {},
     "output_type": "execute_result"
    }
   ],
   "source": [
    "countTarget = 'NN'\n",
    "targetCounts = {}\n",
    "for entry in random_SMO_1314['POS_sents']:\n",
    "    for sentence in entry:\n",
    "        for ent, kind in sentence:\n",
    "            if kind != countTarget:\n",
    "                continue\n",
    "            elif ent in targetCounts:\n",
    "                targetCounts[ent] += 1\n",
    "            else:\n",
    "                targetCounts[ent] = 1\n",
    "sortedTargets = sorted(targetCounts.items(), key = lambda x: x[1], reverse = True)\n",
    "sortedTargets[:20]"
   ]
  },
  {
   "cell_type": "code",
   "execution_count": 52,
   "metadata": {},
   "outputs": [
    {
     "name": "stdout",
     "output_type": "stream",
     "text": [
      "{'such', 'further', 'other', 'Yogyakarta-based', 'many'}\n"
     ]
    }
   ],
   "source": [
    "NTarget = 'JJ'\n",
    "Word = 'radical'\n",
    "NResults = set()\n",
    "for entry in random_SMO_1314['POS_sents']:\n",
    "    for sentence in entry:\n",
    "        for (ent1, kind1),(ent2,kind2) in zip(sentence[:-1], sentence[1:]):\n",
    "            if (kind1,ent2.lower())==(NTarget,Word):\n",
    "                NResults.add(ent1)\n",
    "            else:\n",
    "                continue\n",
    "\n",
    "print(NResults)"
   ]
  },
  {
   "cell_type": "code",
   "execution_count": 53,
   "metadata": {},
   "outputs": [
    {
     "name": "stdout",
     "output_type": "stream",
     "text": [
      "{'vigilante', 'based', 'religious', 'obvious', 'unnecessary', 'religious-based', 'senseless', 'sexual', 'equal', 'sectarian', 'National', 'recent', 'religion-based'}\n"
     ]
    }
   ],
   "source": [
    "NTarget = 'JJ'\n",
    "Word = 'violence'\n",
    "NResults = set()\n",
    "for entry in random_SMO_1314['POS_sents']:\n",
    "    for sentence in entry:\n",
    "        for (ent1, kind1),(ent2,kind2) in zip(sentence[:-1], sentence[1:]):\n",
    "            if (kind1,ent2.lower())==(NTarget,Word):\n",
    "                NResults.add(ent1)\n",
    "            else:\n",
    "                continue\n",
    "\n",
    "print(NResults)"
   ]
  },
  {
   "cell_type": "code",
   "execution_count": 54,
   "metadata": {},
   "outputs": [
    {
     "name": "stdout",
     "output_type": "stream",
     "text": [
      "{'Muslim'}\n"
     ]
    }
   ],
   "source": [
    "NTarget = 'JJ'\n",
    "Word = 'vigilante'\n",
    "NResults = set()\n",
    "for entry in random_SMO_1314['POS_sents']:\n",
    "    for sentence in entry:\n",
    "        for (ent1, kind1),(ent2,kind2) in zip(sentence[:-1], sentence[1:]):\n",
    "            if (kind1,ent2.lower())==(NTarget,Word):\n",
    "                NResults.add(ent1)\n",
    "            else:\n",
    "                continue\n",
    "\n",
    "print(NResults)"
   ]
  },
  {
   "cell_type": "code",
   "execution_count": 63,
   "metadata": {},
   "outputs": [
    {
     "name": "stdout",
     "output_type": "stream",
     "text": [
      "{'FPI'}\n"
     ]
    }
   ],
   "source": [
    "NTarget = 'NNP'\n",
    "Word = 'violence'\n",
    "NResults = set()\n",
    "for entry in random_SMO_1314['POS_sents']:\n",
    "    for sentence in entry:\n",
    "        for (ent1, kind1),(ent2,kind2) in zip(sentence[:-1], sentence[1:]):\n",
    "            if (kind1,ent2.lower())==(NTarget,Word):\n",
    "                NResults.add(ent1)\n",
    "            else:\n",
    "                continue\n",
    "\n",
    "print(NResults)"
   ]
  },
  {
   "cell_type": "code",
   "execution_count": 64,
   "metadata": {},
   "outputs": [
    {
     "name": "stdout",
     "output_type": "stream",
     "text": [
      "{'Mass', ')'}\n"
     ]
    }
   ],
   "source": [
    "NTarget = 'NNP'\n",
    "Word = 'organization'\n",
    "NResults = set()\n",
    "for entry in random_SMO_1314['POS_sents']:\n",
    "    for sentence in entry:\n",
    "        for (ent1, kind1),(ent2,kind2) in zip(sentence[:-1], sentence[1:]):\n",
    "            if (kind1,ent2.lower())==(NTarget,Word):\n",
    "                NResults.add(ent1)\n",
    "            else:\n",
    "                continue\n",
    "\n",
    "print(NResults)"
   ]
  },
  {
   "cell_type": "code",
   "execution_count": 65,
   "metadata": {},
   "outputs": [
    {
     "name": "stdout",
     "output_type": "stream",
     "text": [
      "{'modernist', 'Islamic', 'religious', 'radical', 'legal', 'other', 'credible', 'hard-line', 'social', 'non-profit', 'Muslim'}\n"
     ]
    }
   ],
   "source": [
    "NTarget = 'JJ'\n",
    "Word = 'organization'\n",
    "NResults = set()\n",
    "for entry in random_SMO_1314['POS_sents']:\n",
    "    for sentence in entry:\n",
    "        for (ent1, kind1),(ent2,kind2) in zip(sentence[:-1], sentence[1:]):\n",
    "            if (kind1,ent2.lower())==(NTarget,Word):\n",
    "                NResults.add(ent1)\n",
    "            else:\n",
    "                continue\n",
    "\n",
    "print(NResults)"
   ]
  },
  {
   "cell_type": "code",
   "execution_count": 74,
   "metadata": {},
   "outputs": [
    {
     "name": "stdout",
     "output_type": "stream",
     "text": [
      "{'legislative', 'direct', 'presidential', 'general', 'previous', 'effective', 'upcoming', 'current'}\n"
     ]
    }
   ],
   "source": [
    "NTarget = 'JJ'\n",
    "Word = 'election'\n",
    "NResults = set()\n",
    "for entry in random_SMO_1314['POS_sents']:\n",
    "    for sentence in entry:\n",
    "        for (ent1, kind1),(ent2,kind2) in zip(sentence[:-1], sentence[1:]):\n",
    "            if (kind1,ent2.lower())==(NTarget,Word):\n",
    "                NResults.add(ent1)\n",
    "            else:\n",
    "                continue\n",
    "\n",
    "print(NResults)"
   ]
  },
  {
   "cell_type": "code",
   "execution_count": 75,
   "metadata": {},
   "outputs": [
    {
     "name": "stdout",
     "output_type": "stream",
     "text": [
      "{'registered', 'undecided', 'young', 'religious', 'new', 'potential', 'eligible', 'Disillusioned', 'Muslim'}\n"
     ]
    }
   ],
   "source": [
    "NTarget = 'JJ'\n",
    "Word = 'voters'\n",
    "NResults = set()\n",
    "for entry in random_SMO_1314['POS_sents']:\n",
    "    for sentence in entry:\n",
    "        for (ent1, kind1),(ent2,kind2) in zip(sentence[:-1], sentence[1:]):\n",
    "            if (kind1,ent2.lower())==(NTarget,Word):\n",
    "                NResults.add(ent1)\n",
    "            else:\n",
    "                continue\n",
    "\n",
    "print(NResults)"
   ]
  },
  {
   "cell_type": "code",
   "execution_count": 92,
   "metadata": {},
   "outputs": [
    {
     "name": "stdout",
     "output_type": "stream",
     "text": [
      "{'Awakening', 'Star', 'Golkar', 'Communist', 'Unity', 'Hanura', 'Masyumi', 'Gerindra', 'Justice', 'Mandate', 'NasDem', 'Development', 'Democratic'}\n"
     ]
    }
   ],
   "source": [
    "NTarget = 'NNP'\n",
    "Word = 'party'\n",
    "NResults = set()\n",
    "for entry in random_SMO_1314['POS_sents']:\n",
    "    for sentence in entry:\n",
    "        for (ent1, kind1),(ent2,kind2) in zip(sentence[:-1], sentence[1:]):\n",
    "            if (kind1,ent2.lower())==(NTarget,Word):\n",
    "                NResults.add(ent1)\n",
    "            else:\n",
    "                continue\n",
    "\n",
    "print(NResults)"
   ]
  },
  {
   "cell_type": "markdown",
   "metadata": {},
   "source": [
    "**2016-2017**"
   ]
  },
  {
   "cell_type": "code",
   "execution_count": 55,
   "metadata": {},
   "outputs": [
    {
     "data": {
      "text/plain": [
       "766     [[(Taman, NNP), (Ismail, NNP), (Marzuki, NNP),...\n",
       "759     [[(The, DT), (leader, NN), (of, IN), (the, DT)...\n",
       "1479    [[(The, DT), (country, NN), ('s, POS), (two, C...\n",
       "723     [[(On, IN), (the, DT), (fray, NN), (:, :), (St...\n",
       "1653    [[(Thousands, NNS), (of, IN), (police, NN), (a...\n",
       "1719    [[(The, DT), (two, CD), (largest, JJS), (Islam...\n",
       "1522    [[(The, DT), (Jakarta, NNP), (gubernatorial, J...\n",
       "1645    [[(Indonesia, NNP), ('s, POS), (largest, JJS),...\n",
       "1619    [[((, FW), (JP/Hans, FW), (David, NNP), (Tampu...\n",
       "924     [[(With, IN), (social, JJ), (media, NNS), (inc...\n",
       "728     [[(The, DT), (Islam, NNP), (Defenders, NNS), (...\n",
       "1696    [[(With, IN), (local, JJ), (hard-line, JJ), (I...\n",
       "650     [[(Face, NNP), (to, TO), (face, VB), (:, :), (...\n",
       "787     [[(Pre-existing, JJ), (inter-ethnic, JJ), (ten...\n",
       "627     [[(Children, NNS), (are, VBP), (precious, JJ),...\n",
       "1566    [[(Thousands, NNS), (of, IN), (police, NN), (a...\n",
       "1470    [[(At, IN), (ease, NN), (:, :), (Hasan, NNP), ...\n",
       "614     [[(The, DT), (year, NN), (of, IN), (2017, CD),...\n",
       "868     [[(The, DT), (government, NN), (plans, VBZ), (...\n",
       "1609    [[(Shinta, NNP), (Nuriyah, NNP), (Wahid, NNP),...\n",
       "648     [[(In, IN), (less, JJR), (than, IN), (three, C...\n",
       "1662    [[(Managers, NNS), (of, IN), (shopping, NN), (...\n",
       "881     [[(Islam, NNP), (Defenders, NNS), (Front, NN),...\n",
       "1550    [[(Great, JJ), (respect, NN), (:, :), (Pandu, ...\n",
       "675     [[(Blocked, VBN), (:, :), (Tengku, NNP), (Zulk...\n",
       "632     [[(For, IN), (the, DT), (more, RBR), (liberal,...\n",
       "1547    [[(Ahead, NN), (of, IN), (a, DT), (supposedly,...\n",
       "1478    [[(President, NNP), (Joko, NNP), ('Jokowi, NNP...\n",
       "1477    [[(The, DT), (ongoing, JJ), (violence, NN), (a...\n",
       "919     [[(A, DT), (viral, JJ), (video, NN), (showing,...\n",
       "                              ...                        \n",
       "832     [[(Indonesian, JJ), (Military, JJ), ((, NN), (...\n",
       "1630    [[(Nahdlatul, NNP), (Ulama, NNP), ((, NNP), (N...\n",
       "655     [[(Defying, VBG), (warnings, NNS), (from, IN),...\n",
       "1701    [[(The, DT), (country, NN), ('s, POS), (bigges...\n",
       "695     [[(Before, IN), (and, CC), (after, IN), (the, ...\n",
       "778     [[(Jakarta, NNP), (Police, NNP), (will, MD), (...\n",
       "1666    [[(State-owned, JJ), (oil, NN), (and, CC), (ga...\n",
       "722     [[(In, IN), (absence, NN), (of, IN), (the, DT)...\n",
       "1680    [[(Former, JJ), (president, NN), (Susilo, NNP)...\n",
       "712     [[(JP/Jerry, FW), (Adiguna, FW), (As, IN), (th...\n",
       "1532    [[(Alissa, NNP), (Wahid, NNP), ((, NNP), (JP/R...\n",
       "1463    [[(As, IN), (the, DT), (nation, NN), ('s, POS)...\n",
       "643     [[(Say, VB), (it, PRP), (with, IN), (flowers, ...\n",
       "877     [[(The, DT), (government, NN), (has, VBZ), (be...\n",
       "726     [[(It, PRP), (is, VBZ), (common, JJ), (for, IN...\n",
       "714     [[(All, PDT), (the, DT), (pretty, JJ), (horses...\n",
       "735     [[(Feb., NNP), (9, CD), (,, ,), (2016, CD), (T...\n",
       "1580    [[(Coordination, NN), (among, IN), (the, DT), ...\n",
       "916     [[(The, DT), (Jakarta, NNP), (Police, NNP), (h...\n",
       "1659    [[(Rumors, NNS), (seemingly, RB), (designed, V...\n",
       "1634    [[(The, DT), (government, NN), (has, VBZ), (ur...\n",
       "1657    [[(When, WRB), (his, PRP$), (2-year-old, JJ), ...\n",
       "1668    [[(Amid, IN), (growing, VBG), (religious, JJ),...\n",
       "1504    [[(On, IN), (Metro, NNP), (TV, NNP), ('s, POS)...\n",
       "1583    [[(A, DT), (series, NN), (of, IN), (bans, NNS)...\n",
       "1556    [[(Between, IN), (2014, CD), (and, CC), (2016,...\n",
       "1484    [[(Concerns, NNS), (have, VBP), (loomed, VBN),...\n",
       "815     [[(Islam, NNP), (Defenders, NNS), (Front, NN),...\n",
       "1639    [[(President, NNP), (Joko, NNP), (``, ``), (Jo...\n",
       "771     [[(Amid, IN), (intimidation, NN), (from, IN), ...\n",
       "Name: POS_sents, Length: 100, dtype: object"
      ]
     },
     "execution_count": 55,
     "metadata": {},
     "output_type": "execute_result"
    }
   ],
   "source": [
    "random_SMO_1617['POS_sents']"
   ]
  },
  {
   "cell_type": "code",
   "execution_count": 56,
   "metadata": {},
   "outputs": [
    {
     "data": {
      "text/plain": [
       "[('Jakarta', 291),\n",
       " ('(', 216),\n",
       " (')', 199),\n",
       " ('NU', 182),\n",
       " ('Indonesia', 156),\n",
       " ('Islam', 148),\n",
       " ('Ahok', 140),\n",
       " ('FPI', 128),\n",
       " ('Police', 128),\n",
       " ('Rizieq', 121),\n",
       " ('National', 85),\n",
       " ('Java', 74),\n",
       " ('Ulama', 55),\n",
       " ('Nahdlatul', 52),\n",
       " ('East', 50),\n",
       " ('West', 49),\n",
       " ('Jokowi', 46),\n",
       " ('President', 45),\n",
       " ('Muhammadiyah', 43),\n",
       " ('Party', 43)]"
      ]
     },
     "execution_count": 56,
     "metadata": {},
     "output_type": "execute_result"
    }
   ],
   "source": [
    "countTarget = 'NNP'\n",
    "targetCounts = {}\n",
    "for entry in random_SMO_1617['POS_sents']:\n",
    "    for sentence in entry:\n",
    "        for ent, kind in sentence:\n",
    "            if kind != countTarget:\n",
    "                continue\n",
    "            elif ent in targetCounts:\n",
    "                targetCounts[ent] += 1\n",
    "            else:\n",
    "                targetCounts[ent] = 1\n",
    "sortedTargets = sorted(targetCounts.items(), key = lambda x: x[1], reverse = True)\n",
    "sortedTargets[:20]"
   ]
  },
  {
   "cell_type": "code",
   "execution_count": 57,
   "metadata": {},
   "outputs": [
    {
     "data": {
      "text/plain": [
       "[('police', 139),\n",
       " ('country', 93),\n",
       " (')', 92),\n",
       " ('government', 90),\n",
       " ('rally', 90),\n",
       " ('election', 86),\n",
       " ('group', 72),\n",
       " ('blasphemy', 69),\n",
       " ('organization', 68),\n",
       " ('Front', 64),\n",
       " ('leader', 62),\n",
       " ('case', 59),\n",
       " ('governor', 55),\n",
       " ('chairman', 52),\n",
       " ('state', 51),\n",
       " ('mass', 50),\n",
       " (']', 50),\n",
       " ('religion', 46),\n",
       " ('family', 46),\n",
       " ('(', 45)]"
      ]
     },
     "execution_count": 57,
     "metadata": {},
     "output_type": "execute_result"
    }
   ],
   "source": [
    "countTarget = 'NN'\n",
    "targetCounts = {}\n",
    "for entry in random_SMO_1617['POS_sents']:\n",
    "    for sentence in entry:\n",
    "        for ent, kind in sentence:\n",
    "            if kind != countTarget:\n",
    "                continue\n",
    "            elif ent in targetCounts:\n",
    "                targetCounts[ent] += 1\n",
    "            else:\n",
    "                targetCounts[ent] = 1\n",
    "sortedTargets = sorted(targetCounts.items(), key = lambda x: x[1], reverse = True)\n",
    "sortedTargets[:20]"
   ]
  },
  {
   "cell_type": "code",
   "execution_count": 58,
   "metadata": {},
   "outputs": [
    {
     "name": "stdout",
     "output_type": "stream",
     "text": [
      "{'rival', 'only', 'Islamic', 'bulky', 'Muslim'}\n"
     ]
    }
   ],
   "source": [
    "NTarget = 'JJ'\n",
    "Word = 'organization'\n",
    "NResults = set()\n",
    "for entry in random_SMO_1617['POS_sents']:\n",
    "    for sentence in entry:\n",
    "        for (ent1, kind1),(ent2,kind2) in zip(sentence[:-1], sentence[1:]):\n",
    "            if (kind1,ent2.lower())==(NTarget,Word):\n",
    "                NResults.add(ent1)\n",
    "            else:\n",
    "                continue\n",
    "\n",
    "print(NResults)"
   ]
  },
  {
   "cell_type": "code",
   "execution_count": 59,
   "metadata": {},
   "outputs": [
    {
     "name": "stdout",
     "output_type": "stream",
     "text": [
      "{'eligible', 'Muslim', 'intimidating'}\n"
     ]
    }
   ],
   "source": [
    "NTarget = 'JJ'\n",
    "Word = 'voters'\n",
    "NResults = set()\n",
    "for entry in random_SMO_1617['POS_sents']:\n",
    "    for sentence in entry:\n",
    "        for (ent1, kind1),(ent2,kind2) in zip(sentence[:-1], sentence[1:]):\n",
    "            if (kind1,ent2.lower())==(NTarget,Word):\n",
    "                NResults.add(ent1)\n",
    "            else:\n",
    "                continue\n",
    "\n",
    "print(NResults)"
   ]
  },
  {
   "cell_type": "code",
   "execution_count": 66,
   "metadata": {},
   "outputs": [
    {
     "name": "stdout",
     "output_type": "stream",
     "text": [
      "{'rival', 'only', 'Islamic', 'bulky', 'Muslim'}\n"
     ]
    }
   ],
   "source": [
    "NTarget = 'JJ'\n",
    "Word = 'organization'\n",
    "NResults = set()\n",
    "for entry in random_SMO_1617['POS_sents']:\n",
    "    for sentence in entry:\n",
    "        for (ent1, kind1),(ent2,kind2) in zip(sentence[:-1], sentence[1:]):\n",
    "            if (kind1,ent2.lower())==(NTarget,Word):\n",
    "                NResults.add(ent1)\n",
    "            else:\n",
    "                continue\n",
    "\n",
    "print(NResults)"
   ]
  },
  {
   "cell_type": "code",
   "execution_count": 67,
   "metadata": {},
   "outputs": [
    {
     "name": "stdout",
     "output_type": "stream",
     "text": [
      "{'current', 'Islamic', 'recent', 'open', 'particular', 'sure', 'national', 'Contentious', 'Unpad', 'hungry', 'enormous', 'global', 'upcoming', 'certain', 'liberal', ']', 'Muslim', 'leftist'}\n"
     ]
    }
   ],
   "source": [
    "NTarget = 'JJ'\n",
    "Word = 'political'\n",
    "NResults = set()\n",
    "for entry in random_SMO_1617['POS_sents']:\n",
    "    for sentence in entry:\n",
    "        for (ent1, kind1),(ent2,kind2) in zip(sentence[:-1], sentence[1:]):\n",
    "            if (kind1,ent2.lower())==(NTarget,Word):\n",
    "                NResults.add(ent1)\n",
    "            else:\n",
    "                continue\n",
    "\n",
    "print(NResults)"
   ]
  },
  {
   "cell_type": "code",
   "execution_count": 69,
   "metadata": {},
   "outputs": [
    {
     "name": "stdout",
     "output_type": "stream",
     "text": [
      "{'perform'}\n"
     ]
    }
   ],
   "source": [
    "NTarget = 'VB'\n",
    "Word = 'mass'\n",
    "NResults = set()\n",
    "for entry in random_SMO_1617['POS_sents']:\n",
    "    for sentence in entry:\n",
    "        for (ent1, kind1),(ent2,kind2) in zip(sentence[:-1], sentence[1:]):\n",
    "            if (kind1,ent2.lower())==(NTarget,Word):\n",
    "                NResults.add(ent1)\n",
    "            else:\n",
    "                continue\n",
    "\n",
    "print(NResults)"
   ]
  },
  {
   "cell_type": "code",
   "execution_count": 70,
   "metadata": {},
   "outputs": [
    {
     "name": "stdout",
     "output_type": "stream",
     "text": [
      "{'large', 'Islamic', 'similar', 'other', 'several', 'violent', 'anti-Pancasila'}\n"
     ]
    }
   ],
   "source": [
    "NTarget = 'JJ'\n",
    "Word = 'mass'\n",
    "NResults = set()\n",
    "for entry in random_SMO_1617['POS_sents']:\n",
    "    for sentence in entry:\n",
    "        for (ent1, kind1),(ent2,kind2) in zip(sentence[:-1], sentence[1:]):\n",
    "            if (kind1,ent2.lower())==(NTarget,Word):\n",
    "                NResults.add(ent1)\n",
    "            else:\n",
    "                continue\n",
    "\n",
    "print(NResults)"
   ]
  },
  {
   "cell_type": "code",
   "execution_count": 71,
   "metadata": {},
   "outputs": [
    {
     "name": "stdout",
     "output_type": "stream",
     "text": [
      "{'justify'}\n"
     ]
    }
   ],
   "source": [
    "NTarget = 'VB'\n",
    "Word = 'violence'\n",
    "NResults = set()\n",
    "for entry in random_SMO_1617['POS_sents']:\n",
    "    for sentence in entry:\n",
    "        for (ent1, kind1),(ent2,kind2) in zip(sentence[:-1], sentence[1:]):\n",
    "            if (kind1,ent2.lower())==(NTarget,Word):\n",
    "                NResults.add(ent1)\n",
    "            else:\n",
    "                continue\n",
    "\n",
    "print(NResults)"
   ]
  },
  {
   "cell_type": "code",
   "execution_count": 73,
   "metadata": {},
   "outputs": [
    {
     "name": "stdout",
     "output_type": "stream",
     "text": [
      "{'polarizing', 'own', 'presidential', 'general', 'hypothetical', 'democratic', 'gubernatorial'}\n"
     ]
    }
   ],
   "source": [
    "NTarget = 'JJ'\n",
    "Word = 'election'\n",
    "NResults = set()\n",
    "for entry in random_SMO_1617['POS_sents']:\n",
    "    for sentence in entry:\n",
    "        for (ent1, kind1),(ent2,kind2) in zip(sentence[:-1], sentence[1:]):\n",
    "            if (kind1,ent2.lower())==(NTarget,Word):\n",
    "                NResults.add(ent1)\n",
    "            else:\n",
    "                continue\n",
    "\n",
    "print(NResults)"
   ]
  },
  {
   "cell_type": "code",
   "execution_count": 82,
   "metadata": {},
   "outputs": [
    {
     "name": "stdout",
     "output_type": "stream",
     "text": [
      "set()\n"
     ]
    }
   ],
   "source": [
    "NTarget = 'NN'\n",
    "Word = 'radical'\n",
    "NResults = set()\n",
    "for entry in random_SMO_1617['POS_sents']:\n",
    "    for sentence in entry:\n",
    "        for (ent1, kind1),(ent2,kind2) in zip(sentence[:-1], sentence[1:]):\n",
    "            if (kind1,ent2.lower())==(NTarget,Word):\n",
    "                NResults.add(ent1)\n",
    "            else:\n",
    "                continue\n",
    "\n",
    "print(NResults)"
   ]
  },
  {
   "cell_type": "code",
   "execution_count": 88,
   "metadata": {},
   "outputs": [
    {
     "name": "stdout",
     "output_type": "stream",
     "text": [
      "{'Islamic'}\n"
     ]
    }
   ],
   "source": [
    "NTarget = 'JJ'\n",
    "Word = 'vigilante'\n",
    "NResults = set()\n",
    "for entry in random_SMO_1617['POS_sents']:\n",
    "    for sentence in entry:\n",
    "        for (ent1, kind1),(ent2,kind2) in zip(sentence[:-1], sentence[1:]):\n",
    "            if (kind1,ent2.lower())==(NTarget,Word):\n",
    "                NResults.add(ent1)\n",
    "            else:\n",
    "                continue\n",
    "\n",
    "print(NResults)"
   ]
  },
  {
   "cell_type": "code",
   "execution_count": 89,
   "metadata": {},
   "outputs": [
    {
     "name": "stdout",
     "output_type": "stream",
     "text": [
      "{'only', 'third', 'political', 'particular', 'active', 'Nationalist', 'Democratic'}\n"
     ]
    }
   ],
   "source": [
    "NTarget = 'JJ'\n",
    "Word = 'party'\n",
    "NResults = set()\n",
    "for entry in random_SMO_1617['POS_sents']:\n",
    "    for sentence in entry:\n",
    "        for (ent1, kind1),(ent2,kind2) in zip(sentence[:-1], sentence[1:]):\n",
    "            if (kind1,ent2.lower())==(NTarget,Word):\n",
    "                NResults.add(ent1)\n",
    "            else:\n",
    "                continue\n",
    "\n",
    "print(NResults)"
   ]
  },
  {
   "cell_type": "code",
   "execution_count": 117,
   "metadata": {},
   "outputs": [
    {
     "name": "stdout",
     "output_type": "stream",
     "text": [
      "{'Awakening', 'Golkar', 'Communist', 'Hanura', 'Gerindra', 'Justice', 'Development', 'NasDem', 'Mandate', 'Berkarya', 'Democratic'}\n"
     ]
    }
   ],
   "source": [
    "NTarget = 'NNP'\n",
    "Word = 'party'\n",
    "NResults = set()\n",
    "for entry in random_SMO_1617['POS_sents']:\n",
    "    for sentence in entry:\n",
    "        for (ent1, kind1),(ent2,kind2) in zip(sentence[:-1], sentence[1:]):\n",
    "            if (kind1,ent2.lower())==(NTarget,Word):\n",
    "                NResults.add(ent1)\n",
    "            else:\n",
    "                continue\n",
    "\n",
    "print(NResults)"
   ]
  },
  {
   "cell_type": "code",
   "execution_count": null,
   "metadata": {
    "collapsed": true
   },
   "outputs": [],
   "source": []
  }
 ],
 "metadata": {
  "kernelspec": {
   "display_name": "Python 3",
   "language": "python",
   "name": "python3"
  },
  "language_info": {
   "codemirror_mode": {
    "name": "ipython",
    "version": 3
   },
   "file_extension": ".py",
   "mimetype": "text/x-python",
   "name": "python",
   "nbconvert_exporter": "python",
   "pygments_lexer": "ipython3",
   "version": "3.6.3"
  }
 },
 "nbformat": 4,
 "nbformat_minor": 2
}
