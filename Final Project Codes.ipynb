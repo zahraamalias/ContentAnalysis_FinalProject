{
 "cells": [
  {
   "cell_type": "markdown",
   "metadata": {},
   "source": [
    "<h1>Interrogating Indonesian Islamic Social Movement Organizations; A computational content analysis approach.</h1>"
   ]
  },
  {
   "cell_type": "markdown",
   "metadata": {},
   "source": [
    "A social movement is a vehicle for ordinary citizens who lack regular access to representative institutions to engage in politics by exerting power through contentious means. They operate in the realm of informal politics. Meanwhile, political parties are deemed to stand in the realm of formal politics as unlike social movement, they are seeking to control the government by winning elections. I will use computational content analysis to examine how non-state actors—specifically, Indonesian Islamic social movement organizations (SMO)—become a powerful political force.\n",
    "\n",
    "Existing research on social movements seems insufficient to explain how Islamic SMOs hold so much political power despite their lack of representation in formal party politics. Contentious politics becomes a way for these SMOs to make political demands through mass mobilizations and protests in exchange for electoral support to political parties. The main question that will be addressed in this paper is how Islamic SMOs relate to political parties in advancing their issues. Despite opportunities to enter formal party politics, some organizations maintain their contentious position by operating outside political parties. **How do Islamic SMOs position themselves against Islamic political parties, secular political parties, and the government? Despite using different political tactics in formal and informal political spheres, are they actually that different from each other? How does Islamic SMO’s activism become so politically important?**\n",
    "\n",
    "I will interrogate narratives from newspaper reports pertinent to Islamic SMOs in Indonesia between 2008 and 2018. While there is a lack of self-documentation by the organizations regarding their activities, the stories that are reported in national newspapers often signal the events’ significance. To process a large amount of data, I will use computational content analysis to understand the SMOs’ tactics and to model the relationship between Islamic SMOs, political parties, and the government.\n",
    "\n",
    "\n",
    "<h3>What?</h3>\n",
    "\n",
    "To capture the SMO and parties' political nature of relationship I will focus on articles published around 3 election cycles between 2018 -2019. The elections that I will be looking at are:\n",
    "\n",
    "1. **2008 - 2009** for the 2009 Legislative and Presidenial Elections\n",
    "2. **2013 - 2014** for the 2014 Legislative and Presidenial Elections\n",
    "3. **2016 - 2017** for the 2017 Jakarta (Indonesian capital city) gubernatorial elections.\n",
    "\n",
    "Although the third election cycle is different from the others, it sets the battleground for the 2019 presidential elections as parties began to form coalitions for the next elections. This is also the time where political parties are courting SMO to gain popularity among the electorates.\n",
    "\n",
    "\n",
    "<h3>How?</h3>\n",
    "\n",
    "I will use techniques introduced in the Computational Content Analysis class in this project.\n",
    "\n",
    "1. **Scrape website.** (WEEK 1)<br>\n",
    "Scrape news articles between 2008 - 2018 with SMO names and 'party' as keywords from Jakarta Post. Saving it as CSV files.\n",
    "2. **Create a name list of party and organization members.**<br>\n",
    "Make a list of party and organization members then save it as a CSV file.\n",
    "3. **Prepare the dataset.** (WEEK 2)<br>\n",
    "Tokenizing and normalizing sentences with nltk.\n",
    "4. **Create a co-occurrence matrix between people in news articles.** (WEEK 2)<br>\n",
    "For every person in the name list find how many articles that they co-occur with other people in the list.\n",
    "5. **Create a graph.** (WEEK 8)<br>\n",
    "Make the people as nodes in the network and the number of co-occurences in news articles as the weight of their ties.\n",
    "6. **Use Gephi to visualize it.**<br>\n",
    "Export the graph to Gephi and customize the graph.\n",
    "7. **Analyze actors/organizations.**<br>\n",
    "o) Looking at linguistic change (WEEK 4)<br>\n",
    "o) Look at bigrams & trigrams (WEEK 2)<br>\n",
    "o) Explore concordance index (WEEK 2)<br>\n",
    "o) POS Tagging (WEEK 7)<br>\n",
    "o) Name Entity Recognition (WEEK 7)<br>\n",
    "o) Dependency Parsing and Graph Representation (WEEK 7)<br>\n"
   ]
  },
  {
   "cell_type": "code",
   "execution_count": 3,
   "metadata": {
    "collapsed": true
   },
   "outputs": [],
   "source": [
    "#Special module written for this class\n",
    "#This provides access to data and to helper functions from previous weeks\n",
    "#Make sure you update it before starting this notebook\n",
    "import lucem_illud #pip install -U git+git://github.com/Computational-Content-Analysis-2018/lucem_illud.git\n",
    "\n",
    "#All these packages need to be installed from pip\n",
    "import gensim#For word2vec, etc\n",
    "import requests #For downloading our datasets\n",
    "import nltk #For stop words and stemmers\n",
    "import numpy as np #For arrays\n",
    "import pandas #Gives us DataFrames\n",
    "import matplotlib.pyplot as plt #For graphics\n",
    "import seaborn #Makes the graphics look nicer\n",
    "import sklearn.metrics.pairwise #For cosine similarity\n",
    "import sklearn.manifold #For T-SNE\n",
    "import sklearn.decomposition #For PCA\n",
    "import sklearn.feature_extraction\n",
    "from nltk.corpus import stopwords #For stopwords\n",
    "\n",
    "#gensim uses a couple of deprecated features\n",
    "#we can't do anything about them so lets ignore them \n",
    "import warnings\n",
    "warnings.filterwarnings(\"ignore\", category=DeprecationWarning) \n",
    "\n",
    "#This 'magic' command makes the plots work better\n",
    "#in the notebook, don't use it outside of a notebook.\n",
    "#Also you can ignore the warning\n",
    "%matplotlib inline\n",
    "\n",
    "import os #For looking through files\n",
    "import os.path #For managing file paths\n",
    "\n",
    "#This will be doing most of the work\n",
    "import networkx as nx"
   ]
  },
  {
   "cell_type": "markdown",
   "metadata": {},
   "source": [
    "<h2>1. Scrape website</h2>\n",
    "**(WEEK 1)**\n",
    "\n",
    "Using techniques from week 1 I transformed the scraped news articles into CSV files. Save them as df_new."
   ]
  },
  {
   "cell_type": "markdown",
   "metadata": {},
   "source": [
    "Getting our corpora."
   ]
  },
  {
   "cell_type": "code",
   "execution_count": 4,
   "metadata": {},
   "outputs": [
    {
     "data": {
      "text/plain": [
       "1724"
      ]
     },
     "execution_count": 4,
     "metadata": {},
     "output_type": "execute_result"
    }
   ],
   "source": [
    "newsDF = pandas.read_csv('nu_simple.csv', encoding='utf-8')\n",
    "len(newsDF)"
   ]
  },
  {
   "cell_type": "code",
   "execution_count": 5,
   "metadata": {},
   "outputs": [
    {
     "data": {
      "text/plain": [
       "25129"
      ]
     },
     "execution_count": 5,
     "metadata": {},
     "output_type": "execute_result"
    }
   ],
   "source": [
    "newsDF2 = pandas.read_csv('party_simple.csv', encoding='latin-1')\n",
    "len(newsDF2)"
   ]
  },
  {
   "cell_type": "markdown",
   "metadata": {},
   "source": [
    "<h2>2. Create a name list of party and organization members.</h2>\n",
    "\n",
    "Make a list of party and organization members then save it as a CSV file. Save it as nameDF."
   ]
  },
  {
   "cell_type": "markdown",
   "metadata": {},
   "source": [
    "Getting name list."
   ]
  },
  {
   "cell_type": "code",
   "execution_count": 2,
   "metadata": {},
   "outputs": [
    {
     "data": {
      "text/html": [
       "<div>\n",
       "<style scoped>\n",
       "    .dataframe tbody tr th:only-of-type {\n",
       "        vertical-align: middle;\n",
       "    }\n",
       "\n",
       "    .dataframe tbody tr th {\n",
       "        vertical-align: top;\n",
       "    }\n",
       "\n",
       "    .dataframe thead th {\n",
       "        text-align: right;\n",
       "    }\n",
       "</style>\n",
       "<table border=\"1\" class=\"dataframe\">\n",
       "  <thead>\n",
       "    <tr style=\"text-align: right;\">\n",
       "      <th></th>\n",
       "      <th>smo</th>\n",
       "      <th>name</th>\n",
       "      <th>actor</th>\n",
       "      <th>first_name</th>\n",
       "      <th>last_name</th>\n",
       "      <th>type</th>\n",
       "      <th>other_name</th>\n",
       "    </tr>\n",
       "  </thead>\n",
       "  <tbody>\n",
       "    <tr>\n",
       "      <th>0</th>\n",
       "      <td>True</td>\n",
       "      <td>NU</td>\n",
       "      <td>Helmy Faishal Zaini</td>\n",
       "      <td>Helmy</td>\n",
       "      <td>Faishal Zaini</td>\n",
       "      <td>individual</td>\n",
       "      <td>NaN</td>\n",
       "    </tr>\n",
       "    <tr>\n",
       "      <th>1</th>\n",
       "      <td>True</td>\n",
       "      <td>NU</td>\n",
       "      <td>Said Aqil Siradj</td>\n",
       "      <td>Said Aqil</td>\n",
       "      <td>Siradj</td>\n",
       "      <td>individual</td>\n",
       "      <td>NaN</td>\n",
       "    </tr>\n",
       "    <tr>\n",
       "      <th>2</th>\n",
       "      <td>True</td>\n",
       "      <td>NU</td>\n",
       "      <td>Ma’ruf Amin</td>\n",
       "      <td>Ma'ruf</td>\n",
       "      <td>Amin</td>\n",
       "      <td>individual</td>\n",
       "      <td>NaN</td>\n",
       "    </tr>\n",
       "  </tbody>\n",
       "</table>\n",
       "</div>"
      ],
      "text/plain": [
       "    smo name                actor first_name      last_name        type  \\\n",
       "0  True   NU  Helmy Faishal Zaini      Helmy  Faishal Zaini  individual   \n",
       "1  True   NU     Said Aqil Siradj  Said Aqil         Siradj  individual   \n",
       "2  True   NU          Ma’ruf Amin     Ma'ruf           Amin  individual   \n",
       "\n",
       "   other_name  \n",
       "0         NaN  \n",
       "1         NaN  \n",
       "2         NaN  "
      ]
     },
     "execution_count": 2,
     "metadata": {},
     "output_type": "execute_result"
    }
   ],
   "source": [
    "nameDF = pandas.read_csv('name_list - Sheet1.csv', encoding='utf-8')\n",
    "nameDF[:3]"
   ]
  },
  {
   "cell_type": "markdown",
   "metadata": {},
   "source": [
    "<h2>2. Prepare the dataset.</h2>\n",
    "\n",
    "Cleaning and merding the dataset so I can work with it then tokenizing and normalizing sentences with nltk."
   ]
  },
  {
   "cell_type": "code",
   "execution_count": 6,
   "metadata": {
    "collapsed": true
   },
   "outputs": [],
   "source": [
    "#Drop missing values\n",
    "newsDF = newsDF.dropna()\n",
    "newsDF2 = newsDF2.dropna()\n",
    "\n",
    "#Merge 2 news files\n",
    "df_new = pandas.concat([newsDF, newsDF2])"
   ]
  },
  {
   "cell_type": "code",
   "execution_count": 7,
   "metadata": {},
   "outputs": [
    {
     "data": {
      "text/html": [
       "<div>\n",
       "<style scoped>\n",
       "    .dataframe tbody tr th:only-of-type {\n",
       "        vertical-align: middle;\n",
       "    }\n",
       "\n",
       "    .dataframe tbody tr th {\n",
       "        vertical-align: top;\n",
       "    }\n",
       "\n",
       "    .dataframe thead th {\n",
       "        text-align: right;\n",
       "    }\n",
       "</style>\n",
       "<table border=\"1\" class=\"dataframe\">\n",
       "  <thead>\n",
       "    <tr style=\"text-align: right;\">\n",
       "      <th></th>\n",
       "      <th>Date</th>\n",
       "      <th>Title</th>\n",
       "      <th>Article</th>\n",
       "      <th>Link</th>\n",
       "      <th>Year</th>\n",
       "      <th>tokenized_sents</th>\n",
       "      <th>normalized_sents</th>\n",
       "    </tr>\n",
       "  </thead>\n",
       "  <tbody>\n",
       "    <tr>\n",
       "      <th>0</th>\n",
       "      <td>Sun, November 26, 2017</td>\n",
       "      <td>Politics must be free from religious sentiment...</td>\n",
       "      <td>The national meeting (Munas) and major confere...</td>\n",
       "      <td>http://www.thejakartapost.com/news/2017/11/26/...</td>\n",
       "      <td>2017</td>\n",
       "      <td>[[The, national, meeting, (, Munas, ), and, ma...</td>\n",
       "      <td>[[national, meeting, munas, major, conference,...</td>\n",
       "    </tr>\n",
       "    <tr>\n",
       "      <th>1</th>\n",
       "      <td>Thu, November 23, 2017</td>\n",
       "      <td>Radicalism prevention key amid rapid IT advanc...</td>\n",
       "      <td>Radicalism prevention and terrorist deradicali...</td>\n",
       "      <td>http://www.thejakartapost.com/news/2017/11/23/...</td>\n",
       "      <td>2017</td>\n",
       "      <td>[[Radicalism, prevention, and, terrorist, dera...</td>\n",
       "      <td>[[radicalism, prevention, terrorist, deradical...</td>\n",
       "    </tr>\n",
       "    <tr>\n",
       "      <th>2</th>\n",
       "      <td>Thu, November 23, 2017</td>\n",
       "      <td>Jokowi praises NU's roles in building peace, t...</td>\n",
       "      <td>President Joko 'Jokowi' Widodo has said that t...</td>\n",
       "      <td>http://www.thejakartapost.com/news/2017/11/23/...</td>\n",
       "      <td>2017</td>\n",
       "      <td>[[President, Joko, 'Jokowi, ', Widodo, has, sa...</td>\n",
       "      <td>[[president, joko, widodo, said, government, a...</td>\n",
       "    </tr>\n",
       "  </tbody>\n",
       "</table>\n",
       "</div>"
      ],
      "text/plain": [
       "                     Date                                              Title  \\\n",
       "0  Sun, November 26, 2017  Politics must be free from religious sentiment...   \n",
       "1  Thu, November 23, 2017  Radicalism prevention key amid rapid IT advanc...   \n",
       "2  Thu, November 23, 2017  Jokowi praises NU's roles in building peace, t...   \n",
       "\n",
       "                                             Article  \\\n",
       "0  The national meeting (Munas) and major confere...   \n",
       "1  Radicalism prevention and terrorist deradicali...   \n",
       "2  President Joko 'Jokowi' Widodo has said that t...   \n",
       "\n",
       "                                                Link  Year  \\\n",
       "0  http://www.thejakartapost.com/news/2017/11/26/...  2017   \n",
       "1  http://www.thejakartapost.com/news/2017/11/23/...  2017   \n",
       "2  http://www.thejakartapost.com/news/2017/11/23/...  2017   \n",
       "\n",
       "                                     tokenized_sents  \\\n",
       "0  [[The, national, meeting, (, Munas, ), and, ma...   \n",
       "1  [[Radicalism, prevention, and, terrorist, dera...   \n",
       "2  [[President, Joko, 'Jokowi, ', Widodo, has, sa...   \n",
       "\n",
       "                                    normalized_sents  \n",
       "0  [[national, meeting, munas, major, conference,...  \n",
       "1  [[radicalism, prevention, terrorist, deradical...  \n",
       "2  [[president, joko, widodo, said, government, a...  "
      ]
     },
     "execution_count": 7,
     "metadata": {},
     "output_type": "execute_result"
    }
   ],
   "source": [
    "df_new['tokenized_sents'] = df_new['Article'].apply(lambda x: \n",
    "                                                               [nltk.word_tokenize(s) for s in nltk.sent_tokenize(x)])\n",
    "df_new['normalized_sents'] = df_new['tokenized_sents'].apply(lambda x: \n",
    "                                                                           [lucem_illud.normalizeTokens(s, \n",
    "                                                                                           stopwordLst = lucem_illud.stop_words_basic, \n",
    "                                                                                           stemmer = None) \n",
    "                                                                            for s in x])\n",
    "\n",
    "df_new[:3]"
   ]
  },
  {
   "cell_type": "markdown",
   "metadata": {},
   "source": [
    "<h2>3. Word Embedding: Linguistic change</h2>\n",
    "**(WEEK 4)**\n",
    "\n",
    "Using word embedding we can look at how words change over time. We will look at the word 'election' to understand changes in its use within the news articles. However, the word election could refer to other local elections rather than the 3 that we are focusing at so we will also look at the word 'coalition' as parties contending at the national level are more likely to form coalitions rather than parties contending at the local level."
   ]
  },
  {
   "cell_type": "markdown",
   "metadata": {},
   "source": [
    "Below is code that aligns the dimensions of multiple embeddings arrayed over time or some other dimension and allow identification of semantic change as the word vectors change their loadings for focal words. This code comes from the approach piloted at Stanford by William Hamilton, Daniel Jurafsky and Jure Lescovec."
   ]
  },
  {
   "cell_type": "code",
   "execution_count": 274,
   "metadata": {
    "collapsed": true
   },
   "outputs": [],
   "source": [
    "def calc_syn0norm(model):\n",
    "    \"\"\"since syn0norm is now depricated\"\"\"\n",
    "    return (model.wv.syn0 / np.sqrt((model.wv.syn0 ** 2).sum(-1))[..., np.newaxis]).astype(np.float32)\n",
    "\n",
    "def smart_procrustes_align_gensim(base_embed, other_embed, words=None):\n",
    "    \"\"\"Procrustes align two gensim word2vec models (to allow for comparison between same word across models).\n",
    "    Code ported from HistWords <https://github.com/williamleif/histwords> by William Hamilton <wleif@stanford.edu>.\n",
    "    (With help from William. Thank you!)\n",
    "    First, intersect the vocabularies (see `intersection_align_gensim` documentation).\n",
    "    Then do the alignment on the other_embed model.\n",
    "    Replace the other_embed model's syn0 and syn0norm numpy matrices with the aligned version.\n",
    "    Return other_embed.\n",
    "    If `words` is set, intersect the two models' vocabulary with the vocabulary in words (see `intersection_align_gensim` documentation).\n",
    "    \"\"\"\n",
    "    base_embed = copy.copy(base_embed)\n",
    "    other_embed = copy.copy(other_embed)\n",
    "    # make sure vocabulary and indices are aligned\n",
    "    in_base_embed, in_other_embed = intersection_align_gensim(base_embed, other_embed, words=words)\n",
    "\n",
    "    # get the embedding matrices\n",
    "    base_vecs = calc_syn0norm(in_base_embed)\n",
    "    other_vecs = calc_syn0norm(in_other_embed)\n",
    "\n",
    "    # just a matrix dot product with numpy\n",
    "    m = other_vecs.T.dot(base_vecs) \n",
    "    # SVD method from numpy\n",
    "    u, _, v = np.linalg.svd(m)\n",
    "    # another matrix operation\n",
    "    ortho = u.dot(v) \n",
    "    # Replace original array with modified one\n",
    "    # i.e. multiplying the embedding matrix (syn0norm)by \"ortho\"\n",
    "    other_embed.wv.syn0norm = other_embed.wv.syn0 = (calc_syn0norm(other_embed)).dot(ortho)\n",
    "    return other_embed\n",
    "    \n",
    "def intersection_align_gensim(m1,m2, words=None):\n",
    "    \"\"\"\n",
    "    Intersect two gensim word2vec models, m1 and m2.\n",
    "    Only the shared vocabulary between them is kept.\n",
    "    If 'words' is set (as list or set), then the vocabulary is intersected with this list as well.\n",
    "    Indices are re-organized from 0..N in order of descending frequency (=sum of counts from both m1 and m2).\n",
    "    These indices correspond to the new syn0 and syn0norm objects in both gensim models:\n",
    "        -- so that Row 0 of m1.syn0 will be for the same word as Row 0 of m2.syn0\n",
    "        -- you can find the index of any word on the .index2word list: model.index2word.index(word) => 2\n",
    "    The .vocab dictionary is also updated for each model, preserving the count but updating the index.\n",
    "    \"\"\"\n",
    "\n",
    "    # Get the vocab for each model\n",
    "    vocab_m1 = set(m1.wv.vocab.keys())\n",
    "    vocab_m2 = set(m2.wv.vocab.keys())\n",
    "\n",
    "    # Find the common vocabulary\n",
    "    common_vocab = vocab_m1&vocab_m2\n",
    "    if words: common_vocab&=set(words)\n",
    "\n",
    "    # If no alignment necessary because vocab is identical...\n",
    "    if not vocab_m1-common_vocab and not vocab_m2-common_vocab:\n",
    "        return (m1,m2)\n",
    "\n",
    "    # Otherwise sort by frequency (summed for both)\n",
    "    common_vocab = list(common_vocab)\n",
    "    common_vocab.sort(key=lambda w: m1.wv.vocab[w].count + m2.wv.vocab[w].count,reverse=True)\n",
    "\n",
    "    # Then for each model...\n",
    "    for m in [m1,m2]:\n",
    "        # Replace old syn0norm array with new one (with common vocab)\n",
    "        indices = [m.wv.vocab[w].index for w in common_vocab]\n",
    "        old_arr = calc_syn0norm(m)\n",
    "        new_arr = np.array([old_arr[index] for index in indices])\n",
    "        m.wv.syn0norm = m.wv.syn0 = new_arr\n",
    "\n",
    "        # Replace old vocab dictionary with new one (with common vocab)\n",
    "        # and old index2word with new one\n",
    "        m.index2word = common_vocab\n",
    "        old_vocab = m.wv.vocab\n",
    "        new_vocab = {}\n",
    "        for new_index,word in enumerate(common_vocab):\n",
    "            old_vocab_obj=old_vocab[word]\n",
    "            new_vocab[word] = gensim.models.word2vec.Vocab(index=new_index, count=old_vocab_obj.count)\n",
    "        m.wv.vocab = new_vocab\n",
    "\n",
    "    return (m1,m2)"
   ]
  },
  {
   "cell_type": "code",
   "execution_count": 276,
   "metadata": {
    "collapsed": true
   },
   "outputs": [],
   "source": [
    "import copy"
   ]
  },
  {
   "cell_type": "markdown",
   "metadata": {},
   "source": [
    "We will be creating many embeddings so we have created this function to do most of the work. It creates two collections of embeddings, one the original and one the aligned."
   ]
  },
  {
   "cell_type": "code",
   "execution_count": 272,
   "metadata": {
    "collapsed": true
   },
   "outputs": [],
   "source": [
    "def compareModels(df, category, sort = True):\n",
    "    \"\"\"If you are using time as your category sorting is important\"\"\"\n",
    "    embeddings_raw = {}\n",
    "    cats = sorted(set(df[category]))\n",
    "    for cat in cats:\n",
    "        #This can take a while\n",
    "        print(\"Embedding {}\".format(cat), end = '\\r')\n",
    "        subsetDF = df[df[category] == cat]\n",
    "        #You might want to change the W2V parameters\n",
    "        embeddings_raw[cat] = gensim.models.word2vec.Word2Vec(subsetDF['normalized_sents'].sum())\n",
    "    #These are much quicker\n",
    "    embeddings_aligned = {}\n",
    "    for catOuter in cats:\n",
    "        embeddings_aligned[catOuter] = [embeddings_raw[catOuter]]\n",
    "        for catInner in cats:\n",
    "            embeddings_aligned[catOuter].append(smart_procrustes_align_gensim(embeddings_aligned[catOuter][-1], embeddings_raw[catInner]))\n",
    "    return embeddings_raw, embeddings_aligned"
   ]
  },
  {
   "cell_type": "markdown",
   "metadata": {},
   "source": [
    "Let's generate a model."
   ]
  },
  {
   "cell_type": "code",
   "execution_count": 277,
   "metadata": {},
   "outputs": [
    {
     "name": "stdout",
     "output_type": "stream",
     "text": [
      "Embedding 2018\r"
     ]
    }
   ],
   "source": [
    "rawEmbeddings, comparedEmbeddings = compareModels(df_new, 'Year')"
   ]
  },
  {
   "cell_type": "markdown",
   "metadata": {},
   "source": [
    "We need to compare them across all permutations so we will define another function to help, we will be using 1 - cosine similarity as that gives a more intuitive range of 0-2 with low values meaning little change and high meaning lots of change."
   ]
  },
  {
   "cell_type": "code",
   "execution_count": 278,
   "metadata": {
    "collapsed": true
   },
   "outputs": [],
   "source": [
    "def getDivergenceDF(word, embeddingsDict):\n",
    "    dists = []\n",
    "    cats = sorted(set(embeddingsDict.keys()))\n",
    "    dists = {}\n",
    "    for cat in cats:\n",
    "        dists[cat] = []\n",
    "        for embed in embeddingsDict[cat][1:]:\n",
    "            dists[cat].append(np.abs(1 - sklearn.metrics.pairwise.cosine_similarity(np.expand_dims(embeddingsDict[cat][0][word], axis = 0),\n",
    "                                                                             np.expand_dims(embed[word], axis = 0))[0,0]))\n",
    "    return pandas.DataFrame(dists, index = cats)"
   ]
  },
  {
   "cell_type": "markdown",
   "metadata": {},
   "source": [
    "Let's look at how the word 'election' changes throughout the year."
   ]
  },
  {
   "cell_type": "code",
   "execution_count": 402,
   "metadata": {},
   "outputs": [
    {
     "data": {
      "image/png": "[encoded data removed]",
      "text/plain": [
       "<Figure size 720x504 with 2 Axes>"
      ]
     },
     "metadata": {},
     "output_type": "display_data"
    }
   ],
   "source": [
    "targetWord = 'election'\n",
    "\n",
    "pltDF = getDivergenceDF(targetWord, comparedEmbeddings)\n",
    "fig, ax = plt.subplots(figsize = (10, 7))\n",
    "seaborn.heatmap(pltDF, ax = ax, annot = False) #set annot True for a lot more information\n",
    "ax.set_xlabel(\"Starting year\")\n",
    "ax.set_ylabel(\"Final year\")\n",
    "ax.set_ylabel(\"Final year\")\n",
    "ax.set_title(\"Yearly linguistic change for: '{}'\".format(targetWord))\n",
    "plt.show()"
   ]
  },
  {
   "cell_type": "code",
   "execution_count": 284,
   "metadata": {},
   "outputs": [
    {
     "data": {
      "image/png": "[encoded data removed]",
      "text/plain": [
       "<Figure size 720x504 with 2 Axes>"
      ]
     },
     "metadata": {},
     "output_type": "display_data"
    }
   ],
   "source": [
    "targetWord = 'coalition'\n",
    "\n",
    "pltDF = getDivergenceDF(targetWord, comparedEmbeddings)\n",
    "fig, ax = plt.subplots(figsize = (10, 7))\n",
    "seaborn.heatmap(pltDF, ax = ax, annot = False) #set annot True for a lot more information\n",
    "ax.set_xlabel(\"Starting year\")\n",
    "ax.set_ylabel(\"Final year\")\n",
    "ax.set_ylabel(\"Final year\")\n",
    "ax.set_title(\"Yearly linguistic change for: '{}'\".format(targetWord))\n",
    "plt.show()"
   ]
  },
  {
   "cell_type": "markdown",
   "metadata": {},
   "source": [
    "The word 'election' changes most between 2015-2016, which might reflect how the news talks about the 2016 more/differently in comparison to the previous year. However, for the rest of the period the word load is quite similar (high change overall).\n",
    "\n",
    "Meanwhile the word 'coalition' changes a little between 2008-2009, which might say how the word has been used similarly between 2008-2009 (the first election cycle). This is also similar to 2016-2017 (the third election cycle). However, there is a high change in how the word coalition is used between 2010 - 2011 and little change between 2011-2013, something that I could not yet explain why."
   ]
  },
  {
   "cell_type": "markdown",
   "metadata": {},
   "source": [
    "<h2>4. Semantic Networks</h2>\n",
    "**(WEEK 8)**\n",
    "\n",
    "I created a co-occurrence matrix **(WEEK 2)** between people in news articles where for every person in the name list the computer will find how many articles that they co-occur with other people in the list. Then I will make a graph based on the co-occurence matrix. The people become nodes in the network and the number of co-occurences in news articles become the weight of their ties. **(WEEK 8)**. Finally, I exported the graph to Gephi for processing and visualization."
   ]
  },
  {
   "cell_type": "markdown",
   "metadata": {},
   "source": [
    "Defining variables to work with."
   ]
  },
  {
   "cell_type": "code",
   "execution_count": 8,
   "metadata": {
    "collapsed": true
   },
   "outputs": [],
   "source": [
    "names = list(nameDF['first_name'])\n",
    "#articles = list(df_new['Article'])\n",
    "articles = df_new['tokenized_sents'].values"
   ]
  },
  {
   "cell_type": "markdown",
   "metadata": {},
   "source": [
    "Define co-occurence function."
   ]
  },
  {
   "cell_type": "code",
   "execution_count": null,
   "metadata": {
    "collapsed": true
   },
   "outputs": [],
   "source": [
    "def occurenceCount(p1,p2):\n",
    "    count=0\n",
    "    for sentences in articles:\n",
    "        for sentence in sentences:\n",
    "            set_sentence = set(sentence)\n",
    "            if p1 in set_sentence and p2 in set_sentence:\n",
    "                count+=1\n",
    "    return count"
   ]
  },
  {
   "cell_type": "code",
   "execution_count": 23,
   "metadata": {
    "collapsed": true
   },
   "outputs": [],
   "source": [
    "from collections import defaultdict"
   ]
  },
  {
   "cell_type": "markdown",
   "metadata": {},
   "source": [
    "**BREAKING NEWS INTO YEARS**"
   ]
  },
  {
   "cell_type": "markdown",
   "metadata": {},
   "source": [
    "To understand the text better we will focus on the 3 election cycles and see how the network of actors and organizations change over the 3 time period.\n",
    "\n",
    "**(2008-2009)**"
   ]
  },
  {
   "cell_type": "code",
   "execution_count": 19,
   "metadata": {
    "collapsed": true
   },
   "outputs": [],
   "source": [
    "#Filter the news data frame to only include news between 2008 - 2009.\n",
    "news_08 = df_new.loc[df_new['Year'] == 2008]\n",
    "news_09 = df_new.loc[df_new['Year'] == 2009]\n",
    "news_0809 = pandas.concat([news_08, news_09])"
   ]
  },
  {
   "cell_type": "code",
   "execution_count": 21,
   "metadata": {
    "collapsed": true
   },
   "outputs": [],
   "source": [
    "#names = list(nameDF['first_name'])\n",
    "#articles = list(df_new['Article'])\n",
    "articles_0809 = news_0809['tokenized_sents'].values"
   ]
  },
  {
   "cell_type": "code",
   "execution_count": 25,
   "metadata": {
    "collapsed": true
   },
   "outputs": [],
   "source": [
    "#Define co-occurence function for people in articles between 2008-2009.\n",
    "def occurenceCount_0809(p1,p2):\n",
    "    count=0\n",
    "    for sentences in articles_0809:\n",
    "        for sentence in sentences:\n",
    "            set_sentence = set(sentence)\n",
    "            if p1 in set_sentence and p2 in set_sentence:\n",
    "                count+=1\n",
    "    return count"
   ]
  },
  {
   "cell_type": "code",
   "execution_count": 24,
   "metadata": {
    "collapsed": true
   },
   "outputs": [],
   "source": [
    "#Create people-to-people dictionary for 2008-2009.\n",
    "p1_p2_dic_0809 = defaultdict(lambda: defaultdict(int))"
   ]
  },
  {
   "cell_type": "code",
   "execution_count": 27,
   "metadata": {},
   "outputs": [
    {
     "name": "stdout",
     "output_type": "stream",
     "text": [
      "1\n",
      "2\n",
      "3\n",
      "4\n",
      "5\n",
      "6\n",
      "7\n",
      "8\n",
      "9\n",
      "10\n",
      "11\n",
      "12\n",
      "13\n",
      "14\n",
      "15\n",
      "16\n",
      "17\n",
      "18\n",
      "19\n",
      "20\n",
      "21\n",
      "22\n",
      "23\n",
      "24\n",
      "25\n",
      "26\n",
      "27\n",
      "28\n",
      "29\n",
      "30\n",
      "31\n",
      "32\n",
      "33\n",
      "34\n",
      "35\n",
      "36\n",
      "37\n",
      "38\n",
      "39\n",
      "40\n",
      "41\n",
      "42\n",
      "43\n",
      "44\n",
      "45\n",
      "46\n",
      "47\n",
      "48\n",
      "49\n",
      "50\n",
      "51\n",
      "52\n",
      "53\n",
      "54\n",
      "55\n",
      "56\n",
      "57\n",
      "58\n",
      "59\n",
      "60\n",
      "61\n",
      "62\n",
      "63\n",
      "64\n",
      "65\n",
      "66\n",
      "67\n",
      "68\n",
      "69\n",
      "70\n",
      "71\n",
      "72\n",
      "73\n",
      "74\n",
      "75\n",
      "76\n",
      "77\n",
      "78\n",
      "79\n",
      "80\n",
      "81\n",
      "82\n",
      "83\n",
      "84\n",
      "85\n",
      "86\n",
      "87\n",
      "88\n",
      "89\n",
      "90\n",
      "91\n",
      "92\n",
      "93\n",
      "94\n",
      "95\n",
      "96\n",
      "97\n",
      "98\n",
      "99\n",
      "100\n",
      "101\n",
      "102\n",
      "103\n",
      "104\n",
      "105\n",
      "106\n",
      "107\n",
      "108\n",
      "109\n",
      "110\n",
      "111\n",
      "112\n",
      "113\n",
      "114\n",
      "115\n",
      "116\n",
      "117\n",
      "118\n",
      "119\n",
      "120\n",
      "121\n",
      "122\n",
      "123\n",
      "124\n",
      "125\n",
      "126\n",
      "127\n",
      "128\n",
      "129\n",
      "130\n",
      "131\n",
      "132\n",
      "133\n",
      "134\n",
      "135\n",
      "136\n",
      "137\n",
      "138\n",
      "139\n",
      "140\n",
      "141\n",
      "142\n",
      "143\n",
      "144\n",
      "145\n",
      "146\n",
      "147\n",
      "148\n",
      "149\n",
      "150\n",
      "151\n",
      "152\n",
      "153\n",
      "154\n",
      "155\n",
      "156\n",
      "157\n",
      "158\n",
      "159\n",
      "160\n",
      "161\n",
      "162\n",
      "163\n",
      "164\n",
      "165\n",
      "166\n",
      "167\n",
      "168\n",
      "169\n",
      "170\n",
      "171\n",
      "172\n",
      "173\n",
      "174\n",
      "175\n",
      "176\n",
      "177\n",
      "178\n",
      "179\n",
      "180\n",
      "181\n",
      "182\n",
      "183\n",
      "184\n",
      "185\n",
      "186\n",
      "187\n",
      "188\n",
      "189\n",
      "190\n",
      "191\n",
      "192\n",
      "193\n",
      "194\n",
      "195\n",
      "196\n",
      "197\n",
      "198\n",
      "199\n",
      "200\n",
      "201\n",
      "202\n",
      "203\n",
      "204\n",
      "205\n",
      "206\n",
      "207\n",
      "208\n",
      "209\n",
      "210\n",
      "211\n",
      "212\n",
      "213\n",
      "214\n",
      "215\n",
      "216\n",
      "217\n",
      "218\n",
      "219\n",
      "220\n",
      "221\n",
      "222\n",
      "223\n",
      "224\n",
      "225\n"
     ]
    }
   ],
   "source": [
    "#Iterate every people in the list for co-occurence in the article.\n",
    "namelist = nameDF['first_name'].values\n",
    "i=0\n",
    "for p1 in namelist:\n",
    "    i+=1\n",
    "    print(i,)\n",
    "    for p2 in namelist:\n",
    "        p1_p2_dic_0809[p1][p2] = occurenceCount_0809(p1,p2)"
   ]
  },
  {
   "cell_type": "code",
   "execution_count": 28,
   "metadata": {},
   "outputs": [
    {
     "data": {
      "text/plain": [
       "209"
      ]
     },
     "execution_count": 28,
     "metadata": {},
     "output_type": "execute_result"
    }
   ],
   "source": [
    "len(p1_p2_dic_0809)"
   ]
  },
  {
   "cell_type": "code",
   "execution_count": 29,
   "metadata": {
    "collapsed": true
   },
   "outputs": [],
   "source": [
    "#Create graph.\n",
    "G_0809 = nx.Graph()\n",
    "for p1 in p1_p2_dic_0809:\n",
    "    for p2 in p1_p2_dic_0809[p1]:\n",
    "        if not p1==p2:\n",
    "            G_0809.add_edge(p1,p2, weight = p1_p2_dic_0809[p1][p2])"
   ]
  },
  {
   "cell_type": "code",
   "execution_count": 30,
   "metadata": {},
   "outputs": [
    {
     "name": "stdout",
     "output_type": "stream",
     "text": [
      "Name: \n",
      "Type: Graph\n",
      "Number of nodes: 209\n",
      "Number of edges: 21736\n",
      "Average degree: 208.0000\n"
     ]
    }
   ],
   "source": [
    "print(nx.info(G_0809))"
   ]
  },
  {
   "cell_type": "code",
   "execution_count": 31,
   "metadata": {
    "collapsed": true
   },
   "outputs": [],
   "source": [
    "#Export the graph to Gephi.\n",
    "nx.write_gexf(G_0809, \"network_0809.gexf\")"
   ]
  },
  {
   "cell_type": "markdown",
   "metadata": {},
   "source": [
    "Adding organization to people nodes."
   ]
  },
  {
   "cell_type": "code",
   "execution_count": 91,
   "metadata": {
    "collapsed": true
   },
   "outputs": [],
   "source": [
    "#orgDF = pandas.read_csv('org_list.csv', encoding='utf-8')\n",
    "#print(nameDF)"
   ]
  },
  {
   "cell_type": "code",
   "execution_count": 92,
   "metadata": {
    "collapsed": true
   },
   "outputs": [],
   "source": [
    "#Define co-occurence function for organization (SMO and political parties) in articles between 2008-2009.\n",
    "def occurenceCount_org_0809(o1,o2):\n",
    "    count=0\n",
    "    for sentences in articles_0809:\n",
    "        for sentence in sentences:\n",
    "            set_sentence = set(sentence)\n",
    "            if o1 in set_sentence and o2 in set_sentence:\n",
    "                count+=1\n",
    "    return count"
   ]
  },
  {
   "cell_type": "code",
   "execution_count": 93,
   "metadata": {
    "collapsed": true
   },
   "outputs": [],
   "source": [
    "#Create organization-to-organization dictionary for 2008-2009.\n",
    "o1_o2_dic_0809 = defaultdict(lambda: defaultdict(int))"
   ]
  },
  {
   "cell_type": "code",
   "execution_count": 94,
   "metadata": {
    "collapsed": true
   },
   "outputs": [],
   "source": [
    "#Attaching people to each their organizations\n",
    "o_p_map_0809=defaultdict(str)\n",
    "zzz =list(nameDF[['name','first_name']].values)\n",
    "for row in zzz:\n",
    "    try:\n",
    "        o_p_map_0809[row[1]]=row[0]\n",
    "    except:\n",
    "        print (row)\n",
    "        break"
   ]
  },
  {
   "cell_type": "code",
   "execution_count": 95,
   "metadata": {
    "collapsed": true
   },
   "outputs": [],
   "source": [
    "o1_o2_dic_0809 =defaultdict(lambda: defaultdict(int))\n",
    "for p1 in p1_p2_dic_0809:\n",
    "    for p2 in p1_p2_dic_0809:\n",
    "        o1 = o_p_map_0809[p1]\n",
    "        o2 = o_p_map_0809[p2]\n",
    "        o1_o2_dic_0809[o1][o2]+=p1_p2_dic_0809[p1][p2]"
   ]
  },
  {
   "cell_type": "code",
   "execution_count": 96,
   "metadata": {},
   "outputs": [
    {
     "name": "stdout",
     "output_type": "stream",
     "text": [
      "1\n",
      "2\n",
      "3\n",
      "4\n",
      "5\n",
      "6\n",
      "7\n",
      "8\n",
      "9\n",
      "10\n",
      "11\n",
      "12\n",
      "13\n",
      "14\n",
      "15\n",
      "16\n",
      "17\n",
      "18\n",
      "19\n",
      "20\n",
      "21\n",
      "22\n",
      "23\n",
      "24\n",
      "25\n",
      "26\n",
      "27\n",
      "28\n",
      "29\n",
      "30\n",
      "31\n",
      "32\n",
      "33\n",
      "34\n",
      "35\n",
      "36\n",
      "37\n",
      "38\n",
      "39\n",
      "40\n",
      "41\n",
      "42\n",
      "43\n",
      "44\n",
      "45\n",
      "46\n",
      "47\n",
      "48\n",
      "49\n",
      "50\n",
      "51\n",
      "52\n",
      "53\n",
      "54\n",
      "55\n",
      "56\n",
      "57\n",
      "58\n",
      "59\n",
      "60\n",
      "61\n",
      "62\n",
      "63\n",
      "64\n",
      "65\n",
      "66\n",
      "67\n",
      "68\n",
      "69\n",
      "70\n",
      "71\n",
      "72\n",
      "73\n",
      "74\n",
      "75\n",
      "76\n",
      "77\n",
      "78\n",
      "79\n",
      "80\n",
      "81\n",
      "82\n",
      "83\n",
      "84\n",
      "85\n",
      "86\n",
      "87\n",
      "88\n",
      "89\n",
      "90\n",
      "91\n",
      "92\n",
      "93\n",
      "94\n",
      "95\n",
      "96\n",
      "97\n",
      "98\n",
      "99\n",
      "100\n",
      "101\n",
      "102\n",
      "103\n",
      "104\n",
      "105\n",
      "106\n",
      "107\n",
      "108\n",
      "109\n",
      "110\n",
      "111\n",
      "112\n",
      "113\n",
      "114\n",
      "115\n",
      "116\n",
      "117\n",
      "118\n",
      "119\n",
      "120\n",
      "121\n",
      "122\n",
      "123\n",
      "124\n",
      "125\n",
      "126\n",
      "127\n",
      "128\n",
      "129\n",
      "130\n",
      "131\n",
      "132\n",
      "133\n",
      "134\n",
      "135\n",
      "136\n",
      "137\n",
      "138\n",
      "139\n",
      "140\n",
      "141\n",
      "142\n",
      "143\n",
      "144\n",
      "145\n",
      "146\n",
      "147\n",
      "148\n",
      "149\n",
      "150\n",
      "151\n",
      "152\n",
      "153\n",
      "154\n",
      "155\n",
      "156\n",
      "157\n",
      "158\n",
      "159\n",
      "160\n",
      "161\n",
      "162\n",
      "163\n",
      "164\n",
      "165\n",
      "166\n",
      "167\n",
      "168\n",
      "169\n",
      "170\n",
      "171\n",
      "172\n",
      "173\n",
      "174\n",
      "175\n",
      "176\n",
      "177\n",
      "178\n",
      "179\n",
      "180\n",
      "181\n",
      "182\n",
      "183\n",
      "184\n",
      "185\n",
      "186\n",
      "187\n",
      "188\n",
      "189\n",
      "190\n",
      "191\n",
      "192\n",
      "193\n",
      "194\n",
      "195\n",
      "196\n",
      "197\n",
      "198\n",
      "199\n",
      "200\n",
      "201\n",
      "202\n",
      "203\n",
      "204\n",
      "205\n",
      "206\n",
      "207\n",
      "208\n",
      "209\n",
      "210\n",
      "211\n",
      "212\n",
      "213\n",
      "214\n",
      "215\n",
      "216\n",
      "217\n",
      "218\n",
      "219\n",
      "220\n",
      "221\n",
      "222\n",
      "223\n",
      "224\n",
      "225\n"
     ]
    }
   ],
   "source": [
    "#Iterating every people to their respective organizations.\n",
    "orglist = nameDF['name'].values\n",
    "i=0\n",
    "for o1 in orglist:\n",
    "    i+=1\n",
    "    print(i,)\n",
    "    for o2 in orglist:\n",
    "        o1_o2_dic_0809[o1][o2] = occurenceCount_org_0809(o1,o2)"
   ]
  },
  {
   "cell_type": "markdown",
   "metadata": {},
   "source": [
    "Draw graph."
   ]
  },
  {
   "cell_type": "code",
   "execution_count": 97,
   "metadata": {
    "collapsed": true
   },
   "outputs": [],
   "source": [
    "#Create graph.\n",
    "G_org_0809 = nx.Graph()\n",
    "for o1 in o1_o2_dic_0809:\n",
    "    for o2 in o1_o2_dic_0809[o1]:\n",
    "        if not o1==o2:\n",
    "            G_org_0809.add_edge(o1,o2, weight = o1_o2_dic_0809[o1][o2])"
   ]
  },
  {
   "cell_type": "code",
   "execution_count": 98,
   "metadata": {},
   "outputs": [
    {
     "name": "stdout",
     "output_type": "stream",
     "text": [
      "Name: \n",
      "Type: Graph\n",
      "Number of nodes: 20\n",
      "Number of edges: 190\n",
      "Average degree:  19.0000\n"
     ]
    }
   ],
   "source": [
    "print(nx.info(G_org_0809))"
   ]
  },
  {
   "cell_type": "code",
   "execution_count": 99,
   "metadata": {
    "collapsed": true
   },
   "outputs": [],
   "source": [
    "#Export the graph to Gephi.\n",
    "nx.write_gexf(G_org_0809, \"network_0809_org_clean.gexf\")"
   ]
  },
  {
   "cell_type": "markdown",
   "metadata": {},
   "source": [
    "**(2013-2014)**"
   ]
  },
  {
   "cell_type": "code",
   "execution_count": 32,
   "metadata": {
    "collapsed": true
   },
   "outputs": [],
   "source": [
    "#Filter the news data frame to only include news between 2013 - 2014.\n",
    "news_13 = df_new.loc[df_new['Year'] == 2013]\n",
    "news_14 = df_new.loc[df_new['Year'] == 2014]\n",
    "news_1314 = pandas.concat([news_13, news_14])"
   ]
  },
  {
   "cell_type": "code",
   "execution_count": 39,
   "metadata": {
    "collapsed": true
   },
   "outputs": [],
   "source": [
    "articles_1314 = news_1314['tokenized_sents'].values"
   ]
  },
  {
   "cell_type": "code",
   "execution_count": 40,
   "metadata": {
    "collapsed": true
   },
   "outputs": [],
   "source": [
    "#Create organization-to-organization dictionary for 2013-2014.\n",
    "p1_p2_dic_1314 = defaultdict(lambda: defaultdict(int))"
   ]
  },
  {
   "cell_type": "code",
   "execution_count": 41,
   "metadata": {
    "collapsed": true
   },
   "outputs": [],
   "source": [
    "#Define co-occurence function for people in articles between 2013-2014.\n",
    "def occurenceCount_1314(p1,p2):\n",
    "    count=0\n",
    "    for sentences in articles_1314:\n",
    "        for sentence in sentences:\n",
    "            set_sentence = set(sentence)\n",
    "            if p1 in set_sentence and p2 in set_sentence:\n",
    "                count+=1\n",
    "    return count"
   ]
  },
  {
   "cell_type": "code",
   "execution_count": 42,
   "metadata": {},
   "outputs": [
    {
     "name": "stdout",
     "output_type": "stream",
     "text": [
      "1\n",
      "2\n",
      "3\n",
      "4\n",
      "5\n",
      "6\n",
      "7\n",
      "8\n",
      "9\n",
      "10\n",
      "11\n",
      "12\n",
      "13\n",
      "14\n",
      "15\n",
      "16\n",
      "17\n",
      "18\n",
      "19\n",
      "20\n",
      "21\n",
      "22\n",
      "23\n",
      "24\n",
      "25\n",
      "26\n",
      "27\n",
      "28\n",
      "29\n",
      "30\n",
      "31\n",
      "32\n",
      "33\n",
      "34\n",
      "35\n",
      "36\n",
      "37\n",
      "38\n",
      "39\n",
      "40\n",
      "41\n",
      "42\n",
      "43\n",
      "44\n",
      "45\n",
      "46\n",
      "47\n",
      "48\n",
      "49\n",
      "50\n",
      "51\n",
      "52\n",
      "53\n",
      "54\n",
      "55\n",
      "56\n",
      "57\n",
      "58\n",
      "59\n",
      "60\n",
      "61\n",
      "62\n",
      "63\n",
      "64\n",
      "65\n",
      "66\n",
      "67\n",
      "68\n",
      "69\n",
      "70\n",
      "71\n",
      "72\n",
      "73\n",
      "74\n",
      "75\n",
      "76\n",
      "77\n",
      "78\n",
      "79\n",
      "80\n",
      "81\n",
      "82\n",
      "83\n",
      "84\n",
      "85\n",
      "86\n",
      "87\n",
      "88\n",
      "89\n",
      "90\n",
      "91\n",
      "92\n",
      "93\n",
      "94\n",
      "95\n",
      "96\n",
      "97\n",
      "98\n",
      "99\n",
      "100\n",
      "101\n",
      "102\n",
      "103\n",
      "104\n",
      "105\n",
      "106\n",
      "107\n",
      "108\n",
      "109\n",
      "110\n",
      "111\n",
      "112\n",
      "113\n",
      "114\n",
      "115\n",
      "116\n",
      "117\n",
      "118\n",
      "119\n",
      "120\n",
      "121\n",
      "122\n",
      "123\n",
      "124\n",
      "125\n",
      "126\n",
      "127\n",
      "128\n",
      "129\n",
      "130\n",
      "131\n",
      "132\n",
      "133\n",
      "134\n",
      "135\n",
      "136\n",
      "137\n",
      "138\n",
      "139\n",
      "140\n",
      "141\n",
      "142\n",
      "143\n",
      "144\n",
      "145\n",
      "146\n",
      "147\n",
      "148\n",
      "149\n",
      "150\n",
      "151\n",
      "152\n",
      "153\n",
      "154\n",
      "155\n",
      "156\n",
      "157\n",
      "158\n",
      "159\n",
      "160\n",
      "161\n",
      "162\n",
      "163\n",
      "164\n",
      "165\n",
      "166\n",
      "167\n",
      "168\n",
      "169\n",
      "170\n",
      "171\n",
      "172\n",
      "173\n",
      "174\n",
      "175\n",
      "176\n",
      "177\n",
      "178\n",
      "179\n",
      "180\n",
      "181\n",
      "182\n",
      "183\n",
      "184\n",
      "185\n",
      "186\n",
      "187\n",
      "188\n",
      "189\n",
      "190\n",
      "191\n",
      "192\n",
      "193\n",
      "194\n",
      "195\n",
      "196\n",
      "197\n",
      "198\n",
      "199\n",
      "200\n",
      "201\n",
      "202\n",
      "203\n",
      "204\n",
      "205\n",
      "206\n",
      "207\n",
      "208\n",
      "209\n",
      "210\n",
      "211\n",
      "212\n",
      "213\n",
      "214\n",
      "215\n",
      "216\n",
      "217\n",
      "218\n",
      "219\n",
      "220\n",
      "221\n",
      "222\n",
      "223\n",
      "224\n",
      "225\n"
     ]
    }
   ],
   "source": [
    "#Iterate every people in the list for co-occurence in the article.\n",
    "namelist = nameDF['first_name'].values\n",
    "i=0\n",
    "for p1 in namelist:\n",
    "    i+=1\n",
    "    print(i,)\n",
    "    for p2 in namelist:\n",
    "        p1_p2_dic_1314[p1][p2] = occurenceCount_1314(p1,p2)"
   ]
  },
  {
   "cell_type": "code",
   "execution_count": 43,
   "metadata": {},
   "outputs": [
    {
     "data": {
      "text/plain": [
       "209"
      ]
     },
     "execution_count": 43,
     "metadata": {},
     "output_type": "execute_result"
    }
   ],
   "source": [
    "len(p1_p2_dic_1314)"
   ]
  },
  {
   "cell_type": "code",
   "execution_count": 44,
   "metadata": {
    "collapsed": true
   },
   "outputs": [],
   "source": [
    "#Create graph.\n",
    "G_1314 = nx.Graph()\n",
    "for p1 in p1_p2_dic_1314:\n",
    "    for p2 in p1_p2_dic_1314[p1]:\n",
    "        if not p1==p2:\n",
    "            G_1314.add_edge(p1,p2, weight = p1_p2_dic_1314[p1][p2])"
   ]
  },
  {
   "cell_type": "code",
   "execution_count": 45,
   "metadata": {},
   "outputs": [
    {
     "name": "stdout",
     "output_type": "stream",
     "text": [
      "Name: \n",
      "Type: Graph\n",
      "Number of nodes: 209\n",
      "Number of edges: 21736\n",
      "Average degree: 208.0000\n"
     ]
    }
   ],
   "source": [
    "print(nx.info(G_1314))"
   ]
  },
  {
   "cell_type": "code",
   "execution_count": 46,
   "metadata": {
    "collapsed": true
   },
   "outputs": [],
   "source": [
    "#Export the graph to Gephi.\n",
    "nx.write_gexf(G_1314, \"network_1314.gexf\")"
   ]
  },
  {
   "cell_type": "markdown",
   "metadata": {},
   "source": [
    "Adding organization to people nodes."
   ]
  },
  {
   "cell_type": "code",
   "execution_count": 100,
   "metadata": {
    "collapsed": true
   },
   "outputs": [],
   "source": [
    "#Define co-occurence function for organization (SMO and political parties) in articles between 2013-2014.\n",
    "def occurenceCount_org_1314(o1,o2):\n",
    "    count=0\n",
    "    for sentences in articles_1314:\n",
    "        for sentence in sentences:\n",
    "            set_sentence = set(sentence)\n",
    "            if o1 in set_sentence and o2 in set_sentence:\n",
    "                count+=1\n",
    "    return count"
   ]
  },
  {
   "cell_type": "code",
   "execution_count": 101,
   "metadata": {
    "collapsed": true
   },
   "outputs": [],
   "source": [
    "#Create organization-to-organization dictionary for 2013-2014.\n",
    "o1_o2_dic_1314 = defaultdict(lambda: defaultdict(int))"
   ]
  },
  {
   "cell_type": "code",
   "execution_count": 102,
   "metadata": {
    "collapsed": true
   },
   "outputs": [],
   "source": [
    "o_p_map_1314=defaultdict(str)\n",
    "zzz =list(nameDF[['name','first_name']].values)\n",
    "for row in zzz:\n",
    "    try:\n",
    "        o_p_map_1314[row[1]]=row[0]\n",
    "    except:\n",
    "        print (row)\n",
    "        break"
   ]
  },
  {
   "cell_type": "code",
   "execution_count": 103,
   "metadata": {
    "collapsed": true
   },
   "outputs": [],
   "source": [
    "o1_o2_dic_1314 =defaultdict(lambda: defaultdict(int))\n",
    "for p1 in p1_p2_dic_1314:\n",
    "    for p2 in p1_p2_dic_1314:\n",
    "        o1 = o_p_map_1314[p1]\n",
    "        o2 = o_p_map_1314[p2]\n",
    "        o1_o2_dic_1314[o1][o2]+=p1_p2_dic_1314[p1][p2]"
   ]
  },
  {
   "cell_type": "code",
   "execution_count": 104,
   "metadata": {},
   "outputs": [
    {
     "name": "stdout",
     "output_type": "stream",
     "text": [
      "1\n",
      "2\n",
      "3\n",
      "4\n",
      "5\n",
      "6\n",
      "7\n",
      "8\n",
      "9\n",
      "10\n",
      "11\n",
      "12\n",
      "13\n",
      "14\n",
      "15\n",
      "16\n",
      "17\n",
      "18\n",
      "19\n",
      "20\n",
      "21\n",
      "22\n",
      "23\n",
      "24\n",
      "25\n",
      "26\n",
      "27\n",
      "28\n",
      "29\n",
      "30\n",
      "31\n",
      "32\n",
      "33\n",
      "34\n",
      "35\n",
      "36\n",
      "37\n",
      "38\n",
      "39\n",
      "40\n",
      "41\n",
      "42\n",
      "43\n",
      "44\n",
      "45\n",
      "46\n",
      "47\n",
      "48\n",
      "49\n",
      "50\n",
      "51\n",
      "52\n",
      "53\n",
      "54\n",
      "55\n",
      "56\n",
      "57\n",
      "58\n",
      "59\n",
      "60\n",
      "61\n",
      "62\n",
      "63\n",
      "64\n",
      "65\n",
      "66\n",
      "67\n",
      "68\n",
      "69\n",
      "70\n",
      "71\n",
      "72\n",
      "73\n",
      "74\n",
      "75\n",
      "76\n",
      "77\n",
      "78\n",
      "79\n",
      "80\n",
      "81\n",
      "82\n",
      "83\n",
      "84\n",
      "85\n",
      "86\n",
      "87\n",
      "88\n",
      "89\n",
      "90\n",
      "91\n",
      "92\n",
      "93\n",
      "94\n",
      "95\n",
      "96\n",
      "97\n",
      "98\n",
      "99\n",
      "100\n",
      "101\n",
      "102\n",
      "103\n",
      "104\n",
      "105\n",
      "106\n",
      "107\n",
      "108\n",
      "109\n",
      "110\n",
      "111\n",
      "112\n",
      "113\n",
      "114\n",
      "115\n",
      "116\n",
      "117\n",
      "118\n",
      "119\n",
      "120\n",
      "121\n",
      "122\n",
      "123\n",
      "124\n",
      "125\n",
      "126\n",
      "127\n",
      "128\n",
      "129\n",
      "130\n",
      "131\n",
      "132\n",
      "133\n",
      "134\n",
      "135\n",
      "136\n",
      "137\n",
      "138\n",
      "139\n",
      "140\n",
      "141\n",
      "142\n",
      "143\n",
      "144\n",
      "145\n",
      "146\n",
      "147\n",
      "148\n",
      "149\n",
      "150\n",
      "151\n",
      "152\n",
      "153\n",
      "154\n",
      "155\n",
      "156\n",
      "157\n",
      "158\n",
      "159\n",
      "160\n",
      "161\n",
      "162\n",
      "163\n",
      "164\n",
      "165\n",
      "166\n",
      "167\n",
      "168\n",
      "169\n",
      "170\n",
      "171\n",
      "172\n",
      "173\n",
      "174\n",
      "175\n",
      "176\n",
      "177\n",
      "178\n",
      "179\n",
      "180\n",
      "181\n",
      "182\n",
      "183\n",
      "184\n",
      "185\n",
      "186\n",
      "187\n",
      "188\n",
      "189\n",
      "190\n",
      "191\n",
      "192\n",
      "193\n",
      "194\n",
      "195\n",
      "196\n",
      "197\n",
      "198\n",
      "199\n",
      "200\n",
      "201\n",
      "202\n",
      "203\n",
      "204\n",
      "205\n",
      "206\n",
      "207\n",
      "208\n",
      "209\n",
      "210\n",
      "211\n",
      "212\n",
      "213\n",
      "214\n",
      "215\n",
      "216\n",
      "217\n",
      "218\n",
      "219\n",
      "220\n",
      "221\n",
      "222\n",
      "223\n",
      "224\n",
      "225\n"
     ]
    }
   ],
   "source": [
    "#Iterating every people to their respective organizations.\n",
    "orglist = nameDF['name'].values\n",
    "i=0\n",
    "for o1 in orglist:\n",
    "    i+=1\n",
    "    print(i,)\n",
    "    for o2 in orglist:\n",
    "        o1_o2_dic_1314[o1][o2] = occurenceCount_org_1314(o1,o2)"
   ]
  },
  {
   "cell_type": "markdown",
   "metadata": {},
   "source": [
    "Draw graph."
   ]
  },
  {
   "cell_type": "code",
   "execution_count": 105,
   "metadata": {
    "collapsed": true
   },
   "outputs": [],
   "source": [
    "#Create graph.\n",
    "G_org_1314 = nx.Graph()\n",
    "for o1 in o1_o2_dic_1314:\n",
    "    for o2 in o1_o2_dic_1314[o1]:\n",
    "        if not o1==o2:\n",
    "            G_org_1314.add_edge(o1,o2, weight = o1_o2_dic_1314[o1][o2])"
   ]
  },
  {
   "cell_type": "code",
   "execution_count": 106,
   "metadata": {},
   "outputs": [
    {
     "name": "stdout",
     "output_type": "stream",
     "text": [
      "Name: \n",
      "Type: Graph\n",
      "Number of nodes: 20\n",
      "Number of edges: 190\n",
      "Average degree:  19.0000\n"
     ]
    }
   ],
   "source": [
    "print(nx.info(G_org_1314))"
   ]
  },
  {
   "cell_type": "code",
   "execution_count": 107,
   "metadata": {
    "collapsed": true
   },
   "outputs": [],
   "source": [
    "#Export the graph to Gephi.\n",
    "nx.write_gexf(G_org_1314, \"network_1314_org_clean.gexf\")"
   ]
  },
  {
   "cell_type": "markdown",
   "metadata": {},
   "source": [
    "**(2016-2017)**"
   ]
  },
  {
   "cell_type": "code",
   "execution_count": 47,
   "metadata": {
    "collapsed": true
   },
   "outputs": [],
   "source": [
    "#Filter the news data frame to only include news between 2016 - 2017.\n",
    "news_16 = df_new.loc[df_new['Year'] == 2016]\n",
    "news_17 = df_new.loc[df_new['Year'] == 2017]\n",
    "news_1617 = pandas.concat([news_16, news_17])"
   ]
  },
  {
   "cell_type": "code",
   "execution_count": 48,
   "metadata": {
    "collapsed": true
   },
   "outputs": [],
   "source": [
    "articles_1617 = news_1617['tokenized_sents'].values"
   ]
  },
  {
   "cell_type": "code",
   "execution_count": 49,
   "metadata": {
    "collapsed": true
   },
   "outputs": [],
   "source": [
    "#Create organization-to-organization dictionary for 2016-2017.\n",
    "p1_p2_dic_1617 = defaultdict(lambda: defaultdict(int))"
   ]
  },
  {
   "cell_type": "code",
   "execution_count": 50,
   "metadata": {
    "collapsed": true
   },
   "outputs": [],
   "source": [
    "#Define co-occurence function for people in articles between 2016-2017.\n",
    "def occurenceCount_1617(p1,p2):\n",
    "    count=0\n",
    "    for sentences in articles_1617:\n",
    "        for sentence in sentences:\n",
    "            set_sentence = set(sentence)\n",
    "            if p1 in set_sentence and p2 in set_sentence:\n",
    "                count+=1\n",
    "    return count"
   ]
  },
  {
   "cell_type": "code",
   "execution_count": 51,
   "metadata": {},
   "outputs": [
    {
     "name": "stdout",
     "output_type": "stream",
     "text": [
      "1\n",
      "2\n",
      "3\n",
      "4\n",
      "5\n",
      "6\n",
      "7\n",
      "8\n",
      "9\n",
      "10\n",
      "11\n",
      "12\n",
      "13\n",
      "14\n",
      "15\n",
      "16\n",
      "17\n",
      "18\n",
      "19\n",
      "20\n",
      "21\n",
      "22\n",
      "23\n",
      "24\n",
      "25\n",
      "26\n",
      "27\n",
      "28\n",
      "29\n",
      "30\n",
      "31\n",
      "32\n",
      "33\n",
      "34\n",
      "35\n",
      "36\n",
      "37\n",
      "38\n",
      "39\n",
      "40\n",
      "41\n",
      "42\n",
      "43\n",
      "44\n",
      "45\n",
      "46\n",
      "47\n",
      "48\n",
      "49\n",
      "50\n",
      "51\n",
      "52\n",
      "53\n",
      "54\n",
      "55\n",
      "56\n",
      "57\n",
      "58\n",
      "59\n",
      "60\n",
      "61\n",
      "62\n",
      "63\n",
      "64\n",
      "65\n",
      "66\n",
      "67\n",
      "68\n",
      "69\n",
      "70\n",
      "71\n",
      "72\n",
      "73\n",
      "74\n",
      "75\n",
      "76\n",
      "77\n",
      "78\n",
      "79\n",
      "80\n",
      "81\n",
      "82\n",
      "83\n",
      "84\n",
      "85\n",
      "86\n",
      "87\n",
      "88\n",
      "89\n",
      "90\n",
      "91\n",
      "92\n",
      "93\n",
      "94\n",
      "95\n",
      "96\n",
      "97\n",
      "98\n",
      "99\n",
      "100\n",
      "101\n",
      "102\n",
      "103\n",
      "104\n",
      "105\n",
      "106\n",
      "107\n",
      "108\n",
      "109\n",
      "110\n",
      "111\n",
      "112\n",
      "113\n",
      "114\n",
      "115\n",
      "116\n",
      "117\n",
      "118\n",
      "119\n",
      "120\n",
      "121\n",
      "122\n",
      "123\n",
      "124\n",
      "125\n",
      "126\n",
      "127\n",
      "128\n",
      "129\n",
      "130\n",
      "131\n",
      "132\n",
      "133\n",
      "134\n",
      "135\n",
      "136\n",
      "137\n",
      "138\n",
      "139\n",
      "140\n",
      "141\n",
      "142\n",
      "143\n",
      "144\n",
      "145\n",
      "146\n",
      "147\n",
      "148\n",
      "149\n",
      "150\n",
      "151\n",
      "152\n",
      "153\n",
      "154\n",
      "155\n",
      "156\n",
      "157\n",
      "158\n",
      "159\n",
      "160\n",
      "161\n",
      "162\n",
      "163\n",
      "164\n",
      "165\n",
      "166\n",
      "167\n",
      "168\n",
      "169\n",
      "170\n",
      "171\n",
      "172\n",
      "173\n",
      "174\n",
      "175\n",
      "176\n",
      "177\n",
      "178\n",
      "179\n",
      "180\n",
      "181\n",
      "182\n",
      "183\n",
      "184\n",
      "185\n",
      "186\n",
      "187\n",
      "188\n",
      "189\n",
      "190\n",
      "191\n",
      "192\n",
      "193\n",
      "194\n",
      "195\n",
      "196\n",
      "197\n",
      "198\n",
      "199\n",
      "200\n",
      "201\n",
      "202\n",
      "203\n",
      "204\n",
      "205\n",
      "206\n",
      "207\n",
      "208\n",
      "209\n",
      "210\n",
      "211\n",
      "212\n",
      "213\n",
      "214\n",
      "215\n",
      "216\n",
      "217\n",
      "218\n",
      "219\n",
      "220\n",
      "221\n",
      "222\n",
      "223\n",
      "224\n",
      "225\n"
     ]
    }
   ],
   "source": [
    "#Iterate every people in the list for co-occurence in the article.\n",
    "namelist = nameDF['first_name'].values\n",
    "i=0\n",
    "for p1 in namelist:\n",
    "    i+=1\n",
    "    print(i,)\n",
    "    for p2 in namelist:\n",
    "        p1_p2_dic_1617[p1][p2] = occurenceCount_1617(p1,p2)"
   ]
  },
  {
   "cell_type": "code",
   "execution_count": 52,
   "metadata": {},
   "outputs": [
    {
     "data": {
      "text/plain": [
       "209"
      ]
     },
     "execution_count": 52,
     "metadata": {},
     "output_type": "execute_result"
    }
   ],
   "source": [
    "len(p1_p2_dic_1617)"
   ]
  },
  {
   "cell_type": "code",
   "execution_count": 53,
   "metadata": {
    "collapsed": true
   },
   "outputs": [],
   "source": [
    "#Create graph.\n",
    "G_1617 = nx.Graph()\n",
    "for p1 in p1_p2_dic_1617:\n",
    "    for p2 in p1_p2_dic_1617[p1]:\n",
    "        if not p1==p2:\n",
    "            G_1617.add_edge(p1,p2, weight = p1_p2_dic_1617[p1][p2])"
   ]
  },
  {
   "cell_type": "code",
   "execution_count": 54,
   "metadata": {},
   "outputs": [
    {
     "name": "stdout",
     "output_type": "stream",
     "text": [
      "Name: \n",
      "Type: Graph\n",
      "Number of nodes: 209\n",
      "Number of edges: 21736\n",
      "Average degree: 208.0000\n"
     ]
    }
   ],
   "source": [
    "print(nx.info(G_1617))"
   ]
  },
  {
   "cell_type": "code",
   "execution_count": 55,
   "metadata": {
    "collapsed": true
   },
   "outputs": [],
   "source": [
    "#Export the graph to Gephi.\n",
    "nx.write_gexf(G_1617, \"network_1617.gexf\")"
   ]
  },
  {
   "cell_type": "markdown",
   "metadata": {},
   "source": [
    "Adding organization to people nodes."
   ]
  },
  {
   "cell_type": "code",
   "execution_count": 75,
   "metadata": {
    "collapsed": true
   },
   "outputs": [],
   "source": [
    "#Define co-occurence function for organization (SMO and political parties) in articles between 2016-2017.\n",
    "def occurenceCount_org_1617(o1,o2):\n",
    "    count=0\n",
    "    for sentences in articles_1617:\n",
    "        for sentence in sentences:\n",
    "            set_sentence = set(sentence)\n",
    "            if o1 in set_sentence and o2 in set_sentence:\n",
    "                count+=1\n",
    "    return count"
   ]
  },
  {
   "cell_type": "code",
   "execution_count": 76,
   "metadata": {
    "collapsed": true
   },
   "outputs": [],
   "source": [
    "#Create organization-to-organization dictionary for 2016-2017.\n",
    "o1_o2_dic_1617 = defaultdict(lambda: defaultdict(int))"
   ]
  },
  {
   "cell_type": "code",
   "execution_count": 77,
   "metadata": {
    "collapsed": true
   },
   "outputs": [],
   "source": [
    "#Attaching people to each their organizations\n",
    "o_p_map_1617=defaultdict(str)\n",
    "zzz =list(nameDF[['name','first_name']].values)\n",
    "for row in zzz:\n",
    "    try:\n",
    "        o_p_map_1617[row[1]]=row[0]\n",
    "    except:\n",
    "        print (row)\n",
    "        break"
   ]
  },
  {
   "cell_type": "code",
   "execution_count": 78,
   "metadata": {
    "collapsed": true
   },
   "outputs": [],
   "source": [
    "o1_o2_dic_1617 =defaultdict(lambda: defaultdict(int))\n",
    "for p1 in p1_p2_dic_1617:\n",
    "    for p2 in p1_p2_dic_1617:\n",
    "        o1 = o_p_map_1617[p1]\n",
    "        o2 = o_p_map_1617[p2]\n",
    "        o1_o2_dic_1617[o1][o2]+=p1_p2_dic_1617[p1][p2]"
   ]
  },
  {
   "cell_type": "code",
   "execution_count": 108,
   "metadata": {},
   "outputs": [
    {
     "name": "stdout",
     "output_type": "stream",
     "text": [
      "1\n",
      "2\n",
      "3\n",
      "4\n",
      "5\n",
      "6\n",
      "7\n",
      "8\n",
      "9\n",
      "10\n",
      "11\n",
      "12\n",
      "13\n",
      "14\n",
      "15\n",
      "16\n",
      "17\n",
      "18\n",
      "19\n",
      "20\n",
      "21\n",
      "22\n",
      "23\n",
      "24\n",
      "25\n",
      "26\n",
      "27\n",
      "28\n",
      "29\n",
      "30\n",
      "31\n",
      "32\n",
      "33\n",
      "34\n",
      "35\n",
      "36\n",
      "37\n",
      "38\n",
      "39\n",
      "40\n",
      "41\n",
      "42\n",
      "43\n",
      "44\n",
      "45\n",
      "46\n",
      "47\n",
      "48\n",
      "49\n",
      "50\n",
      "51\n",
      "52\n",
      "53\n",
      "54\n",
      "55\n",
      "56\n",
      "57\n",
      "58\n",
      "59\n",
      "60\n",
      "61\n",
      "62\n",
      "63\n",
      "64\n",
      "65\n",
      "66\n",
      "67\n",
      "68\n",
      "69\n",
      "70\n",
      "71\n",
      "72\n",
      "73\n",
      "74\n",
      "75\n",
      "76\n",
      "77\n",
      "78\n",
      "79\n",
      "80\n",
      "81\n",
      "82\n",
      "83\n",
      "84\n",
      "85\n",
      "86\n",
      "87\n",
      "88\n",
      "89\n",
      "90\n",
      "91\n",
      "92\n",
      "93\n",
      "94\n",
      "95\n",
      "96\n",
      "97\n",
      "98\n",
      "99\n",
      "100\n",
      "101\n",
      "102\n",
      "103\n",
      "104\n",
      "105\n",
      "106\n",
      "107\n",
      "108\n",
      "109\n",
      "110\n",
      "111\n",
      "112\n",
      "113\n",
      "114\n",
      "115\n",
      "116\n",
      "117\n",
      "118\n",
      "119\n",
      "120\n",
      "121\n",
      "122\n",
      "123\n",
      "124\n",
      "125\n",
      "126\n",
      "127\n",
      "128\n",
      "129\n",
      "130\n",
      "131\n",
      "132\n",
      "133\n",
      "134\n",
      "135\n",
      "136\n",
      "137\n",
      "138\n",
      "139\n",
      "140\n",
      "141\n",
      "142\n",
      "143\n",
      "144\n",
      "145\n",
      "146\n",
      "147\n",
      "148\n",
      "149\n",
      "150\n",
      "151\n",
      "152\n",
      "153\n",
      "154\n",
      "155\n",
      "156\n",
      "157\n",
      "158\n",
      "159\n",
      "160\n",
      "161\n",
      "162\n",
      "163\n",
      "164\n",
      "165\n",
      "166\n",
      "167\n",
      "168\n",
      "169\n",
      "170\n",
      "171\n",
      "172\n",
      "173\n",
      "174\n",
      "175\n",
      "176\n",
      "177\n",
      "178\n",
      "179\n",
      "180\n",
      "181\n",
      "182\n",
      "183\n",
      "184\n",
      "185\n",
      "186\n",
      "187\n",
      "188\n",
      "189\n",
      "190\n",
      "191\n",
      "192\n",
      "193\n",
      "194\n",
      "195\n",
      "196\n",
      "197\n",
      "198\n",
      "199\n",
      "200\n",
      "201\n",
      "202\n",
      "203\n",
      "204\n",
      "205\n",
      "206\n",
      "207\n",
      "208\n",
      "209\n",
      "210\n",
      "211\n",
      "212\n",
      "213\n",
      "214\n",
      "215\n",
      "216\n",
      "217\n",
      "218\n",
      "219\n",
      "220\n",
      "221\n",
      "222\n",
      "223\n",
      "224\n",
      "225\n"
     ]
    }
   ],
   "source": [
    "#Iterating every people to their respective organizations.\n",
    "#orglist = orgDF['Label'].values\n",
    "orglist = nameDF['name'].values\n",
    "i=0\n",
    "for o1 in orglist:\n",
    "    i+=1\n",
    "    print(i,)\n",
    "    for o2 in orglist:\n",
    "        o1_o2_dic_1617[o1][o2] = occurenceCount_org_1617(o1,o2)"
   ]
  },
  {
   "cell_type": "markdown",
   "metadata": {},
   "source": [
    "Draw graph."
   ]
  },
  {
   "cell_type": "code",
   "execution_count": 109,
   "metadata": {
    "collapsed": true
   },
   "outputs": [],
   "source": [
    "#Create graph.\n",
    "G_org_1617 = nx.Graph()\n",
    "for o1 in o1_o2_dic_1617:\n",
    "    for o2 in o1_o2_dic_1617[o1]:\n",
    "        if not o1==o2:\n",
    "            G_org_1617.add_edge(o1,o2, weight = o1_o2_dic_1617[o1][o2])"
   ]
  },
  {
   "cell_type": "code",
   "execution_count": 84,
   "metadata": {},
   "outputs": [
    {
     "name": "stdout",
     "output_type": "stream",
     "text": [
      "Name: \n",
      "Type: Graph\n",
      "Number of nodes: 37\n",
      "Number of edges: 428\n",
      "Average degree:  23.1351\n"
     ]
    }
   ],
   "source": [
    "print(nx.info(G_org_1617))"
   ]
  },
  {
   "cell_type": "code",
   "execution_count": 110,
   "metadata": {
    "collapsed": true
   },
   "outputs": [],
   "source": [
    "#Export the graph to Gephi.\n",
    "nx.write_gexf(G_org_1617, \"network_1617_org_clean.gexf\")"
   ]
  },
  {
   "cell_type": "markdown",
   "metadata": {},
   "source": [
    "<h2>5. Collocations: Bigrams and Trigrams</h2>\n",
    "**(WEEK 2)**\n",
    "\n",
    "By looking at collocations we can see what are the most common bigrams and trigrams in the text. We are going to focus on the 3 election cycles. By looking at the bigrams and trigrams we can see what are the most talked topics, people, or organizations in the three time periods."
   ]
  },
  {
   "cell_type": "code",
   "execution_count": 114,
   "metadata": {
    "collapsed": true
   },
   "outputs": [],
   "source": [
    "df_new2 = pandas.concat([newsDF, newsDF2])"
   ]
  },
  {
   "cell_type": "markdown",
   "metadata": {},
   "source": [
    "Create function to normalize tokens."
   ]
  },
  {
   "cell_type": "code",
   "execution_count": 119,
   "metadata": {
    "collapsed": true
   },
   "outputs": [],
   "source": [
    "stop_words_nltk = stopwords.words('english')\n",
    "#stop_words = [\"the\",\"it\",\"she\",\"he\", \"a\"] #Uncomment this line if you want to use your own list of stopwords.\n",
    "\n",
    "#The stemmers and lemmers need to be initialized before bing run\n",
    "porter = nltk.stem.porter.PorterStemmer()\n",
    "snowball = nltk.stem.snowball.SnowballStemmer('english')\n",
    "wordnet = nltk.stem.WordNetLemmatizer()\n",
    "\n",
    "def normlizeTokens(tokenLst, stopwordLst = None, stemmer = None, lemmer = None):\n",
    "    #We can use a generator here as we just need to iterate over it\n",
    "\n",
    "    #Lowering the case and removing non-words\n",
    "    workingIter = (w.lower() for w in tokenLst if w.isalpha())\n",
    "\n",
    "    #Now we can use the semmer, if provided\n",
    "    if stemmer is not None:\n",
    "        workingIter = (stemmer.stem(w) for w in workingIter)\n",
    "        \n",
    "    #And the lemmer\n",
    "    if lemmer is not None:\n",
    "        workingIter = (lemmer.lemmatize(w) for w in workingIter)\n",
    "    \n",
    "    #And remove the stopwords\n",
    "    if stopwordLst is not None:\n",
    "        workingIter = (w for w in workingIter if w not in stopwordLst)\n",
    "    #We will return a list with the stopwords removed\n",
    "    return list(workingIter)"
   ]
  },
  {
   "cell_type": "markdown",
   "metadata": {},
   "source": [
    "Prepare the data by tokenizing text and normalizing the tokens."
   ]
  },
  {
   "cell_type": "code",
   "execution_count": 120,
   "metadata": {
    "collapsed": true
   },
   "outputs": [],
   "source": [
    "df_new2['tokenized_text'] = df_new2['Article'].apply(lambda x: nltk.word_tokenize(x))"
   ]
  },
  {
   "cell_type": "code",
   "execution_count": 121,
   "metadata": {
    "collapsed": true
   },
   "outputs": [],
   "source": [
    "df_new2['normalized_tokens'] = df_new2['tokenized_text'].apply(lambda x: normlizeTokens(x, stopwordLst = stop_words_nltk, stemmer = porter))\n",
    "\n",
    "df_new2['normalized_tokens_count'] = df_new2['normalized_tokens'].apply(lambda x: len(x))"
   ]
  },
  {
   "cell_type": "code",
   "execution_count": 127,
   "metadata": {
    "collapsed": true
   },
   "outputs": [],
   "source": [
    "#Defining function to count bigram score\n",
    "def bigramScoring(count, wordsTuple, total):\n",
    "    return count"
   ]
  },
  {
   "cell_type": "markdown",
   "metadata": {},
   "source": [
    "<b>2008-2009</b>\n",
    "\n",
    "Between 2008 - 2009 the 'Democratic Party' and its leader 'Susilo Bambang Yudhoyono' (the current 'president') and his 'vice president' 'Jusuf Kalla' appears a lot. The word 'presidential candidate' and 'running mate' also appears a lot. Meanwhile, Yudhoyono's challenger 'Megawati Soekarnoputri' also appears in the top bigrams. There are also many party names in the bigrams and trigrams. These are parties that also compete in the elections or are in coalition with either Yudhoyono's or Soekarnoputri's camp such as the 'National Awakening Party'."
   ]
  },
  {
   "cell_type": "code",
   "execution_count": 131,
   "metadata": {
    "collapsed": true
   },
   "outputs": [],
   "source": [
    "news_08_2 = df_new2.loc[df_new2['Year'] == 2008]\n",
    "news_09_2 = df_new2.loc[df_new2['Year'] == 2009]\n",
    "news_0809_2 = pandas.concat([news_08_2, news_09_2])"
   ]
  },
  {
   "cell_type": "code",
   "execution_count": 132,
   "metadata": {},
   "outputs": [
    {
     "name": "stdout",
     "output_type": "stream",
     "text": [
      "There are 1354962 bigrams in the finder\n"
     ]
    }
   ],
   "source": [
    "news_0809_bigrams = nltk.collocations.BigramCollocationFinder.from_words(news_0809_2['normalized_tokens'].sum())\n",
    "print(\"There are {} bigrams in the finder\".format(news_0809_bigrams.N))"
   ]
  },
  {
   "cell_type": "code",
   "execution_count": 133,
   "metadata": {},
   "outputs": [
    {
     "data": {
      "text/plain": [
       "[(('democrat', 'parti'), 25520.28694522059),\n",
       " (('susilo', 'bambang'), 19287.18902546337),\n",
       " (('rp', 'billion'), 13243.203097206115),\n",
       " (('bambang', 'yudhoyono'), 12978.799592753652),\n",
       " (('hous', 'repres'), 12973.052518782108),\n",
       " (('presid', 'susilo'), 11905.69445665511),\n",
       " (('gu', 'dur'), 11089.390276246308),\n",
       " (('indonesian', 'democrat'), 10848.721399522787),\n",
       " (('run', 'mate'), 10566.780484713616),\n",
       " (('parti', 'struggl'), 10387.814192375501),\n",
       " (('polit', 'parti'), 10080.927594079949),\n",
       " (('jusuf', 'kalla'), 10004.686453842438),\n",
       " (('prosper', 'justic'), 9781.069778036082),\n",
       " (('human', 'right'), 8794.631296448504),\n",
       " (('gener', 'elect'), 8707.656751765951),\n",
       " (('presidenti', 'elect'), 8694.159424527956),\n",
       " (('vice', 'presid'), 8448.667145727415),\n",
       " (('rp', 'trillion'), 8352.661549568324),\n",
       " (('jakarta', 'post'), 8329.759227984241),\n",
       " (('rp', 'million'), 8167.305725269753),\n",
       " (('east', 'java'), 8108.221619215274),\n",
       " (('megawati', 'soekarnoputri'), 7431.311562682153),\n",
       " (('nation', 'mandat'), 7262.749551377209),\n",
       " (('golkar', 'parti'), 7218.639945019915),\n",
       " (('nation', 'awaken'), 6756.487298285561),\n",
       " (('legisl', 'elect'), 6613.3073016794315),\n",
       " (('ó', 'said'), 6557.141600826372),\n",
       " (('presidenti', 'candid'), 6515.44715746339),\n",
       " (('constitut', 'court'), 5847.116850462989),\n",
       " (('unit', 'develop'), 5723.9348453828625),\n",
       " (('west', 'java'), 5400.296415478762),\n",
       " (('told', 'jakarta'), 5285.50103363543),\n",
       " (('mandat', 'parti'), 5026.1300866429465),\n",
       " (('nahdlatul', 'ulama'), 4925.858751804641),\n",
       " (('elect', 'commiss'), 4913.529530434453),\n",
       " (('corrupt', 'erad'), 4879.26193770853),\n",
       " (('plenari', 'session'), 4604.846057705793),\n",
       " (('justic', 'parti'), 4570.643814682334),\n",
       " (('awaken', 'parti'), 4551.558764003159),\n",
       " (('suprem', 'court'), 4422.847011805295)]"
      ]
     },
     "execution_count": 133,
     "metadata": {},
     "output_type": "execute_result"
    }
   ],
   "source": [
    "bigram_measures = nltk.collocations.BigramAssocMeasures()\n",
    "news_0809_bigrams.score_ngrams(bigram_measures.likelihood_ratio)[:40]"
   ]
  },
  {
   "cell_type": "code",
   "execution_count": 134,
   "metadata": {},
   "outputs": [
    {
     "data": {
      "text/plain": [
       "[(('democrat', 'parti', 'struggl'), 37.66707154116951),\n",
       " (('indonesian', 'democrat', 'parti'), 37.43603811490739),\n",
       " (('susilo', 'bambang', 'yudhoyono'), 35.04268832918024),\n",
       " (('presid', 'susilo', 'bambang'), 34.452626248498554),\n",
       " (('prosper', 'justic', 'parti'), 27.567418686735802),\n",
       " (('gener', 'elect', 'commiss'), 26.66249179091584),\n",
       " (('nation', 'mandat', 'parti'), 26.587442367774052),\n",
       " (('told', 'jakarta', 'post'), 25.825997164886026),\n",
       " (('justic', 'parti', 'pk'), 25.82524066475451),\n",
       " (('nation', 'awaken', 'parti'), 24.329315064421134),\n",
       " (('unit', 'develop', 'parti'), 24.102301851480462),\n",
       " (('mandat', 'parti', 'pan'), 24.020389172883675),\n",
       " (('develop', 'parti', 'ppp'), 22.20265600595966),\n",
       " (('awaken', 'parti', 'pkb'), 21.794043301790968),\n",
       " (('elect', 'commiss', 'kpu'), 20.589305274658173),\n",
       " (('vice', 'presid', 'jusuf'), 19.899536123583484),\n",
       " (('presid', 'jusuf', 'kalla'), 19.621052674452148),\n",
       " (('hi', 'run', 'mate'), 19.052110949625405),\n",
       " (('corrupt', 'erad', 'commiss'), 19.026206361032717),\n",
       " (('erad', 'commiss', 'kpk'), 17.860499714258413)]"
      ]
     },
     "execution_count": 134,
     "metadata": {},
     "output_type": "execute_result"
    }
   ],
   "source": [
    "trigram_measures = nltk.collocations.TrigramAssocMeasures()\n",
    "Trigrams_0809 = nltk.collocations.TrigramCollocationFinder.from_words(news_0809_2['normalized_tokens'].sum())\n",
    "Trigrams_0809.score_ngrams(trigram_measures.student_t)[:20]"
   ]
  },
  {
   "cell_type": "markdown",
   "metadata": {},
   "source": [
    "<b>2013-2014</b>\n",
    "\n",
    "In the next election Yudhoyono can no longer run as he is restricted by his term limit, but he is still mentioned in the top bigrams and trigrams of 2013-2014. Not appointing a new presidential candidate, Yudhoyono's 'Democratic Party' is not the only one populating the top collocations as the top bigrams are populated by 'presidential candidates' such as 'Joko Widodo' from the 'Democratic Party of Struggle' and 'Prabowo Subianto'from Gerindra party (not mentioned in the top collocation somehow).\n",
    "\n",
    "Other words pertinent to elections such as the 'General Election Commission', 'polling station', 'presidential election', and 'general election' also appear on the top bigrams. These collocations are expected from the articles between 2013-2014."
   ]
  },
  {
   "cell_type": "code",
   "execution_count": 135,
   "metadata": {
    "collapsed": true
   },
   "outputs": [],
   "source": [
    "news_13_2 = df_new2.loc[df_new2['Year'] == 2013]\n",
    "news_14_2 = df_new2.loc[df_new2['Year'] == 2014]\n",
    "news_1314_2 = pandas.concat([news_13_2, news_14_2])"
   ]
  },
  {
   "cell_type": "code",
   "execution_count": 136,
   "metadata": {},
   "outputs": [
    {
     "name": "stdout",
     "output_type": "stream",
     "text": [
      "There are 2098356 bigrams in the finder\n"
     ]
    }
   ],
   "source": [
    "news_1314_bigrams = nltk.collocations.BigramCollocationFinder.from_words(news_1314_2['normalized_tokens'].sum())\n",
    "print(\"There are {} bigrams in the finder\".format(news_1314_bigrams.N))"
   ]
  },
  {
   "cell_type": "code",
   "execution_count": 403,
   "metadata": {},
   "outputs": [
    {
     "data": {
      "text/plain": [
       "[(('democrat', 'parti'), 43967.87942274233),\n",
       " (('susilo', 'bambang'), 25013.829392080115),\n",
       " (('joko', 'widodo'), 24854.25861216488),\n",
       " (('presidenti', 'candid'), 22728.83554899396),\n",
       " (('hous', 'repres'), 20594.417166979536),\n",
       " (('rp', 'billion'), 18953.900205328675),\n",
       " (('human', 'right'), 18008.774193878482),\n",
       " (('indonesian', 'democrat'), 17506.38277699175),\n",
       " (('corrupt', 'erad'), 16943.574205736324),\n",
       " (('presid', 'susilo'), 16501.517339187772),\n",
       " (('parti', 'struggl'), 15859.170069515174),\n",
       " (('erad', 'commiss'), 14954.754940374136),\n",
       " (('prabowo', 'subianto'), 14815.158966200353),\n",
       " (('prosper', 'justic'), 14431.527662934335),\n",
       " (('bambang', 'yudhoyono'), 14306.991610630617),\n",
       " (('west', 'java'), 14140.79317372668),\n",
       " (('polit', 'parti'), 14112.081704255786),\n",
       " (('presidenti', 'elect'), 12281.658357493077),\n",
       " (('prime', 'minist'), 12213.08193224512),\n",
       " (('legisl', 'elect'), 11620.139471069442),\n",
       " (('rp', 'trillion'), 11513.163827750031),\n",
       " (('run', 'mate'), 11506.73580910495),\n",
       " (('constitut', 'court'), 10441.2047425714),\n",
       " (('gener', 'elect'), 10377.831843359532),\n",
       " (('megawati', 'soekarnoputri'), 10329.500950057634),\n",
       " (('commiss', 'kpk'), 10177.433444809947),\n",
       " (('unit', 'develop'), 9989.961557907372),\n",
       " (('jusuf', 'kalla'), 9788.086280334397),\n",
       " (('golkar', 'parti'), 9486.704401569428),\n",
       " (('aburiz', 'bakri'), 8611.033148418255),\n",
       " (('jakarta', 'post'), 8444.001293058875),\n",
       " (('last', 'year'), 8272.721939384724),\n",
       " (('graft', 'case'), 8232.326185135262),\n",
       " (('nation', 'mandat'), 8075.65796394226),\n",
       " (('nation', 'awaken'), 8021.86364253393),\n",
       " (('east', 'java'), 7854.877850928846),\n",
       " (('jakarta', 'governor'), 7417.5810623784455),\n",
       " (('central', 'java'), 7286.7269362402985),\n",
       " (('last', 'week'), 6495.382358643584),\n",
       " (('poll', 'station'), 6458.777820977241)]"
      ]
     },
     "execution_count": 403,
     "metadata": {},
     "output_type": "execute_result"
    }
   ],
   "source": [
    "bigram_measures = nltk.collocations.BigramAssocMeasures()\n",
    "news_1314_bigrams.score_ngrams(bigram_measures.likelihood_ratio)[:40]"
   ]
  },
  {
   "cell_type": "code",
   "execution_count": 137,
   "metadata": {},
   "outputs": [
    {
     "data": {
      "text/plain": [
       "[(('indonesian', 'democrat', 'parti'), 47.80322828914486),\n",
       " (('democrat', 'parti', 'struggl'), 46.654772804649134),\n",
       " (('presid', 'susilo', 'bambang'), 40.01228053815032),\n",
       " (('susilo', 'bambang', 'yudhoyono'), 36.98637102183837),\n",
       " (('corrupt', 'erad', 'commiss'), 36.20750644358102),\n",
       " (('erad', 'commiss', 'kpk'), 35.944137600990054),\n",
       " (('prosper', 'justic', 'parti'), 33.54008073189149),\n",
       " (('justic', 'parti', 'pk'), 33.01332932349047),\n",
       " (('unit', 'develop', 'parti'), 30.346450771772073),\n",
       " (('develop', 'parti', 'ppp'), 30.131480951253806),\n",
       " (('nation', 'mandat', 'parti'), 28.911124343169973),\n",
       " (('mandat', 'parti', 'pan'), 28.407310527586432),\n",
       " (('gener', 'elect', 'commiss'), 27.890313744314003),\n",
       " (('nation', 'awaken', 'parti'), 26.62530430320569),\n",
       " (('told', 'jakarta', 'post'), 26.057095697555855),\n",
       " (('awaken', 'parti', 'pkb'), 25.999667801232746),\n",
       " (('elect', 'commiss', 'kpu'), 24.49360519289598),\n",
       " (('governor', 'joko', 'widodo'), 24.474306618808615),\n",
       " (('jakarta', 'governor', 'joko'), 23.85301799272),\n",
       " (('rp', 'billion', 'us'), 23.043103700018918)]"
      ]
     },
     "execution_count": 137,
     "metadata": {},
     "output_type": "execute_result"
    }
   ],
   "source": [
    "trigram_measures = nltk.collocations.TrigramAssocMeasures()\n",
    "Trigrams_1314 = nltk.collocations.TrigramCollocationFinder.from_words(news_1314_2['normalized_tokens'].sum())\n",
    "Trigrams_1314.score_ngrams(trigram_measures.student_t)[:20]"
   ]
  },
  {
   "cell_type": "markdown",
   "metadata": {},
   "source": [
    "<b>2016-2017</b>\n",
    "\n",
    "The next general and presidential elections will be held in 2019, but the capital city's gubernatorial election sets the stage for the 2019 elections. The incumbent governor 'Basuki 'Ahok' Tjahaja Purnama' (who was 'Joko Widodo's vice governor before Widodo won the presidential election in 2014) is challenged in the 2017 'gubernatorial election'. Interestingly, his challengers' names are not in the top collocations list.\n",
    "\n",
    "It is interesting to see SMOs ('Islamic Defenders Front' and 'Nahdlatul Ulama) appears on the top bigrams and trigrams. This might signal the SMO's importance between 2016-2017."
   ]
  },
  {
   "cell_type": "code",
   "execution_count": 123,
   "metadata": {
    "collapsed": true
   },
   "outputs": [],
   "source": [
    "news_16_2 = df_new2.loc[df_new2['Year'] == 2016]\n",
    "news_17_2 = df_new2.loc[df_new2['Year'] == 2017]\n",
    "news_1617_2 = pandas.concat([news_16_2, news_17_2])"
   ]
  },
  {
   "cell_type": "code",
   "execution_count": 124,
   "metadata": {},
   "outputs": [
    {
     "name": "stdout",
     "output_type": "stream",
     "text": [
      "There are 1784277 bigrams in the finder\n"
     ]
    }
   ],
   "source": [
    "news_1617_bigrams = nltk.collocations.BigramCollocationFinder.from_words(news_1617_2['normalized_tokens'].sum())\n",
    "print(\"There are {} bigrams in the finder\".format(news_1617_bigrams.N))"
   ]
  },
  {
   "cell_type": "code",
   "execution_count": 128,
   "metadata": {},
   "outputs": [
    {
     "data": {
      "text/plain": [
       "[(('tjahaja', 'purnama'), 18781.49310834736),\n",
       " (('democrat', 'parti'), 18701.098677415743),\n",
       " (('human', 'right'), 16874.369221892543),\n",
       " (('presid', 'joko'), 16002.513614832464),\n",
       " (('hous', 'repres'), 15961.500866977702),\n",
       " (('joko', 'òjokowió'), 15759.297067764726),\n",
       " (('ó', 'said'), 15081.48180635501),\n",
       " (('governor', 'basuki'), 12241.661948712648),\n",
       " (('òjokowió', 'widodo'), 12116.305927135718),\n",
       " (('rp', 'trillion'), 11973.661605634694),\n",
       " (('basuki', 'òahokó'), 11907.15130970023),\n",
       " (('indonesian', 'democrat'), 11893.59104672059),\n",
       " (('òahokó', 'tjahaja'), 11838.315134683928),\n",
       " (('corrupt', 'erad'), 11516.101738182819),\n",
       " (('parti', 'struggl'), 11042.938201536219),\n",
       " (('west', 'java'), 10395.381961895302),\n",
       " (('rp', 'billion'), 9835.07559961558),\n",
       " (('erad', 'commiss'), 9561.164952829293),\n",
       " (('jakarta', 'post'), 9537.996761781791),\n",
       " (('polit', 'parti'), 9220.60805660196),\n",
       " (('last', 'year'), 9189.619746595792),\n",
       " (('prosper', 'justic'), 8954.987494605799),\n",
       " (('golkar', 'parti'), 8942.617919532386),\n",
       " (('gubernatori', 'elect'), 8522.305467173588),\n",
       " (('setya', 'novanto'), 8174.582450045223),\n",
       " (('jakarta', 'governor'), 7818.0927778841615),\n",
       " (('social', 'media'), 7586.637274228124),\n",
       " (('nahdlatul', 'ulama'), 7472.135619904667),\n",
       " (('prime', 'minist'), 7244.223981502225),\n",
       " (('nation', 'polic'), 7223.43079051309),\n",
       " (('run', 'mate'), 7143.280370628676),\n",
       " (('east', 'java'), 6862.9919111531435),\n",
       " (('susilo', 'bambang'), 6724.090173330813),\n",
       " (('epap', 'io'), 6607.207771955589),\n",
       " (('io', 'itun'), 6593.512007012414),\n",
       " (('itun', 'android'), 6532.752412088453),\n",
       " (('subscrib', 'epap'), 6440.600229750968),\n",
       " (('android', 'googl'), 6250.26276720217),\n",
       " (('commiss', 'kpk'), 6242.9120373759715),\n",
       " (('gerindra', 'parti'), 6172.375597764727)]"
      ]
     },
     "execution_count": 128,
     "metadata": {},
     "output_type": "execute_result"
    }
   ],
   "source": [
    "bigram_measures = nltk.collocations.BigramAssocMeasures()\n",
    "news_1617_bigrams.score_ngrams(bigram_measures.likelihood_ratio)[:40]"
   ]
  },
  {
   "cell_type": "code",
   "execution_count": 130,
   "metadata": {},
   "outputs": [
    {
     "data": {
      "text/plain": [
       "[(('democrat', 'parti', 'struggl'), 37.81415527445999),\n",
       " (('indonesian', 'democrat', 'parti'), 37.798466737782995),\n",
       " (('presid', 'joko', 'òjokowió'), 31.192818691913335),\n",
       " (('jakarta', 'governor', 'basuki'), 29.731614161041545),\n",
       " (('joko', 'òjokowió', 'widodo'), 29.61415674097735),\n",
       " (('corrupt', 'erad', 'commiss'), 28.913546941193907),\n",
       " (('erad', 'commiss', 'kpk'), 28.495433883001283),\n",
       " (('basuki', 'òahokó', 'tjahaja'), 28.124704963792656),\n",
       " (('òahokó', 'tjahaja', 'purnama'), 26.88864336742942),\n",
       " (('told', 'jakarta', 'post'), 26.39989611760245),\n",
       " (('prosper', 'justic', 'parti'), 25.396566501578068),\n",
       " (('governor', 'basuki', 'òahokó'), 25.079824071861555),\n",
       " (('nation', 'mandat', 'parti'), 24.918278811078007),\n",
       " (('justic', 'parti', 'pk'), 24.636985948007958),\n",
       " (('mandat', 'parti', 'pan'), 23.895384605701093),\n",
       " (('unit', 'develop', 'parti'), 23.25811050406054),\n",
       " (('develop', 'parti', 'ppp'), 22.692886056596315),\n",
       " (('jakarta', 'gubernatori', 'elect'), 22.335688680104614),\n",
       " (('nation', 'awaken', 'parti'), 21.70144719671678),\n",
       " (('islam', 'defend', 'front'), 21.633250442742504)]"
      ]
     },
     "execution_count": 130,
     "metadata": {},
     "output_type": "execute_result"
    }
   ],
   "source": [
    "trigram_measures = nltk.collocations.TrigramAssocMeasures()\n",
    "Trigrams_1617 = nltk.collocations.TrigramCollocationFinder.from_words(news_1617_2['normalized_tokens'].sum())\n",
    "Trigrams_1617.score_ngrams(trigram_measures.student_t)[:20]"
   ]
  },
  {
   "cell_type": "markdown",
   "metadata": {},
   "source": [
    "<h3>Concordance Index</h3>"
   ]
  },
  {
   "cell_type": "code",
   "execution_count": 10,
   "metadata": {
    "collapsed": true
   },
   "outputs": [],
   "source": [
    "#Filter for articles from 2008-2009.\n",
    "news_SMO_08 = news_SMO.loc[news_SMO['Year'] == 2008]\n",
    "news_SMO_09 = news_SMO.loc[news_SMO['Year'] == 2009]\n",
    "news_SMO_0809 = pandas.concat([news_SMO_08, news_SMO_09])"
   ]
  },
  {
   "cell_type": "code",
   "execution_count": 11,
   "metadata": {
    "collapsed": true
   },
   "outputs": [],
   "source": [
    "#Filter for articles from 2008-2009.\n",
    "news_SMO_13 = news_SMO.loc[news_SMO['Year'] == 2013]\n",
    "news_SMO_14 = news_SMO.loc[news_SMO['Year'] == 2014]\n",
    "news_SMO_1314 = pandas.concat([news_SMO_13, news_SMO_14])"
   ]
  },
  {
   "cell_type": "code",
   "execution_count": 12,
   "metadata": {
    "collapsed": true
   },
   "outputs": [],
   "source": [
    "#Filter for articles from 2008-2009.\n",
    "news_SMO_16 = news_SMO.loc[news_SMO['Year'] == 2016]\n",
    "news_SMO_17 = news_SMO.loc[news_SMO['Year'] == 2017]\n",
    "news_SMO_1617 = pandas.concat([news_SMO_16, news_SMO_17])"
   ]
  },
  {
   "cell_type": "code",
   "execution_count": 36,
   "metadata": {
    "collapsed": true
   },
   "outputs": [],
   "source": [
    "#Sample random 100 articles for SMO between 2008-2009.\n",
    "random_SMO_0809 = news_SMO_0809.sample(n=100)\n",
    "\n",
    "#Sample random 100 articles for SMO between 2013-2014.\n",
    "random_SMO_1314 = news_SMO_1314.sample(n=100)\n",
    "\n",
    "#Sample random 100 articles for SMO between 2016-2017.\n",
    "random_SMO_1617 = news_SMO_1617.sample(n=100)"
   ]
  },
  {
   "cell_type": "markdown",
   "metadata": {},
   "source": [
    "Define a flattening function."
   ]
  },
  {
   "cell_type": "code",
   "execution_count": 39,
   "metadata": {
    "collapsed": true
   },
   "outputs": [],
   "source": [
    "def flatten(x):\n",
    "    ret = []\n",
    "    for s in x:\n",
    "        ret += s\n",
    "    return ret"
   ]
  },
  {
   "cell_type": "code",
   "execution_count": 40,
   "metadata": {},
   "outputs": [],
   "source": [
    "random_SMO_0809['tokens'] = random_SMO_0809['sentences'].apply(flatten)\n",
    "random_SMO_1314['tokens'] = random_SMO_1314['sentences'].apply(flatten)\n",
    "random_SMO_1617['tokens'] = random_SMO_1617['sentences'].apply(flatten)"
   ]
  },
  {
   "cell_type": "markdown",
   "metadata": {},
   "source": [
    "Use this function to use the concordance index at 3 different time periods. Uncomment to define different timeframes."
   ]
  },
  {
   "cell_type": "code",
   "execution_count": 48,
   "metadata": {},
   "outputs": [],
   "source": [
    "#t = nltk.Text(random_SMO_0809['tokens'].sum())\n",
    "#t = nltk.Text(random_SMO_1314['tokens'].sum())\n",
    "t = nltk.Text(random_SMO_1617['tokens'].sum())"
   ]
  },
  {
   "cell_type": "markdown",
   "metadata": {},
   "source": [
    "Then we can retrieve all the words that cooccur with a word in a given word window. Let's first look at 'Tjahaja', a name that occurs most frequently in our bigram analysis."
   ]
  },
  {
   "cell_type": "code",
   "execution_count": 42,
   "metadata": {},
   "outputs": [
    {
     "name": "stdout",
     "output_type": "stream",
     "text": [
      "Displaying 25 of 48 matches:\n",
      "ft ) ( JP/Dhoni Setiawan ) - Basuki Tjahaja Purnama ( JP/Seto Wardhana ) Jakart\n",
      "a ) Jakarta Governor Basuki 'Ahok ' Tjahaja Purnama is scheduled to be pitted a\n",
      "ing Jakarta governor Basuki 'Ahok ' Tjahaja Purnama , the caning of homosexuals\n",
      " Jakarta Governor Basuki `` Ahok '' Tjahaja Purnama . As many as 2,241 police p\n",
      "ive Jakarta governor Basuki 'Ahok ' Tjahaja Purnama for blasphemy . Soon after \n",
      "ernatorial candidate Basuki 'Ahok ' Tjahaja Purnama with blasphemy , ended the \n",
      "nity to not vote for Basuki 'Ahok ' Tjahaja Purnama because he is a Christian i\n",
      " Jakarta Governor Basuki `` Ahok '' Tjahaja Purnama on blasphemy charges a lett\n",
      " of Jakarta Governor Basuki 'Ahok ' Tjahaja Purnama , a Christian and a Chinese\n",
      "ernatorial candidate Basuki 'Ahok ' Tjahaja Purnama has been facing challenges \n",
      "cumbent candidate Basuki `` Ahok '' Tjahaja Purnama were recently in the spotli\n",
      "mer Jakarta governor Basuki 'Ahok ' Tjahaja Purnama . The Jakarta administratio\n",
      " of Jakarta Governor Basuki 'Ahok ' Tjahaja Purnama and frankly I think what he\n",
      "tating that Jakarta Governor Basuki Tjahaja 'Ahok ' Purnama blasphemed against \n",
      "ute Jakarta Governor Basuki 'Ahok ' Tjahaja Purnama for alleged blasphemy . Ind\n",
      "l , Jakarta Governor Basuki 'Ahok ' Tjahaja Purnama presented a noted Muslim sc\n",
      " in Jakarta Governor Basuki 'Ahok ' Tjahaja Purnama 's blasphemy case dossier .\n",
      "nst Jakarta Governor Basuki 'Ahok ' Tjahaja Purnama , had warned the groups not\n",
      "hen Jakarta governor Basuki 'Ahok ' Tjahaja Purnama , the police 's decision to\n",
      " of Jakarta Governor Basuki 'Ahok ' Tjahaja Purnama at the auditorium of the Ag\n",
      " of Jakarta Governor Basuki 'Ahok ' Tjahaja Purnama on Tuesday , Indonesian Ule\n",
      " Jakarta Governor Basuki `` Ahok '' Tjahaja Purnama said the governor 's legal \n",
      "ame Jakarta Governor Basuki 'Ahok ' Tjahaja Purnama a blasphemy suspect for his\n",
      "hen-Jakarta governor Basuki 'Ahok ' Tjahaja Purnama , a Christian of Chinese de\n",
      "secution of Governor Basuki 'Ahok ' Tjahaja Purnama on allegations of blasphemy\n"
     ]
    }
   ],
   "source": [
    "t.concordance('tjahaja')"
   ]
  },
  {
   "cell_type": "markdown",
   "metadata": {},
   "source": [
    "We are able to see keywords in context. For example, we can see that Basuko 'Ahok' Tjahaja Purnama faces a blasphemy charge by Islamic groups.\n",
    "\n",
    "Let's try to use concordance index of our temporal data. Let's look at the context for FPI (an Islamic SMO) in the three different election cycles."
   ]
  },
  {
   "cell_type": "code",
   "execution_count": 45,
   "metadata": {},
   "outputs": [
    {
     "name": "stdout",
     "output_type": "stream",
     "text": [
      "Displaying 25 of 223 matches:\n",
      "airman of the Islam Defenders Front ( FPI ) , is accused of masterminding the a\n",
      " made during police interrogations of FPI members . The FPI members later withd\n",
      "e interrogations of FPI members . The FPI members later withdrew their statemen\n",
      "that they did not put pressure on the FPI members to give false testimony . Jud\n",
      "undamentalist Islam Defenders Front ( FPI ) , which has gained infamy for its v\n",
      " `` Closed down by the South Sulawesi FPI '' sign in the office before they pea\n",
      "ce in Jakarta unconditionally release FPI leader Rizieq Shihab . Rizieq was arr\n",
      "n Jakarta for his alleged role in the FPI attack on participants of a pro-toler\n",
      "onas gathering and , according to the FPI , incited the violence . -- Multa Fid\n",
      "pter of the Islamic Defenders Front ( FPI ) Habib Mahdi Muhammad Syahab said th\n",
      " Habib Mahdi Muhammad Syahab said the FPI remained firm in its opposition to th\n",
      "embers of the Islam Defenders Front ( FPI ) over an attack on activists at the \n",
      "ed the government quickly disband the FPI , arguing that under the law , the gr\n",
      " the government 's stance against the FPI , saying police should have promptly \n",
      "egal expert Frans H. Winarta said all FPI members involved in Sunday 's assault\n",
      " At least 70 people were injured when FPI members used bamboo sticks to attack \n",
      "n against the relevant members of the FPI . Jakarta Police chief Insp . Gen. Ad\n",
      ", several police officers visited the FPI headquarters in Petamburan , Central \n",
      "ft after an hour-long discussion with FPI leader Habib Rizieq Shihab . They did\n",
      "or support for the dissolution of the FPI . Lawmaker Djoko Susilo of the Nation\n",
      "the police to arrest Rizieq and other FPI leaders , alleging the attack had occ\n",
      "vernment could dissolve or freeze the FPI for violating Law No . 8/1985 and gov\n",
      "der and causes public insecurity . `` FPI members have clearly violated the law\n",
      "lice detained Islam Defenders Front ( FPI ) leader Rizieq Shihab after charging\n",
      "ay when he held a press conference at FPI headquarters in Petamburan , Central \n"
     ]
    }
   ],
   "source": [
    "#FPI (organization name) in 2008-2009.\n",
    "t.concordance('FPI')"
   ]
  },
  {
   "cell_type": "code",
   "execution_count": 47,
   "metadata": {},
   "outputs": [
    {
     "name": "stdout",
     "output_type": "stream",
     "text": [
      "Displaying 25 of 407 matches:\n",
      "bers of the Islam Defender 's Front ( FPI ) held as suspects in a violent scuff\n",
      "rs injured and several cars damaged . FPI secretary-general Novel Bamu'min and \n",
      "vel Bamu'min and another high-ranking FPI member , Shahabudin Anggawi , are two\n",
      "ting with police officers . Four more FPI members were also arrested after the \n",
      "rd-line group Islam Defenders Front ( FPI ) , Novel Bamu'min , for allegedly be\n",
      "ing Novel , the police also asked for FPI to submit the names of their members \n",
      "ce , Novel was the coordinator of the FPI members who staged the protest agains\n",
      " wanted to arrest Novel on Friday but FPI chairman Habib Rizieq refused to turn\n",
      "him over Gerindra Party official said FPI always coordinated with Gerindra befo\n",
      " . Gen. Unggung Cahyono had said that FPI had engineered the rally to end in vi\n",
      "anned to arrest Novel on Friday , but FPI chairman M. Rizieq Shihab , better kn\n",
      "zieq , refused to turn him over . The FPI chairman instead gave up an assistant\n",
      " other Jakartans of Chinese descent . FPI is notorious for using violence to 'r\n",
      "a peace rally in Jakarta in 2008 when FPI chairman Habib Rizieq was sentenced t\n",
      "as sentenced to 18 months in prison . FPI is known to have informal ties with d\n",
      "ndra Party official Fajar Siddiq said FPI usually coordinated their actions wit\n",
      "o before such events . Fajar said the FPI would always talk with them first bef\n",
      "yakarta . The Islam Defenders Front ( FPI ) came under another round of scathin\n",
      "s now a growing chorus to disband the FPI , invoking the Mass Organization Law \n",
      "so clamoring for the ban . But is the FPI the real culprit ? We are treading a \n",
      "t acts perpetrated by groups like the FPI on the other . These rights are guara\n",
      "s are upheld . Criticisms against the FPI , long notorious for its violent acts\n",
      "e are barking up the wrong tree . The FPI is not the real problem . The state i\n",
      "l problem . The state is . Why is the FPI allowed to get away with these violen\n",
      "ring that a woman was killed after an FPI car crashed into her during one of it\n"
     ]
    }
   ],
   "source": [
    "#FPI (organization name) in 2013-2014.\n",
    "t.concordance('FPI')"
   ]
  },
  {
   "cell_type": "code",
   "execution_count": 49,
   "metadata": {},
   "outputs": [
    {
     "name": "stdout",
     "output_type": "stream",
     "text": [
      "Displaying 25 of 195 matches:\n",
      "his nemesis , Islam Defenders Front ( FPI ) leader Rizieq Shihab , for the firs\n",
      " the blasphemy charges against Ahok . FPI spokesman Slamet Ma'ruf also confirme\n",
      "s organized by Islam Defender Front ( FPI ) , the blasphemy trial of outgoing J\n",
      "themselves as Muhammadiyah as well as FPI . Hard-line FPI leader Rizieq Shihab \n",
      "hammadiyah as well as FPI . Hard-line FPI leader Rizieq Shihab made several app\n",
      " on June 15 . Islam Defenders Front ( FPI ) patron Rizieq Shihab canceled his v\n",
      "ace and that there was no need for an FPI presence in the recency . While Rizie\n",
      "Fikri . Hundreds of attendees wearing FPI uniforms were also seen among the con\n",
      " happen . They had guaranteed that no FPI representatives would be allowed to e\n",
      "ers of the youth coalition protesting FPI . Members of the National Police 's f\n",
      "embers of the Islam Defenders Front ( FPI ) to 'disseminate information ' about\n",
      "tes ' . Police said they escorted the FPI 'to ensure public safety ' and preven\n",
      "s- related accessories . Reports said FPI visits to store managements took plac\n",
      "aith . However , police escorting the FPI , known as a vigilante group , in int\n",
      "embers of the Islam Defenders Front ( FPI ) after she posted statements on Face\n",
      "ed statements on Facebook criticizing FPI leader Rizieq Shihab for fleeing the \n",
      "violence by alleged supporters of the FPI after posting statements on Facebook \n",
      " by hard-line Islam Defenders Front ( FPI ) on Friday protesting the alleged re\n",
      "up to City Hall after Friday prayer . FPI Jakarta secretary Novel Bamukmin and \n",
      "he said . Ahok had been reported by a FPI member to Bareskrim over blasphemy al\n",
      "embers of the Islam Defenders Front ( FPI ) to catch HMI members during the Nov\n",
      "evening of Nov. 4 while speaking with FPI leaders , who promised to catch any r\n",
      "the hard-line Islam Defenders Front ( FPI ) . Members of the community were mot\n",
      "nelis , who pledged he would kick out FPI leader Rizieq Shihab from the provinc\n",
      "Rizieq Shihab from the province . Two FPI leaders were forced last week to retu\n"
     ]
    }
   ],
   "source": [
    "#FPI (organization name) in 2016-2017.\n",
    "t.concordance('FPI')"
   ]
  },
  {
   "cell_type": "markdown",
   "metadata": {},
   "source": [
    "While it is nice that we could see the word in context,concordance index is not very good in classifying words. **Concordance index is ideal to use in conjunction with word embedding.** We can put words of interest that we have identified in word embedding in context by using concordance index. However, as a standalone method concordance index does not tell much about our data."
   ]
  },
  {
   "cell_type": "markdown",
   "metadata": {},
   "source": [
    "<h2>6. Information Extraxtion: Part of speech tagging</h2>\n",
    "**(WEEK 7)**\n",
    "\n",
    "In POS tagging, we can classify each word by its semantic role in a sentence. The Stanford POS tagger uses the Penn Treebank tag set to POS tag words from input sentences. As with the previous section, I will be focusing on the 3 election cycles. This time I will be more precise by identifying the most POS tags from each election cycles. I will be sampling a random set of 50 articles for each cycles."
   ]
  },
  {
   "cell_type": "code",
   "execution_count": 208,
   "metadata": {},
   "outputs": [
    {
     "name": "stdout",
     "output_type": "stream",
     "text": [
      "Starting downloads, this will take 5-10 minutes\n",
      "[0%] Downloading parser from https://nlp.stanford.edu/software/stanford-parser-full-2017-06-09.zip\n",
      "[24%] Downloaded parser, extracting to ../stanford-NLP/parser\n",
      "[25%] Downloading ner from https://nlp.stanford.edu/software/stanford-ner-2017-06-09.zip\n",
      "[49%] Downloaded ner, extracting to ../stanford-NLP/ner\n",
      "[50%] Downloading postagger from https://nlp.stanford.edu/software/stanford-postagger-full-2017-06-09.zip\n",
      "[74%] Downloaded postagger, extracting to ../stanford-NLP/postagger\n",
      "[75%] Downloading core from http://nlp.stanford.edu/software/stanford-corenlp-full-2017-06-09.zip\n",
      "[99%] Downloaded core, extracting to ../stanford-NLP/core\n",
      "[100%]Done setting up the Stanford NLP collection\n"
     ]
    }
   ],
   "source": [
    "lucem_illud.setupStanfordNLP()"
   ]
  },
  {
   "cell_type": "code",
   "execution_count": 209,
   "metadata": {},
   "outputs": [
    {
     "name": "stderr",
     "output_type": "stream",
     "text": [
      "/anaconda3/lib/python3.6/site-packages/nltk/tag/stanford.py:183: DeprecationWarning: \n",
      "The StanfordTokenizer will be deprecated in version 3.2.5.\n",
      "Please use \u001b[91mnltk.tag.corenlp.CoreNLPPOSTagger\u001b[0m or \u001b[91mnltk.tag.corenlp.CoreNLPNERTagger\u001b[0m instead.\n",
      "  super(StanfordNERTagger, self).__init__(*args, **kwargs)\n",
      "/anaconda3/lib/python3.6/site-packages/nltk/tag/stanford.py:149: DeprecationWarning: \n",
      "The StanfordTokenizer will be deprecated in version 3.2.5.\n",
      "Please use \u001b[91mnltk.tag.corenlp.CoreNLPPOSTagger\u001b[0m or \u001b[91mnltk.tag.corenlp.CoreNLPNERTagger\u001b[0m instead.\n",
      "  super(StanfordPOSTagger, self).__init__(*args, **kwargs)\n"
     ]
    }
   ],
   "source": [
    "import lucem_illud.stanford as stanford"
   ]
  },
  {
   "cell_type": "markdown",
   "metadata": {},
   "source": [
    "<h3>POS Tagging</h3>\n",
    "\n",
    "<b>2008-2009</b>\n",
    "\n",
    "The top **NNP** (proper noun, singular)mainly gives me politician names, organizations, and places, all pertinent to formal party politics and no mention of NNP related to SMO. It is interesting to see how the most common NNP identifies important actors more precisely than the collocation method above. Thus, we could see the most important (or at least most mentioned) political actors in 2008-2009 such as 'Yudhoyono' (the incumbent candidate, the current 'President') and 'Megawati' (his challenger). Although 'Gus Dur' was not running for elections, he was the former president and he passed away in 2009, thus his name appears on the top NNP too. However, **NNPS** (proper noun, plural) yields less specific words as they mostly refer to nations ('Chinese', 'Amustralians') or aggregates ('Muslims').\n",
    "\n",
    "Meanwhile, **NN** (noun, singular or mass) gives us more general nouns that gives more context to the actors identified above. For example 'party' , 'election', 'campaign', and 'coalition' clearly refers to the general and presidential elections.\n",
    "\n",
    "Finally, when we look at which **JJ** (adjectives) are related to the word 'coalition', we get 'political', 'winning', 'same', 'strong', 'inclusive', 'Yudhoyono's', and 'grand', which might say a lot about Yudhoyono's coalition in this election cycle."
   ]
  },
  {
   "cell_type": "code",
   "execution_count": 228,
   "metadata": {
    "collapsed": true
   },
   "outputs": [],
   "source": [
    "random_0809_sents = news_0809.sample(n=100)"
   ]
  },
  {
   "cell_type": "code",
   "execution_count": 229,
   "metadata": {},
   "outputs": [
    {
     "data": {
      "text/html": [
       "<div>\n",
       "<style scoped>\n",
       "    .dataframe tbody tr th:only-of-type {\n",
       "        vertical-align: middle;\n",
       "    }\n",
       "\n",
       "    .dataframe tbody tr th {\n",
       "        vertical-align: top;\n",
       "    }\n",
       "\n",
       "    .dataframe thead th {\n",
       "        text-align: right;\n",
       "    }\n",
       "</style>\n",
       "<table border=\"1\" class=\"dataframe\">\n",
       "  <thead>\n",
       "    <tr style=\"text-align: right;\">\n",
       "      <th></th>\n",
       "      <th>Date</th>\n",
       "      <th>Title</th>\n",
       "      <th>Article</th>\n",
       "      <th>Link</th>\n",
       "      <th>Year</th>\n",
       "      <th>tokenized_sents</th>\n",
       "      <th>normalized_sents</th>\n",
       "      <th>sentences</th>\n",
       "    </tr>\n",
       "  </thead>\n",
       "  <tbody>\n",
       "    <tr>\n",
       "      <th>4</th>\n",
       "      <td>Mon, February 4 2008</td>\n",
       "      <td>'Soeharto treated the nation like subordinates...</td>\n",
       "      <td>As different as heaven and earth has been the ...</td>\n",
       "      <td>http://www.thejakartapost.com/news/2008/02/04/...</td>\n",
       "      <td>2008</td>\n",
       "      <td>[[As, different, as, heaven, and, earth, has, ...</td>\n",
       "      <td>[[different, heaven, earth, way, historians, c...</td>\n",
       "      <td>[[As, different, as, heaven, and, earth, has, ...</td>\n",
       "    </tr>\n",
       "    <tr>\n",
       "      <th>3</th>\n",
       "      <td>Tue, May 13 2008</td>\n",
       "      <td>It's time for ASEAN to act on Myanmar, say ana...</td>\n",
       "      <td>The Association of Southeast Asian Nations (AS...</td>\n",
       "      <td>http://www.thejakartapost.com/news/2008/05/13/...</td>\n",
       "      <td>2008</td>\n",
       "      <td>[[The, Association, of, Southeast, Asian, Nati...</td>\n",
       "      <td>[[association, southeast, asian, nations, asea...</td>\n",
       "      <td>[[The, Association, of, Southeast, Asian, Nati...</td>\n",
       "    </tr>\n",
       "    <tr>\n",
       "      <th>2</th>\n",
       "      <td>Thu, January 29 2009</td>\n",
       "      <td>SBY spending big on Islamic boarding schools</td>\n",
       "      <td>President Susilo Bambang Yudhoyono launched tw...</td>\n",
       "      <td>http://www.thejakartapost.com/news/2009/01/29/...</td>\n",
       "      <td>2009</td>\n",
       "      <td>[[President, Susilo, Bambang, Yudhoyono, launc...</td>\n",
       "      <td>[[president, susilo, bambang, yudhoyono, launc...</td>\n",
       "      <td>[[President, Susilo, Bambang, Yudhoyono, launc...</td>\n",
       "    </tr>\n",
       "    <tr>\n",
       "      <th>1</th>\n",
       "      <td>Mon, August 31 2009</td>\n",
       "      <td>How to ensure a strong governance</td>\n",
       "      <td>The history of Indonesian politics is characte...</td>\n",
       "      <td>http://www.thejakartapost.com/news/2009/08/31/...</td>\n",
       "      <td>2009</td>\n",
       "      <td>[[The, history, of, Indonesian, politics, is, ...</td>\n",
       "      <td>[[history, indonesian, politics, characterized...</td>\n",
       "      <td>[[The, history, of, Indonesian, politics, is, ...</td>\n",
       "    </tr>\n",
       "    <tr>\n",
       "      <th>0</th>\n",
       "      <td>Fri, February 29 2008</td>\n",
       "      <td>Akbar calls for Golkar convention</td>\n",
       "      <td>YOGYAKARTA: Former Golkar Party chairman Akbar...</td>\n",
       "      <td>http://www.thejakartapost.com/news/2008/02/29/...</td>\n",
       "      <td>2008</td>\n",
       "      <td>[[YOGYAKARTA, :, Former, Golkar, Party, chairm...</td>\n",
       "      <td>[[yogyakarta, former, golkar, party, chairman,...</td>\n",
       "      <td>[[YOGYAKARTA, :, Former, Golkar, Party, chairm...</td>\n",
       "    </tr>\n",
       "  </tbody>\n",
       "</table>\n",
       "</div>"
      ],
      "text/plain": [
       "                    Date                                              Title  \\\n",
       "4   Mon, February 4 2008  'Soeharto treated the nation like subordinates...   \n",
       "3       Tue, May 13 2008  It's time for ASEAN to act on Myanmar, say ana...   \n",
       "2   Thu, January 29 2009       SBY spending big on Islamic boarding schools   \n",
       "1    Mon, August 31 2009                  How to ensure a strong governance   \n",
       "0  Fri, February 29 2008                  Akbar calls for Golkar convention   \n",
       "\n",
       "                                             Article  \\\n",
       "4  As different as heaven and earth has been the ...   \n",
       "3  The Association of Southeast Asian Nations (AS...   \n",
       "2  President Susilo Bambang Yudhoyono launched tw...   \n",
       "1  The history of Indonesian politics is characte...   \n",
       "0  YOGYAKARTA: Former Golkar Party chairman Akbar...   \n",
       "\n",
       "                                                Link  Year  \\\n",
       "4  http://www.thejakartapost.com/news/2008/02/04/...  2008   \n",
       "3  http://www.thejakartapost.com/news/2008/05/13/...  2008   \n",
       "2  http://www.thejakartapost.com/news/2009/01/29/...  2009   \n",
       "1  http://www.thejakartapost.com/news/2009/08/31/...  2009   \n",
       "0  http://www.thejakartapost.com/news/2008/02/29/...  2008   \n",
       "\n",
       "                                     tokenized_sents  \\\n",
       "4  [[As, different, as, heaven, and, earth, has, ...   \n",
       "3  [[The, Association, of, Southeast, Asian, Nati...   \n",
       "2  [[President, Susilo, Bambang, Yudhoyono, launc...   \n",
       "1  [[The, history, of, Indonesian, politics, is, ...   \n",
       "0  [[YOGYAKARTA, :, Former, Golkar, Party, chairm...   \n",
       "\n",
       "                                    normalized_sents  \\\n",
       "4  [[different, heaven, earth, way, historians, c...   \n",
       "3  [[association, southeast, asian, nations, asea...   \n",
       "2  [[president, susilo, bambang, yudhoyono, launc...   \n",
       "1  [[history, indonesian, politics, characterized...   \n",
       "0  [[yogyakarta, former, golkar, party, chairman,...   \n",
       "\n",
       "                                           sentences  \n",
       "4  [[As, different, as, heaven, and, earth, has, ...  \n",
       "3  [[The, Association, of, Southeast, Asian, Nati...  \n",
       "2  [[President, Susilo, Bambang, Yudhoyono, launc...  \n",
       "1  [[The, history, of, Indonesian, politics, is, ...  \n",
       "0  [[YOGYAKARTA, :, Former, Golkar, Party, chairm...  "
      ]
     },
     "execution_count": 229,
     "metadata": {},
     "output_type": "execute_result"
    }
   ],
   "source": [
    "random_0809_sents['sentences'] = random_0809_sents['Article'].apply(lambda x: [nltk.word_tokenize(s) for s in nltk.sent_tokenize(x)])\n",
    "random_0809_sents.index = range(len(random_0809_sents) - 1, -1,-1) #Reindex to make things nice in the future\n",
    "random_0809_sents[-5:]"
   ]
  },
  {
   "cell_type": "code",
   "execution_count": 230,
   "metadata": {
    "collapsed": true
   },
   "outputs": [],
   "source": [
    "random_0809_sents['POS_sents'] = random_0809_sents['sentences'].apply(lambda x: stanford.postTagger.tag_sents(x))"
   ]
  },
  {
   "cell_type": "code",
   "execution_count": 231,
   "metadata": {},
   "outputs": [
    {
     "data": {
      "text/plain": [
       "49    [[(Melly, NNP), (G., NNP), (Tan, NNP), (will, ...\n",
       "48    [[(Fit, NN), (for, IN), (the, DT), (job, NN), ...\n",
       "47    [[(JEMBER, NNP), (:, :), (The, NNP), (Ulema, N...\n",
       "46    [[(The, DT), (Indonesian, NNP), (Democratic, N...\n",
       "45    [[(Residents, NNS), (from, IN), (Rancabentang,...\n",
       "44    [[(Neoliberalism, NNP), (?, .)], [(While, IN),...\n",
       "43    [[(SURABAYA, NN), (:, :), (Candidates, NNS), (...\n",
       "42    [[(Muslims, NNPS), (have, VBP), (no, DT), (way...\n",
       "41    [[(Inter-religious, JJ), (leaders, NNS), (:, :...\n",
       "40    [[(JAKARTA, NNP), (:, :), (State, NNP), (Secre...\n",
       "39    [[(Dreaming, VBG), (of, IN), (a, DT), (beautif...\n",
       "38    [[(A, DT), (government-sponsored, JJ), (bill, ...\n",
       "37    [[(The, DT), (House, NNP), (said, VBD), (Monda...\n",
       "36    [[(Since, IN), (the, DT), (1980s, CD), (,, ,),...\n",
       "35    [[(The, DT), (voting, NN), (process, NN), (in,...\n",
       "34    [[(MEDAN, NNP), (,, ,), (N., NNP), (Sumatra, N...\n",
       "33    [[(The, DT), (majority, NN), (of, IN), (owners...\n",
       "32    [[(More, JJR), (than, IN), (two, CD), (weeks, ...\n",
       "31    [[(West, NNP), (Sulawesi, NNP), (provincial, J...\n",
       "30    [[(HARD-LINING, NN), (:, :), (A, DT), (man, NN...\n",
       "29    [[(The, DT), (House, NNP), (of, IN), (Represen...\n",
       "28    [[(The, DT), (government, NN), (is, VBZ), (dra...\n",
       "27    [[(Prosecutors, NNS), (in, IN), (Banyumas, NNP...\n",
       "26    [[(The, DT), (historical, JJ), (meeting, NN), ...\n",
       "25    [[(Legislative, JJ), (candidates, NNS), (vying...\n",
       "24    [[(Lutfi, NNP), (Hakim, NNP), (:, :), (JP/R, N...\n",
       "23    [[(Joint, JJ), (campaign, NN), (:, :), (Hundre...\n",
       "22    [[(The, DT), (Elections, NNP), (Supervising, N...\n",
       "21    [[(Hey, UH), (big, JJ), (spender, NN), (:, :),...\n",
       "20    [[(Courtesy, NN), (of, IN), (Neal, NNP), (Horn...\n",
       "19    [[(Former, JJ), (president, NN), (Abdurrahman,...\n",
       "18    [[(Australia, NNP), (Day, NNP), (:, :), (A, DT...\n",
       "17    [[(Muhaimin, NNP), (Iskandar, NNP), (will, MD)...\n",
       "16    [[(The, DT), (Prosperous, NNP), (Justice, NNP)...\n",
       "15    [[(The, DT), (Golkar, NNP), (party, NN), (has,...\n",
       "14    [[(Members, NNS), (of, IN), (the, DT), (House,...\n",
       "13    [[(In, IN), (a, DT), (bid, NN), (to, TO), (pre...\n",
       "12    [[(DEPOK, NN), (:, :), (Ritiando, NNP), (,, ,)...\n",
       "11    [[(Photo, NNP), (session, NN), (:, :), (Public...\n",
       "10    [[(Despite, IN), (regional, JJ), (autonomy, NN...\n",
       "9     [[(A, DT), (New, NNP), (Year, NNP), ('s, POS),...\n",
       "8     [[(A, DT), (video, NN), (recording, NN), (that...\n",
       "7     [[(Indonesians, NNS), (will, MD), (have, VB), ...\n",
       "6     [[(The, DT), (Malaysian, JJ), (election, NN), ...\n",
       "5     [[(Hegemony, NN), (is, VBZ), (the, DT), (domin...\n",
       "4     [[(As, RB), (different, JJ), (as, IN), (heaven...\n",
       "3     [[(The, DT), (Association, NNP), (of, IN), (So...\n",
       "2     [[(President, NNP), (Susilo, NNP), (Bambang, N...\n",
       "1     [[(The, DT), (history, NN), (of, IN), (Indones...\n",
       "0     [[(YOGYAKARTA, NNP), (:, :), (Former, NNP), (G...\n",
       "Name: POS_sents, dtype: object"
      ]
     },
     "execution_count": 231,
     "metadata": {},
     "output_type": "execute_result"
    }
   ],
   "source": [
    "random_0809_sents['POS_sents']"
   ]
  },
  {
   "cell_type": "code",
   "execution_count": 436,
   "metadata": {},
   "outputs": [
    {
     "data": {
      "text/plain": [
       "[('(', 88),\n",
       " ('Party', 86),\n",
       " (')', 82),\n",
       " ('Jakarta', 67),\n",
       " ('Indonesia', 59),\n",
       " ('Yudhoyono', 47),\n",
       " ('House', 47),\n",
       " ('President', 44),\n",
       " ('Minister', 27),\n",
       " ('Gus', 27),\n",
       " ('Dur', 27),\n",
       " ('National', 26),\n",
       " ('Soeharto', 24),\n",
       " ('Golkar', 24),\n",
       " ('Muhaimin', 24),\n",
       " ('Susilo', 22),\n",
       " ('Cabinet', 22),\n",
       " ('Java', 21),\n",
       " ('Bambang', 21),\n",
       " ('Megawati', 21)]"
      ]
     },
     "execution_count": 436,
     "metadata": {},
     "output_type": "execute_result"
    }
   ],
   "source": [
    "countTarget = 'NNP'\n",
    "targetCounts = {}\n",
    "for entry in random_0809_sents['POS_sents']:\n",
    "    for sentence in entry:\n",
    "        for ent, kind in sentence:\n",
    "            if kind != countTarget:\n",
    "                continue\n",
    "            elif ent in targetCounts:\n",
    "                targetCounts[ent] += 1\n",
    "            else:\n",
    "                targetCounts[ent] = 1\n",
    "sortedTargets = sorted(targetCounts.items(), key = lambda x: x[1], reverse = True)\n",
    "sortedTargets[:20]"
   ]
  },
  {
   "cell_type": "code",
   "execution_count": 437,
   "metadata": {},
   "outputs": [
    {
     "data": {
      "text/plain": [
       "[('Representatives', 16),\n",
       " ('Muslims', 15),\n",
       " ('States', 6),\n",
       " ('Indonesians', 5),\n",
       " ('Australians', 5),\n",
       " ('Elections', 4),\n",
       " ('People', 4),\n",
       " ('Malaysians', 4),\n",
       " ('Indians', 3),\n",
       " ('Jakartans', 2),\n",
       " ('Pakistanis', 2),\n",
       " ('Americans', 1),\n",
       " ('Civilisations', 1),\n",
       " ('Churches', 1),\n",
       " ('YudhoyonoÕs', 1),\n",
       " ('Fisheries', 1),\n",
       " ('Banyumas', 1),\n",
       " ('Herkules', 1),\n",
       " ('Chinese', 1)]"
      ]
     },
     "execution_count": 437,
     "metadata": {},
     "output_type": "execute_result"
    }
   ],
   "source": [
    "countTarget = 'NNPS'\n",
    "targetCounts = {}\n",
    "for entry in random_0809_sents['POS_sents']:\n",
    "    for sentence in entry:\n",
    "        for ent, kind in sentence:\n",
    "            if kind != countTarget:\n",
    "                continue\n",
    "            elif ent in targetCounts:\n",
    "                targetCounts[ent] += 1\n",
    "            else:\n",
    "                targetCounts[ent] = 1\n",
    "sortedTargets = sorted(targetCounts.items(), key = lambda x: x[1], reverse = True)\n",
    "sortedTargets[:20]"
   ]
  },
  {
   "cell_type": "code",
   "execution_count": 253,
   "metadata": {},
   "outputs": [
    {
     "data": {
      "text/plain": [
       "[('party', 91),\n",
       " ('government', 66),\n",
       " ('country', 52),\n",
       " ('election', 48),\n",
       " (')', 37),\n",
       " ('state', 35),\n",
       " ('campaign', 34),\n",
       " ('chairman', 33),\n",
       " ('group', 32),\n",
       " ('time', 30),\n",
       " ('year', 30),\n",
       " ('violence', 28),\n",
       " ('case', 27),\n",
       " ('coalition', 26),\n",
       " ('PKB', 25),\n",
       " ('president', 25),\n",
       " ('meeting', 25),\n",
       " ('law', 24),\n",
       " ('minister', 23),\n",
       " ('governor', 22)]"
      ]
     },
     "execution_count": 253,
     "metadata": {},
     "output_type": "execute_result"
    }
   ],
   "source": [
    "countTarget = 'NN'\n",
    "targetCounts = {}\n",
    "for entry in random_0809_sents['POS_sents']:\n",
    "    for sentence in entry:\n",
    "        for ent, kind in sentence:\n",
    "            if kind != countTarget:\n",
    "                continue\n",
    "            elif ent in targetCounts:\n",
    "                targetCounts[ent] += 1\n",
    "            else:\n",
    "                targetCounts[ent] = 1\n",
    "sortedTargets = sorted(targetCounts.items(), key = lambda x: x[1], reverse = True)\n",
    "sortedTargets[:20]"
   ]
  },
  {
   "cell_type": "code",
   "execution_count": 468,
   "metadata": {},
   "outputs": [
    {
     "name": "stdout",
     "output_type": "stream",
     "text": [
      "{'political', 'winning', 'same', 'strong', 'inclusive', 'YudhoyonoÕs', 'grand'}\n"
     ]
    }
   ],
   "source": [
    "NTarget = 'JJ'\n",
    "Word = 'coalition'\n",
    "NResults = set()\n",
    "for entry in random_0809_sents['POS_sents']:\n",
    "    for sentence in entry:\n",
    "        for (ent1, kind1),(ent2,kind2) in zip(sentence[:-1], sentence[1:]):\n",
    "            if (kind1,ent2.lower())==(NTarget,Word):\n",
    "                NResults.add(ent1)\n",
    "            else:\n",
    "                continue\n",
    "\n",
    "print(NResults)"
   ]
  },
  {
   "cell_type": "code",
   "execution_count": 433,
   "metadata": {},
   "outputs": [
    {
     "name": "stdout",
     "output_type": "stream",
     "text": [
      "{'Muslim', 'Islamic'}\n"
     ]
    }
   ],
   "source": [
    "NTarget = 'JJ'\n",
    "Word = 'organization'\n",
    "NResults = set()\n",
    "for entry in random_0809_sents['POS_sents']:\n",
    "    for sentence in entry:\n",
    "        for (ent1, kind1),(ent2,kind2) in zip(sentence[:-1], sentence[1:]):\n",
    "            if (kind1,ent2.lower())==(NTarget,Word):\n",
    "                NResults.add(ent1)\n",
    "            else:\n",
    "                continue\n",
    "\n",
    "print(NResults)"
   ]
  },
  {
   "cell_type": "markdown",
   "metadata": {},
   "source": [
    "**POS for SMO between 2008-2009**\n",
    "\n",
    "It seems like there's not much articles on SMO on the random 50 articles set, perhaps it's because there are more articles on political parties (25129 articles) than there are for SMOs (1724 articles). Let's do POS tagging for articles on SMO.\n",
    "\n",
    "Just like the previous section, the top **NNP** (proper noun, singular) reveals actors and organizations highly mentioned between 2008-2009. 'NU', 'FPI', and \"Muhammadiyah' are mentioned a lot, which signals their importance. Ahmadiyah is also mentioned a lot, it is an Islamic sect facing persecution by FPI. When we look at the **NNP** closest to the word 'violence', we get 'FPI' and 'Monas' as a result. This is very interesting and important as between 2008-2009 'FPI' is identical with persecution towards the Ahmadiyah sect and their violent attack towards Ahmadiyah symphatizers in 'Monas' (the National Monument).\n",
    "\n",
    "It is also interesting to note that the **JJ** (adjective) closest to 'organization' (for SMO) varies so much ('nonpolitical', 'traditional', 'non-violent', 'religion-social', 'non-governmental', 'non-political'}, but still retaining its Islamic identifiers ('Islamic', Muslim', 'Muslim-based'). **It might indicate political or ideological divide between SMOs.** However, when we look ath the most common **JJ** for the rest of the dataset we can find that 'political', 'Muslim', 'religious', 'Islamic', and 'violent' organizations are more common than other forms of SMOs."
   ]
  },
  {
   "cell_type": "code",
   "execution_count": 8,
   "metadata": {
    "collapsed": true
   },
   "outputs": [],
   "source": [
    "#Open the dataset with only articles pertaining to SMOs.\n",
    "news_SMO = newsDF\n",
    "#Break the articles into sentences.\n",
    "news_SMO['sentences'] = news_SMO['Article'].apply(lambda x: [nltk.word_tokenize(s) for s in nltk.sent_tokenize(x)])\n",
    "news_SMO.index = range(len(news_SMO) - 1, -1,-1) #Reindex to make things nice in the future"
   ]
  },
  {
   "cell_type": "code",
   "execution_count": 9,
   "metadata": {
    "collapsed": true
   },
   "outputs": [],
   "source": [
    "#Filter for articles from 2008-2009.\n",
    "news_SMO_08 = news_SMO.loc[news_SMO['Year'] == 2008]\n",
    "news_SMO_09 = news_SMO.loc[news_SMO['Year'] == 2009]\n",
    "news_SMO_0809 = pandas.concat([news_SMO_08, news_SMO_09])"
   ]
  },
  {
   "cell_type": "code",
   "execution_count": 446,
   "metadata": {
    "collapsed": true
   },
   "outputs": [],
   "source": [
    "#Sample random 50 articles for SMO between 2008-2009.\n",
    "random_SMO_0809 = news_SMO_0809.sample(n=100)"
   ]
  },
  {
   "cell_type": "code",
   "execution_count": 447,
   "metadata": {
    "collapsed": true
   },
   "outputs": [],
   "source": [
    "#Apply POS.\n",
    "random_SMO_0809['POS_sents'] = random_SMO_0809['sentences'].apply(lambda x: stanford.postTagger.tag_sents(x))"
   ]
  },
  {
   "cell_type": "code",
   "execution_count": null,
   "metadata": {
    "collapsed": true
   },
   "outputs": [],
   "source": [
    "countTarget = 'NNP'\n",
    "targetCounts = {}\n",
    "for entry in random_SMO_0809['POS_sents']:\n",
    "    for sentence in entry:\n",
    "        for ent, kind in sentence:\n",
    "            if kind != countTarget:\n",
    "                continue\n",
    "            elif ent in targetCounts:\n",
    "                targetCounts[ent] += 1\n",
    "            else:\n",
    "                targetCounts[ent] = 1\n",
    "sortedTargets = sorted(targetCounts.items(), key = lambda x: x[1], reverse = True)\n",
    "sortedTargets[:20]"
   ]
  },
  {
   "cell_type": "code",
   "execution_count": 451,
   "metadata": {},
   "outputs": [
    {
     "data": {
      "text/plain": [
       "[('political', 99),\n",
       " ('other', 75),\n",
       " ('Muslim', 64),\n",
       " ('religious', 61),\n",
       " ('Islamic', 60),\n",
       " ('Indonesian', 41),\n",
       " ('many', 39),\n",
       " ('local', 36),\n",
       " ('public', 31),\n",
       " ('such', 29),\n",
       " ('presidential', 27),\n",
       " ('same', 25),\n",
       " ('last', 23),\n",
       " ('different', 23),\n",
       " ('former', 22),\n",
       " ('second', 20),\n",
       " ('violent', 19),\n",
       " ('legislative', 18),\n",
       " ('moral', 18),\n",
       " ('new', 17)]"
      ]
     },
     "execution_count": 451,
     "metadata": {},
     "output_type": "execute_result"
    }
   ],
   "source": [
    "countTarget = 'JJ'\n",
    "targetCounts = {}\n",
    "for entry in random_SMO_0809['POS_sents']:\n",
    "    for sentence in entry:\n",
    "        for ent, kind in sentence:\n",
    "            if kind != countTarget:\n",
    "                continue\n",
    "            elif ent in targetCounts:\n",
    "                targetCounts[ent] += 1\n",
    "            else:\n",
    "                targetCounts[ent] = 1\n",
    "sortedTargets = sorted(targetCounts.items(), key = lambda x: x[1], reverse = True)\n",
    "sortedTargets[:20]"
   ]
  },
  {
   "cell_type": "code",
   "execution_count": 476,
   "metadata": {},
   "outputs": [
    {
     "name": "stdout",
     "output_type": "stream",
     "text": [
      "{'FPI', 'Monas'}\n"
     ]
    }
   ],
   "source": [
    "NTarget = 'NNP'\n",
    "Word = 'violence'\n",
    "NResults = set()\n",
    "for entry in random_SMO_0809['POS_sents']:\n",
    "    for sentence in entry:\n",
    "        for (ent1, kind1),(ent2,kind2) in zip(sentence[:-1], sentence[1:]):\n",
    "            if (kind1,ent2.lower())==(NTarget,Word):\n",
    "                NResults.add(ent1)\n",
    "            else:\n",
    "                continue\n",
    "\n",
    "print(NResults)"
   ]
  },
  {
   "cell_type": "code",
   "execution_count": 466,
   "metadata": {},
   "outputs": [
    {
     "name": "stdout",
     "output_type": "stream",
     "text": [
      "{'Islamic', 'nonpolitical', 'traditional', 'non-violent', 'religion-social', 'Muslim', 'non-governmental', 'non-political', 'own', 'small', 'Muslim-based'}\n"
     ]
    }
   ],
   "source": [
    "NTarget = 'JJ'\n",
    "Word = 'organization'\n",
    "NResults = set()\n",
    "for entry in random_SMO_0809['POS_sents']:\n",
    "    for sentence in entry:\n",
    "        for (ent1, kind1),(ent2,kind2) in zip(sentence[:-1], sentence[1:]):\n",
    "            if (kind1,ent2.lower())==(NTarget,Word):\n",
    "                NResults.add(ent1)\n",
    "            else:\n",
    "                continue\n",
    "\n",
    "print(NResults)"
   ]
  },
  {
   "cell_type": "markdown",
   "metadata": {},
   "source": [
    "<b>2013-2014</b>\n",
    "\n",
    "Just like in 2008-2009, the top **NNP** reflects central political actors and organizations in this election cycle. 'Jokowi' and 'Prabowo' (and his running-mate 'Hatta') appears on the top of the list as they were both the presidential candidates for the 2014 elections. Meanwhile, restricted by the 2 term presidential limit, Yudhoyono does not appear in this list, a result that differs from the previous method when we look at the top collocations.\n",
    "\n",
    "Again, the top **JJ** (adjective) reveals words pertinent to the election such as 'party', 'election', 'percent' (for vote count perhaps), 'vote', 'campaign', and 'coalition'.\n",
    "\n",
    "However, what's interesting is the **JJ** that is closely related to the word 'coalition'. The result returns'conservative', 'winning', 'PDI-P-led' (PDI-P is a party), 'permanent', 'Jokowi's', 'Gerindra-led' (again, Gerindra is a party), and 'Party-led'. Similar to the 2008-2009 cycle, this search result reveals a lot about the social game of who is running against who in the election."
   ]
  },
  {
   "cell_type": "code",
   "execution_count": 243,
   "metadata": {
    "collapsed": true
   },
   "outputs": [],
   "source": [
    "random_1314_sents = news_1314.sample(n=100)"
   ]
  },
  {
   "cell_type": "code",
   "execution_count": 246,
   "metadata": {},
   "outputs": [
    {
     "data": {
      "text/html": [
       "<div>\n",
       "<style scoped>\n",
       "    .dataframe tbody tr th:only-of-type {\n",
       "        vertical-align: middle;\n",
       "    }\n",
       "\n",
       "    .dataframe tbody tr th {\n",
       "        vertical-align: top;\n",
       "    }\n",
       "\n",
       "    .dataframe thead th {\n",
       "        text-align: right;\n",
       "    }\n",
       "</style>\n",
       "<table border=\"1\" class=\"dataframe\">\n",
       "  <thead>\n",
       "    <tr style=\"text-align: right;\">\n",
       "      <th></th>\n",
       "      <th>Date</th>\n",
       "      <th>Title</th>\n",
       "      <th>Article</th>\n",
       "      <th>Link</th>\n",
       "      <th>Year</th>\n",
       "      <th>tokenized_sents</th>\n",
       "      <th>normalized_sents</th>\n",
       "      <th>sentences</th>\n",
       "    </tr>\n",
       "  </thead>\n",
       "  <tbody>\n",
       "    <tr>\n",
       "      <th>4</th>\n",
       "      <td>Sat, September 14, 2013</td>\n",
       "      <td>Jokowi seeks House's support for big projects</td>\n",
       "      <td>The surfeit of red tape stalling big projects ...</td>\n",
       "      <td>http://www.thejakartapost.com/news/2013/09/14/...</td>\n",
       "      <td>2013</td>\n",
       "      <td>[[The, surfeit, of, red, tape, stalling, big, ...</td>\n",
       "      <td>[[surfeit, red, tape, stalling, big, projects,...</td>\n",
       "      <td>[[The, surfeit, of, red, tape, stalling, big, ...</td>\n",
       "    </tr>\n",
       "    <tr>\n",
       "      <th>3</th>\n",
       "      <td>Thu, July 24, 2014</td>\n",
       "      <td>Where's Hatta? Absence stirs speculation of ...</td>\n",
       "      <td>With vice-presidential candidate Hatta Rajasa ...</td>\n",
       "      <td>http://www.thejakartapost.com/news/2014/07/24/...</td>\n",
       "      <td>2014</td>\n",
       "      <td>[[With, vice-presidential, candidate, Hatta, R...</td>\n",
       "      <td>[[candidate, hatta, rajasa, absent, scene, lat...</td>\n",
       "      <td>[[With, vice-presidential, candidate, Hatta, R...</td>\n",
       "    </tr>\n",
       "    <tr>\n",
       "      <th>2</th>\n",
       "      <td>Wed, November 20, 2013</td>\n",
       "      <td>Jokowi's chances for presidency may be slim</td>\n",
       "      <td>In an interview with The Jakarta Post, Jakarta...</td>\n",
       "      <td>http://www.thejakartapost.com/news/2013/11/20/...</td>\n",
       "      <td>2013</td>\n",
       "      <td>[[In, an, interview, with, The, Jakarta, Post,...</td>\n",
       "      <td>[[interview, jakarta, post, jakarta, governor,...</td>\n",
       "      <td>[[In, an, interview, with, The, Jakarta, Post,...</td>\n",
       "    </tr>\n",
       "    <tr>\n",
       "      <th>1</th>\n",
       "      <td>Mon, September 1, 2014</td>\n",
       "      <td>PPP the only hope for Jokowi-led coalition</td>\n",
       "      <td>President-elect Joko 'Jokowi' Widodo's h...</td>\n",
       "      <td>http://www.thejakartapost.com/news/2014/09/01/...</td>\n",
       "      <td>2014</td>\n",
       "      <td>[[President-elect, Joko, 'Jokowi', Widodo'...</td>\n",
       "      <td>[[joko, hopes, securing, support, major, polit...</td>\n",
       "      <td>[[President-elect, Joko, 'Jokowi', Widodo'...</td>\n",
       "    </tr>\n",
       "    <tr>\n",
       "      <th>0</th>\n",
       "      <td>Thu, April 10, 2014</td>\n",
       "      <td>Winners, losers in their own backyards</td>\n",
       "      <td>Joyous politics: Members of the Polling Statio...</td>\n",
       "      <td>http://www.thejakartapost.com/news/2014/04/10/...</td>\n",
       "      <td>2014</td>\n",
       "      <td>[[Joyous, politics, :, Members, of, the, Polli...</td>\n",
       "      <td>[[joyous, politics, members, polling, station,...</td>\n",
       "      <td>[[Joyous, politics, :, Members, of, the, Polli...</td>\n",
       "    </tr>\n",
       "  </tbody>\n",
       "</table>\n",
       "</div>"
      ],
      "text/plain": [
       "                      Date                                              Title  \\\n",
       "4  Sat, September 14, 2013    Jokowi seeks House's support for big projects   \n",
       "3       Thu, July 24, 2014  Where's Hatta? Absence stirs speculation of ...   \n",
       "2   Wed, November 20, 2013      Jokowi's chances for presidency may be slim   \n",
       "1   Mon, September 1, 2014         PPP the only hope for Jokowi-led coalition   \n",
       "0      Thu, April 10, 2014             Winners, losers in their own backyards   \n",
       "\n",
       "                                             Article  \\\n",
       "4  The surfeit of red tape stalling big projects ...   \n",
       "3  With vice-presidential candidate Hatta Rajasa ...   \n",
       "2  In an interview with The Jakarta Post, Jakarta...   \n",
       "1  President-elect Joko 'Jokowi' Widodo's h...   \n",
       "0  Joyous politics: Members of the Polling Statio...   \n",
       "\n",
       "                                                Link  Year  \\\n",
       "4  http://www.thejakartapost.com/news/2013/09/14/...  2013   \n",
       "3  http://www.thejakartapost.com/news/2014/07/24/...  2014   \n",
       "2  http://www.thejakartapost.com/news/2013/11/20/...  2013   \n",
       "1  http://www.thejakartapost.com/news/2014/09/01/...  2014   \n",
       "0  http://www.thejakartapost.com/news/2014/04/10/...  2014   \n",
       "\n",
       "                                     tokenized_sents  \\\n",
       "4  [[The, surfeit, of, red, tape, stalling, big, ...   \n",
       "3  [[With, vice-presidential, candidate, Hatta, R...   \n",
       "2  [[In, an, interview, with, The, Jakarta, Post,...   \n",
       "1  [[President-elect, Joko, 'Jokowi', Widodo'...   \n",
       "0  [[Joyous, politics, :, Members, of, the, Polli...   \n",
       "\n",
       "                                    normalized_sents  \\\n",
       "4  [[surfeit, red, tape, stalling, big, projects,...   \n",
       "3  [[candidate, hatta, rajasa, absent, scene, lat...   \n",
       "2  [[interview, jakarta, post, jakarta, governor,...   \n",
       "1  [[joko, hopes, securing, support, major, polit...   \n",
       "0  [[joyous, politics, members, polling, station,...   \n",
       "\n",
       "                                           sentences  \n",
       "4  [[The, surfeit, of, red, tape, stalling, big, ...  \n",
       "3  [[With, vice-presidential, candidate, Hatta, R...  \n",
       "2  [[In, an, interview, with, The, Jakarta, Post,...  \n",
       "1  [[President-elect, Joko, 'Jokowi', Widodo'...  \n",
       "0  [[Joyous, politics, :, Members, of, the, Polli...  "
      ]
     },
     "execution_count": 246,
     "metadata": {},
     "output_type": "execute_result"
    }
   ],
   "source": [
    "random_1314_sents['sentences'] = random_1314_sents['Article'].apply(lambda x: [nltk.word_tokenize(s) for s in nltk.sent_tokenize(x)])\n",
    "random_1314_sents.index = range(len(random_1314_sents) - 1, -1,-1) #Reindex to make things nice in the future\n",
    "random_1314_sents[-5:]"
   ]
  },
  {
   "cell_type": "code",
   "execution_count": 247,
   "metadata": {
    "collapsed": true
   },
   "outputs": [],
   "source": [
    "random_1314_sents['POS_sents'] = random_1314_sents['sentences'].apply(lambda x: stanford.postTagger.tag_sents(x))"
   ]
  },
  {
   "cell_type": "code",
   "execution_count": 248,
   "metadata": {},
   "outputs": [
    {
     "data": {
      "text/plain": [
       "49    [[(Guruh, NNP), (Soekarnoputra, NNP), (:, :), ...\n",
       "48    [[(As, IN), (the, DT), (country, NN), (readies...\n",
       "47    [[(City, NN), (secretary, NN), (Fadjar, NNP), ...\n",
       "46    [[(Trade, NNP), (Minister, NNP), (Rahmat, NNP)...\n",
       "45    [[(Dec., NNP), (1, CD), (,, ,), (Online, NNP),...\n",
       "44    [[(Indonesian, JJ), (Democratic, JJ), (Party, ...\n",
       "43    [[(The, DT), (Golkar, NNP), (Party, NNP), (is,...\n",
       "42    [[(When, WRB), (people, NNS), (go, VBP), (to, ...\n",
       "41    [[(Line, NN), (of, IN), (succession, NN), (:, ...\n",
       "40    [[(State, NNP), (Secretary, NNP), (Sudi, NNP),...\n",
       "39    [[(In, IN), (the, DT), (current, JJ), (politic...\n",
       "38    [[(If, IN), (we, PRP), (are, VBP), (going, VBG...\n",
       "37    [[(The, DT), (Indonesian, JJ), (stock, NN), (m...\n",
       "36    [[(Lists, NNS), (of, IN), (hopefuls, NNS), (:,...\n",
       "35    [[(A, DT), (Vietnamese, JJ), (appeals, NNS), (...\n",
       "34    [[(Negative, JJ), (campaigning, NN), (is, VBZ)...\n",
       "33    [[(Indonesia's, NNS), (annual, JJ), (Nationa...\n",
       "32    [[(Jakarta-based, JJ), (pollster, NN), (Indone...\n",
       "31    [[(The, DT), (Indonesian, NNP), (Justice, NNP)...\n",
       "30    [[(Presidential, JJ), (candidate, NN), (Joko, ...\n",
       "29    [[(JAKARTA, NNP), (:, :), (The, NNP), (Prosper...\n",
       "28    [[(The, DT), (State, NNP), (Palace, NNP), (has...\n",
       "27    [[(Only, RB), (days, NNS), (after, IN), (the, ...\n",
       "26    [[(The, DT), (drama, NN), (of, IN), (the, DT),...\n",
       "25    [[(The, DT), (National, NNP), (Commission, NNP...\n",
       "24    [[(Your, PRP$), (comments, NNS), (on, IN), (th...\n",
       "23    [[(Australia, NNP), ('s, POS), (government, NN...\n",
       "22    [[(The, DT), (Corruption, NNP), (Eradication, ...\n",
       "21    [[(The, DT), (hope, NN), (of, IN), (getting, V...\n",
       "20    [[(Leaving, VBG), (his, PRP$), (campus, NN), (...\n",
       "19    [[(A, DT), (lawmaker, NN), (revealed, VBD), (o...\n",
       "18    [[(Hundreds, NNS), (of, IN), (flag-waving, JJ)...\n",
       "17    [[(Several, JJ), (Golkar, NNP), (Party, NNP), ...\n",
       "16    [[(The, DT), (Anti, NNP), (Corruption, NNP), (...\n",
       "15    [[(Far-right, JJ), (and, CC), (Euroskeptic, JJ...\n",
       "14    [[(Born, VBN), (on, IN), (Dec., NNP), (7, CD),...\n",
       "13    [[(Presidential, JJ), (hopeful, NN), (Joko, NN...\n",
       "12    [[(Anti-government, JJ), (protesters, NNS), (s...\n",
       "11    [[(As, IN), (President, NNP), (Susilo, NNP), (...\n",
       "10    [[(Jakarta, NNP), (Governor, NNP), (Joko, NNP)...\n",
       "9     [[(Joining, VBG), (forces, NNS), (:, :), (Indo...\n",
       "8     [[(The, DT), (General, NNP), (Elections, NNPS)...\n",
       "7     [[(Senior, JJ), (political, JJ), (observer, NN...\n",
       "6     [[(The, DT), (U.K., NNP), ('s, POS), (first, J...\n",
       "5     [[(Member, NNP), (of, IN), (the, DT), (House, ...\n",
       "4     [[(The, DT), (surfeit, NN), (of, IN), (red, JJ...\n",
       "3     [[(With, IN), (vice-presidential, JJ), (candid...\n",
       "2     [[(In, IN), (an, DT), (interview, NN), (with, ...\n",
       "1     [[(President-elect, VB), (Joko, NNP), ('Joko...\n",
       "0     [[(Joyous, JJ), (politics, NNS), (:, :), (Memb...\n",
       "Name: POS_sents, dtype: object"
      ]
     },
     "execution_count": 248,
     "metadata": {},
     "output_type": "execute_result"
    }
   ],
   "source": [
    "random_1314_sents['POS_sents']"
   ]
  },
  {
   "cell_type": "code",
   "execution_count": 257,
   "metadata": {},
   "outputs": [
    {
     "data": {
      "text/plain": [
       "[('Party', 142),\n",
       " ('(', 120),\n",
       " (')', 109),\n",
       " ('Jakarta', 74),\n",
       " ('Indonesia', 46),\n",
       " ('Jokowi', 43),\n",
       " ('Golkar', 42),\n",
       " (\"'\\x80\\x9d\", 36),\n",
       " ('Indonesian', 35),\n",
       " ('House', 33),\n",
       " ('Prabowo', 31),\n",
       " ('Democratic', 30),\n",
       " ('National', 30),\n",
       " ('President', 29),\n",
       " ('Joko', 26),\n",
       " ('Java', 25),\n",
       " ('Hatta', 25),\n",
       " ('Tuesday', 24),\n",
       " ('Thursday', 23),\n",
       " ('Commission', 22)]"
      ]
     },
     "execution_count": 257,
     "metadata": {},
     "output_type": "execute_result"
    }
   ],
   "source": [
    "countTarget = 'NNP'\n",
    "targetCounts = {}\n",
    "for entry in random_1314_sents['POS_sents']:\n",
    "    for sentence in entry:\n",
    "        for ent, kind in sentence:\n",
    "            if kind != countTarget:\n",
    "                continue\n",
    "            elif ent in targetCounts:\n",
    "                targetCounts[ent] += 1\n",
    "            else:\n",
    "                targetCounts[ent] = 1\n",
    "sortedTargets = sorted(targetCounts.items(), key = lambda x: x[1], reverse = True)\n",
    "sortedTargets[:20]"
   ]
  },
  {
   "cell_type": "code",
   "execution_count": 249,
   "metadata": {},
   "outputs": [
    {
     "data": {
      "text/plain": [
       "[('party', 114),\n",
       " ('election', 77),\n",
       " ('percent', 70),\n",
       " (')', 48),\n",
       " ('government', 41),\n",
       " ('PDI-P', 39),\n",
       " ('chairman', 37),\n",
       " ('vote', 35),\n",
       " ('coalition', 33),\n",
       " ('campaign', 32),\n",
       " ('president', 28),\n",
       " ('deputy', 27),\n",
       " ('candidate', 27),\n",
       " ('minister', 24),\n",
       " ('country', 23),\n",
       " ('support', 23),\n",
       " ('case', 23),\n",
       " ('decision', 22),\n",
       " (\"'\\x80\\x9d\", 22),\n",
       " ('city', 22)]"
      ]
     },
     "execution_count": 249,
     "metadata": {},
     "output_type": "execute_result"
    }
   ],
   "source": [
    "countTarget = 'NN'\n",
    "targetCounts = {}\n",
    "for entry in random_1314_sents['POS_sents']:\n",
    "    for sentence in entry:\n",
    "        for ent, kind in sentence:\n",
    "            if kind != countTarget:\n",
    "                continue\n",
    "            elif ent in targetCounts:\n",
    "                targetCounts[ent] += 1\n",
    "            else:\n",
    "                targetCounts[ent] = 1\n",
    "sortedTargets = sorted(targetCounts.items(), key = lambda x: x[1], reverse = True)\n",
    "sortedTargets[:20]"
   ]
  },
  {
   "cell_type": "code",
   "execution_count": 261,
   "metadata": {},
   "outputs": [
    {
     "name": "stdout",
     "output_type": "stream",
     "text": [
      "{'conservative', 'winning', 'PDI-P-led', 'permanent', \"Jokowi'\\x80\\x99s\", 'Gerindra-led', 'Party-led'}\n"
     ]
    }
   ],
   "source": [
    "NTarget = 'JJ'\n",
    "Word = 'coalition'\n",
    "NResults = set()\n",
    "for entry in random_1314_sents['POS_sents']:\n",
    "    for sentence in entry:\n",
    "        for (ent1, kind1),(ent2,kind2) in zip(sentence[:-1], sentence[1:]):\n",
    "            if (kind1,ent2.lower())==(NTarget,Word):\n",
    "                NResults.add(ent1)\n",
    "            else:\n",
    "                continue\n",
    "\n",
    "print(NResults)"
   ]
  },
  {
   "cell_type": "code",
   "execution_count": 428,
   "metadata": {},
   "outputs": [
    {
     "name": "stdout",
     "output_type": "stream",
     "text": [
      "{'non-profit', 'Brussels-based', 'Muslim'}\n"
     ]
    }
   ],
   "source": [
    "NTarget = 'JJ'\n",
    "Word = 'organization'\n",
    "NResults = set()\n",
    "for entry in random_1314_sents['POS_sents']:\n",
    "    for sentence in entry:\n",
    "        for (ent1, kind1),(ent2,kind2) in zip(sentence[:-1], sentence[1:]):\n",
    "            if (kind1,ent2.lower())==(NTarget,Word):\n",
    "                NResults.add(ent1)\n",
    "            else:\n",
    "                continue\n",
    "\n",
    "print(NResults)"
   ]
  },
  {
   "cell_type": "markdown",
   "metadata": {},
   "source": [
    "**POS for SMO between 2013-2014**\n",
    "\n",
    "Again, Let's do POS tagging for articles on SMO between 2013-2014.\n",
    "\n",
    "Just like the previous election cycle, the top **NNP** (proper noun, singular) reveals actors and organizations highly mentioned between 2013-14. 'NU', 'FPI', and \"Muhammadiyah' are mentioned a lot, which signals their importance. Interestingly, FPI has rocketed in their popularity as the most mentioned SMO.\n",
    "\n",
    "Meanwhile, the top **JJ** (adjectives) are 'Muslim', 'Islamic', 'religious', 'political', and 'violent', which might say something about FPI's characteristics. Is seems that FPI retains their violent image from the past election cycle.\n",
    "\n",
    "What's striking is that when we look at the **JJ** (adjective) closest to 'organization' (for SMO) we can find 'Islamic', 'Muslim', 'radical', 'vigilante', which might also say something about FPI. If we focus on JJs related to the word 'vigilante' it returns the word 'Muslim', and if we look at JJs related to the word 'radical' we get 'Islamic' as a result. This might reveal how **SMO(s) adopt radical Islamic ideology in their actions, which manifests in vigilantism**. Finally, if we focus on JJs related to the word 'violence' we get 'sectarian', 'National', and 'religious', which might highlight the importance (the rise perhaps?) of **sectarian and religious-based violence at the national level**."
   ]
  },
  {
   "cell_type": "code",
   "execution_count": 477,
   "metadata": {
    "collapsed": true
   },
   "outputs": [],
   "source": [
    "#Filter for articles from 2013-2014.\n",
    "news_SMO_13 = news_SMO.loc[news_SMO['Year'] == 2013]\n",
    "news_SMO_14 = news_SMO.loc[news_SMO['Year'] == 2014]\n",
    "news_SMO_1314 = pandas.concat([news_SMO_13, news_SMO_14])"
   ]
  },
  {
   "cell_type": "code",
   "execution_count": 478,
   "metadata": {
    "collapsed": true
   },
   "outputs": [],
   "source": [
    "#Sample random 50 articles for SMO between 2013-2014.\n",
    "random_SMO_1314 = news_SMO_1314.sample(n=100)"
   ]
  },
  {
   "cell_type": "code",
   "execution_count": 479,
   "metadata": {
    "collapsed": true
   },
   "outputs": [],
   "source": [
    "#Apply POS.\n",
    "random_SMO_1314['POS_sents'] = random_SMO_1314['sentences'].apply(lambda x: stanford.postTagger.tag_sents(x))"
   ]
  },
  {
   "cell_type": "code",
   "execution_count": 480,
   "metadata": {},
   "outputs": [
    {
     "data": {
      "text/plain": [
       "[('FPI', 149),\n",
       " ('Jakarta', 92),\n",
       " ('Indonesia', 89),\n",
       " ('(', 84),\n",
       " ('NU', 75),\n",
       " (')', 69),\n",
       " ('Islam', 66),\n",
       " ('Java', 54),\n",
       " ('Jokowi', 49),\n",
       " ('Ahok', 42),\n",
       " ('Party', 41),\n",
       " ('Court', 35),\n",
       " ('East', 29),\n",
       " ('President', 27),\n",
       " ('Central', 24),\n",
       " ('National', 24),\n",
       " ('Muhammadiyah', 24),\n",
       " ('Dolly', 24),\n",
       " ('Surabaya', 23),\n",
       " ('Islamic', 23)]"
      ]
     },
     "execution_count": 480,
     "metadata": {},
     "output_type": "execute_result"
    }
   ],
   "source": [
    "countTarget = 'NNP'\n",
    "targetCounts = {}\n",
    "for entry in random_SMO_1314['POS_sents']:\n",
    "    for sentence in entry:\n",
    "        for ent, kind in sentence:\n",
    "            if kind != countTarget:\n",
    "                continue\n",
    "            elif ent in targetCounts:\n",
    "                targetCounts[ent] += 1\n",
    "            else:\n",
    "                targetCounts[ent] = 1\n",
    "sortedTargets = sorted(targetCounts.items(), key = lambda x: x[1], reverse = True)\n",
    "sortedTargets[:20]"
   ]
  },
  {
   "cell_type": "code",
   "execution_count": 481,
   "metadata": {},
   "outputs": [
    {
     "data": {
      "text/plain": [
       "[('Muslim', 71),\n",
       " ('other', 60),\n",
       " ('Islamic', 59),\n",
       " ('religious', 36),\n",
       " ('many', 33),\n",
       " ('former', 32),\n",
       " ('Indonesian', 31),\n",
       " ('political', 28),\n",
       " ('violent', 27),\n",
       " ('such', 24),\n",
       " ('local', 20),\n",
       " ('social', 18),\n",
       " ('presidential', 18),\n",
       " ('same', 17),\n",
       " ('due', 16),\n",
       " ('cultural', 16),\n",
       " ('first', 16),\n",
       " ('last', 15),\n",
       " ('national', 14),\n",
       " ('legislative', 13)]"
      ]
     },
     "execution_count": 481,
     "metadata": {},
     "output_type": "execute_result"
    }
   ],
   "source": [
    "countTarget = 'JJ'\n",
    "targetCounts = {}\n",
    "for entry in random_SMO_1314['POS_sents']:\n",
    "    for sentence in entry:\n",
    "        for ent, kind in sentence:\n",
    "            if kind != countTarget:\n",
    "                continue\n",
    "            elif ent in targetCounts:\n",
    "                targetCounts[ent] += 1\n",
    "            else:\n",
    "                targetCounts[ent] = 1\n",
    "sortedTargets = sorted(targetCounts.items(), key = lambda x: x[1], reverse = True)\n",
    "sortedTargets[:20]"
   ]
  },
  {
   "cell_type": "code",
   "execution_count": 482,
   "metadata": {},
   "outputs": [
    {
     "name": "stdout",
     "output_type": "stream",
     "text": [
      "{'whole', 'Shia-linked', 'Islamic', 'Muslim', 'radical', 'vigilante', 'national', 'small'}\n"
     ]
    }
   ],
   "source": [
    "NTarget = 'JJ'\n",
    "Word = 'organization'\n",
    "NResults = set()\n",
    "for entry in random_SMO_1314['POS_sents']:\n",
    "    for sentence in entry:\n",
    "        for (ent1, kind1),(ent2,kind2) in zip(sentence[:-1], sentence[1:]):\n",
    "            if (kind1,ent2.lower())==(NTarget,Word):\n",
    "                NResults.add(ent1)\n",
    "            else:\n",
    "                continue\n",
    "\n",
    "print(NResults)"
   ]
  },
  {
   "cell_type": "code",
   "execution_count": 499,
   "metadata": {},
   "outputs": [
    {
     "name": "stdout",
     "output_type": "stream",
     "text": [
      "{'equal', 'based', 'sectarian', 'National', 'religious'}\n"
     ]
    }
   ],
   "source": [
    "NTarget = 'JJ'\n",
    "Word = 'violence'\n",
    "NResults = set()\n",
    "for entry in random_SMO_1314['POS_sents']:\n",
    "    for sentence in entry:\n",
    "        for (ent1, kind1),(ent2,kind2) in zip(sentence[:-1], sentence[1:]):\n",
    "            if (kind1,ent2.lower())==(NTarget,Word):\n",
    "                NResults.add(ent1)\n",
    "            else:\n",
    "                continue\n",
    "\n",
    "print(NResults)"
   ]
  },
  {
   "cell_type": "code",
   "execution_count": 503,
   "metadata": {},
   "outputs": [
    {
     "name": "stdout",
     "output_type": "stream",
     "text": [
      "{'Islamic'}\n"
     ]
    }
   ],
   "source": [
    "NTarget = 'JJ'\n",
    "Word = 'radical'\n",
    "NResults = set()\n",
    "for entry in random_SMO_1314['POS_sents']:\n",
    "    for sentence in entry:\n",
    "        for (ent1, kind1),(ent2,kind2) in zip(sentence[:-1], sentence[1:]):\n",
    "            if (kind1,ent2.lower())==(NTarget,Word):\n",
    "                NResults.add(ent1)\n",
    "            else:\n",
    "                continue\n",
    "\n",
    "print(NResults)"
   ]
  },
  {
   "cell_type": "code",
   "execution_count": 505,
   "metadata": {},
   "outputs": [
    {
     "name": "stdout",
     "output_type": "stream",
     "text": [
      "{'Muslim', 'well-known'}\n"
     ]
    }
   ],
   "source": [
    "NTarget = 'JJ'\n",
    "Word = 'vigilante'\n",
    "NResults = set()\n",
    "for entry in random_SMO_1314['POS_sents']:\n",
    "    for sentence in entry:\n",
    "        for (ent1, kind1),(ent2,kind2) in zip(sentence[:-1], sentence[1:]):\n",
    "            if (kind1,ent2.lower())==(NTarget,Word):\n",
    "                NResults.add(ent1)\n",
    "            else:\n",
    "                continue\n",
    "\n",
    "print(NResults)"
   ]
  },
  {
   "cell_type": "markdown",
   "metadata": {},
   "source": [
    "<b>2016-2017</b>\n",
    "\n",
    "Again, the top **NNP** reflects central political actors and organizations in this election cycle. However, interestingly only 'Ahok', one of the candidates for the gubernatorial elections, is mentioned on the top NNP and 'Rizieq', FPI's leader, is mentioned there instead. This might signal FPI's importance as an SMO politically.\n",
    "\n",
    "Meanwhile, the top **NN** (noun) reveals words pertinent to the election such as 'party', 'election', 'percent' (for vote count perhaps), and 'candidate, but these not as much as election nouns on the past election cycles. This is expected as the 2016-2017 election cycle is only for the capital city's gubernatorial race rather than general and presidential elections as in the past election cycles. The localized nature of the election is reflected on the **JJ** (adjective) that is most related to the word 'coalition', as the result yields little meaning. This is also expected as coalition between parties are more commonly found in the general and presidential elections. This is supported by the **JJ**s that are most related to the word 'election' as it returns a range of elections ('regional', 'gubernatorial', 'legislative', to 'presidential') rather than solely on national level elections. The word 'residential' is expected here, as the 2017 election sets the stage and potential coalitions for the upcoming presidential election in 2019."
   ]
  },
  {
   "cell_type": "code",
   "execution_count": 506,
   "metadata": {
    "collapsed": true
   },
   "outputs": [],
   "source": [
    "random_1617_sents = news_1617.sample(n=100)"
   ]
  },
  {
   "cell_type": "code",
   "execution_count": 507,
   "metadata": {},
   "outputs": [
    {
     "data": {
      "text/html": [
       "<div>\n",
       "<style scoped>\n",
       "    .dataframe tbody tr th:only-of-type {\n",
       "        vertical-align: middle;\n",
       "    }\n",
       "\n",
       "    .dataframe tbody tr th {\n",
       "        vertical-align: top;\n",
       "    }\n",
       "\n",
       "    .dataframe thead th {\n",
       "        text-align: right;\n",
       "    }\n",
       "</style>\n",
       "<table border=\"1\" class=\"dataframe\">\n",
       "  <thead>\n",
       "    <tr style=\"text-align: right;\">\n",
       "      <th></th>\n",
       "      <th>Date</th>\n",
       "      <th>Title</th>\n",
       "      <th>Article</th>\n",
       "      <th>Link</th>\n",
       "      <th>Year</th>\n",
       "      <th>tokenized_sents</th>\n",
       "      <th>normalized_sents</th>\n",
       "      <th>sentences</th>\n",
       "    </tr>\n",
       "  </thead>\n",
       "  <tbody>\n",
       "    <tr>\n",
       "      <th>4</th>\n",
       "      <td>Sun, May 8, 2016</td>\n",
       "      <td>Kim Jong Un says Pyongyang won't use nukes first</td>\n",
       "      <td>North Korean leader Kim Jong Un said during a ...</td>\n",
       "      <td>http://www.thejakartapost.com/news/2016/05/08/...</td>\n",
       "      <td>2016</td>\n",
       "      <td>[[North, Korean, leader, Kim, Jong, Un, said, ...</td>\n",
       "      <td>[[north, korean, leader, kim, jong, un, said, ...</td>\n",
       "      <td>[[North, Korean, leader, Kim, Jong, Un, said, ...</td>\n",
       "    </tr>\n",
       "    <tr>\n",
       "      <th>3</th>\n",
       "      <td>Mon, September 11 2017</td>\n",
       "      <td>Lower credit rates a pipe dream for consumers ...</td>\n",
       "      <td>Bank customers who rely on bank credits to buy...</td>\n",
       "      <td>http://www.thejakartapost.com/news/2017/09/11/...</td>\n",
       "      <td>2017</td>\n",
       "      <td>[[Bank, customers, who, rely, on, bank, credit...</td>\n",
       "      <td>[[bank, customers, rely, bank, credits, buy, h...</td>\n",
       "      <td>[[Bank, customers, who, rely, on, bank, credit...</td>\n",
       "    </tr>\n",
       "    <tr>\n",
       "      <th>2</th>\n",
       "      <td>Mon, September 26 2016</td>\n",
       "      <td>Politician in control of reclamation at Lake S...</td>\n",
       "      <td>On hold: Children play around the Lake Singkar...</td>\n",
       "      <td>http://www.thejakartapost.com/news/2016/09/26/...</td>\n",
       "      <td>2016</td>\n",
       "      <td>[[On, hold, :, Children, play, around, the, La...</td>\n",
       "      <td>[[hold, children, play, around, lake, singkara...</td>\n",
       "      <td>[[On, hold, :, Children, play, around, the, La...</td>\n",
       "    </tr>\n",
       "    <tr>\n",
       "      <th>1</th>\n",
       "      <td>Wed, March 23, 2016</td>\n",
       "      <td>Vietnam puts prominent blogger on trial for an...</td>\n",
       "      <td>Vietnamese Communist Party General Secretary N...</td>\n",
       "      <td>http://www.thejakartapost.com/news/2016/03/23/...</td>\n",
       "      <td>2016</td>\n",
       "      <td>[[Vietnamese, Communist, Party, General, Secre...</td>\n",
       "      <td>[[vietnamese, communist, party, general, secre...</td>\n",
       "      <td>[[Vietnamese, Communist, Party, General, Secre...</td>\n",
       "    </tr>\n",
       "    <tr>\n",
       "      <th>0</th>\n",
       "      <td>Sun, September 24, 2017</td>\n",
       "      <td>New Zealand's English claims mandate to form g...</td>\n",
       "      <td>New Zealand Prime Minister Bill English has cl...</td>\n",
       "      <td>http://www.thejakartapost.com/news/2017/09/24/...</td>\n",
       "      <td>2017</td>\n",
       "      <td>[[New, Zealand, Prime, Minister, Bill, English...</td>\n",
       "      <td>[[new, zealand, prime, minister, bill, english...</td>\n",
       "      <td>[[New, Zealand, Prime, Minister, Bill, English...</td>\n",
       "    </tr>\n",
       "  </tbody>\n",
       "</table>\n",
       "</div>"
      ],
      "text/plain": [
       "                      Date                                              Title  \\\n",
       "4         Sun, May 8, 2016   Kim Jong Un says Pyongyang won't use nukes first   \n",
       "3   Mon, September 11 2017  Lower credit rates a pipe dream for consumers ...   \n",
       "2   Mon, September 26 2016  Politician in control of reclamation at Lake S...   \n",
       "1      Wed, March 23, 2016  Vietnam puts prominent blogger on trial for an...   \n",
       "0  Sun, September 24, 2017  New Zealand's English claims mandate to form g...   \n",
       "\n",
       "                                             Article  \\\n",
       "4  North Korean leader Kim Jong Un said during a ...   \n",
       "3  Bank customers who rely on bank credits to buy...   \n",
       "2  On hold: Children play around the Lake Singkar...   \n",
       "1  Vietnamese Communist Party General Secretary N...   \n",
       "0  New Zealand Prime Minister Bill English has cl...   \n",
       "\n",
       "                                                Link  Year  \\\n",
       "4  http://www.thejakartapost.com/news/2016/05/08/...  2016   \n",
       "3  http://www.thejakartapost.com/news/2017/09/11/...  2017   \n",
       "2  http://www.thejakartapost.com/news/2016/09/26/...  2016   \n",
       "1  http://www.thejakartapost.com/news/2016/03/23/...  2016   \n",
       "0  http://www.thejakartapost.com/news/2017/09/24/...  2017   \n",
       "\n",
       "                                     tokenized_sents  \\\n",
       "4  [[North, Korean, leader, Kim, Jong, Un, said, ...   \n",
       "3  [[Bank, customers, who, rely, on, bank, credit...   \n",
       "2  [[On, hold, :, Children, play, around, the, La...   \n",
       "1  [[Vietnamese, Communist, Party, General, Secre...   \n",
       "0  [[New, Zealand, Prime, Minister, Bill, English...   \n",
       "\n",
       "                                    normalized_sents  \\\n",
       "4  [[north, korean, leader, kim, jong, un, said, ...   \n",
       "3  [[bank, customers, rely, bank, credits, buy, h...   \n",
       "2  [[hold, children, play, around, lake, singkara...   \n",
       "1  [[vietnamese, communist, party, general, secre...   \n",
       "0  [[new, zealand, prime, minister, bill, english...   \n",
       "\n",
       "                                           sentences  \n",
       "4  [[North, Korean, leader, Kim, Jong, Un, said, ...  \n",
       "3  [[Bank, customers, who, rely, on, bank, credit...  \n",
       "2  [[On, hold, :, Children, play, around, the, La...  \n",
       "1  [[Vietnamese, Communist, Party, General, Secre...  \n",
       "0  [[New, Zealand, Prime, Minister, Bill, English...  "
      ]
     },
     "execution_count": 507,
     "metadata": {},
     "output_type": "execute_result"
    }
   ],
   "source": [
    "random_1617_sents['sentences'] = random_1617_sents['Article'].apply(lambda x: [nltk.word_tokenize(s) for s in nltk.sent_tokenize(x)])\n",
    "random_1617_sents.index = range(len(random_1617_sents) - 1, -1,-1) #Reindex to make things nice in the future\n",
    "random_1617_sents[-5:]"
   ]
  },
  {
   "cell_type": "code",
   "execution_count": 508,
   "metadata": {
    "collapsed": true
   },
   "outputs": [],
   "source": [
    "random_1617_sents['POS_sents'] = random_1617_sents['sentences'].apply(lambda x: stanford.postTagger.tag_sents(x))"
   ]
  },
  {
   "cell_type": "code",
   "execution_count": 509,
   "metadata": {},
   "outputs": [
    {
     "data": {
      "text/plain": [
       "49    [[(The, DT), (House, NNP), (of, IN), (Represen...\n",
       "48    [[(The, DT), (Attorney, NNP), (General's, NN...\n",
       "47    [[(The, DT), (government, NN), (has, VBZ), (ur...\n",
       "46    [[(PHOTOS, NNP), (STANNY, NNP), (ANGGA, NNP), ...\n",
       "45    [[(Corruption, NNP), (Eradication, NNP), (Comm...\n",
       "44    [[(Gatot, FW), (Nurmantyo, FW), ((, FW), (JP/D...\n",
       "43    [[(Obsessed, VBN), (with, IN), (each, DT), (ot...\n",
       "42    [[(French, JJ), (voters, NNS), (shut, VBP), (o...\n",
       "41    [[(Human, JJ), (rights, NNS), (activists, NNS)...\n",
       "40    [[(Cut, NNP), (off, RB), (:, :), (A, DT), (res...\n",
       "39    [[(Muhammadiyah, NNP), (and, CC), (Nahdlatul, ...\n",
       "38    [[(WeÕll, NNP), (take, VB), (it, PRP), (from, ...\n",
       "37    [[(Land, NN), (reform, NN), (has, VBZ), (been,...\n",
       "36    [[(Australia'sÊnew, NN), (cabinet, NN), (was, ...\n",
       "35    [[(About, IN), (300, CD), (leaders, NNS), (of,...\n",
       "34    [[(While, IN), (thousands, NNS), (had, VBD), (...\n",
       "33    [[(The, DT), (Corruption, NNP), (Eradication, ...\n",
       "32    [[(Friendly, JJ), (toast, NN), (:, :), (German...\n",
       "31    [[(Chairman, NN), (of, IN), (Golkar, NNP), (No...\n",
       "30    [[(Indonesia, NNP), (insisted, VBD), (that, IN...\n",
       "29    [[(Djohermansyah, NNP), (Djohan, NNP), (,, ,),...\n",
       "28    [[(Actress, NN), (and, CC), (presenter, NN), (...\n",
       "27    [[(Was, VBD), (President, NNP), (Joko, NNP), (...\n",
       "26    [[(Deputy, NNP), (East, NNP), (Java, NNP), (Go...\n",
       "25    [[(President, NNP), (Joko, NNP), (``, ``), (Jo...\n",
       "24    [[(Indonesian, JJ), (netizens, NNS), (went, VB...\n",
       "23    [[(This, DT), (article, NN), (was, VBD), (writ...\n",
       "22    [[(The, DT), (return, NN), (of, IN), (Golkar, ...\n",
       "21    [[(Tasya, NNP), (Ritzka, NNP), (,, ,), (a, DT)...\n",
       "20    [[(This, DT), (video, NN), (still, RB), (image...\n",
       "19    [[(The, DT), (Jakarta, NNP), (Police, NNP), (h...\n",
       "18    [[(National, NNP), (Police, NNP), (chief, NN),...\n",
       "17    [[(Last, JJ), (SundayÕs, NNP), (Thomas, NNP), ...\n",
       "16    [[(China, NNP), (is, VBZ), (gearing, VBG), (up...\n",
       "15    [[(United, NNP), (Development, NNP), (Party, N...\n",
       "14    [[(National, NNP), (Police, NNP), (spokesman, ...\n",
       "13    [[(The, DT), (House, NNP), (of, IN), (Represen...\n",
       "12    [[(Man, NN), (in, IN), (question, NN), (:, :),...\n",
       "11    [[(Jakarta, NNP), (governor, NN), (hopeful, NN...\n",
       "10    [[(Banks, NNS), (and, CC), (the, DT), (capital...\n",
       "9     [[(In, IN), (light, NN), (of, IN), (recent, JJ...\n",
       "8     [[(President, NNP), (Joko, NNP), (``, ``), (Jo...\n",
       "7     [[(Referring, VBG), (toÊbusiness, NN), (plans,...\n",
       "6     [[(p, NN), ({, FW), (margin-bottom, FW), (:, :...\n",
       "5     [[(Female, JJ), (force, NN), (:, :), (Wearing,...\n",
       "4     [[(North, JJ), (Korean, JJ), (leader, NN), (Ki...\n",
       "3     [[(Bank, NNP), (customers, NNS), (who, WP), (r...\n",
       "2     [[(On, IN), (hold, NN), (:, :), (Children, NNS...\n",
       "1     [[(Vietnamese, NNP), (Communist, NNP), (Party,...\n",
       "0     [[(New, NNP), (Zealand, NNP), (Prime, NNP), (M...\n",
       "Name: POS_sents, dtype: object"
      ]
     },
     "execution_count": 509,
     "metadata": {},
     "output_type": "execute_result"
    }
   ],
   "source": [
    "random_1617_sents['POS_sents']"
   ]
  },
  {
   "cell_type": "code",
   "execution_count": 510,
   "metadata": {},
   "outputs": [
    {
     "data": {
      "text/plain": [
       "[('(', 103),\n",
       " ('Jakarta', 94),\n",
       " (')', 89),\n",
       " ('Party', 75),\n",
       " ('Indonesia', 71),\n",
       " ('Ó', 56),\n",
       " ('House', 52),\n",
       " ('President', 38),\n",
       " ('KPK', 33),\n",
       " ('National', 32),\n",
       " ('Ahok', 29),\n",
       " ('Law', 25),\n",
       " ('Rizieq', 24),\n",
       " ('Noor', 23),\n",
       " ('Jokowi', 21),\n",
       " ('Wednesday', 21),\n",
       " ('West', 21),\n",
       " ('Police', 20),\n",
       " ('South', 20),\n",
       " ('North', 20)]"
      ]
     },
     "execution_count": 510,
     "metadata": {},
     "output_type": "execute_result"
    }
   ],
   "source": [
    "countTarget = 'NNP'\n",
    "targetCounts = {}\n",
    "for entry in random_1617_sents['POS_sents']:\n",
    "    for sentence in entry:\n",
    "        for ent, kind in sentence:\n",
    "            if kind != countTarget:\n",
    "                continue\n",
    "            elif ent in targetCounts:\n",
    "                targetCounts[ent] += 1\n",
    "            else:\n",
    "                targetCounts[ent] = 1\n",
    "sortedTargets = sorted(targetCounts.items(), key = lambda x: x[1], reverse = True)\n",
    "sortedTargets[:20]"
   ]
  },
  {
   "cell_type": "code",
   "execution_count": 511,
   "metadata": {},
   "outputs": [
    {
     "data": {
      "text/plain": [
       "[('land', 72),\n",
       " ('party', 61),\n",
       " ('government', 59),\n",
       " ('time', 42),\n",
       " (')', 37),\n",
       " ('percent', 37),\n",
       " ('election', 37),\n",
       " ('law', 33),\n",
       " ('country', 33),\n",
       " ('case', 32),\n",
       " ('year', 31),\n",
       " ('police', 28),\n",
       " (']', 27),\n",
       " ('chairman', 26),\n",
       " ('meeting', 25),\n",
       " ('Ó', 24),\n",
       " ('state', 21),\n",
       " ('Rp', 20),\n",
       " ('candidate', 19),\n",
       " ('reform', 19)]"
      ]
     },
     "execution_count": 511,
     "metadata": {},
     "output_type": "execute_result"
    }
   ],
   "source": [
    "countTarget = 'NN'\n",
    "targetCounts = {}\n",
    "for entry in random_1617_sents['POS_sents']:\n",
    "    for sentence in entry:\n",
    "        for ent, kind in sentence:\n",
    "            if kind != countTarget:\n",
    "                continue\n",
    "            elif ent in targetCounts:\n",
    "                targetCounts[ent] += 1\n",
    "            else:\n",
    "                targetCounts[ent] = 1\n",
    "sortedTargets = sorted(targetCounts.items(), key = lambda x: x[1], reverse = True)\n",
    "sortedTargets[:20]"
   ]
  },
  {
   "cell_type": "code",
   "execution_count": 512,
   "metadata": {},
   "outputs": [
    {
     "name": "stdout",
     "output_type": "stream",
     "text": [
      "{'junior', 'three-way', 'new', 'Indonesian'}\n"
     ]
    }
   ],
   "source": [
    "NTarget = 'JJ'\n",
    "Word = 'coalition'\n",
    "NResults = set()\n",
    "for entry in random_1617_sents['POS_sents']:\n",
    "    for sentence in entry:\n",
    "        for (ent1, kind1),(ent2,kind2) in zip(sentence[:-1], sentence[1:]):\n",
    "            if (kind1,ent2.lower())==(NTarget,Word):\n",
    "                NResults.add(ent1)\n",
    "            else:\n",
    "                continue\n",
    "\n",
    "print(NResults)"
   ]
  },
  {
   "cell_type": "code",
   "execution_count": 513,
   "metadata": {},
   "outputs": [
    {
     "name": "stdout",
     "output_type": "stream",
     "text": [
      "{'presidential', 'regional', 'gubernatorial', 'hypothetical', 'legislative'}\n"
     ]
    }
   ],
   "source": [
    "NTarget = 'JJ'\n",
    "Word = 'election'\n",
    "NResults = set()\n",
    "for entry in random_1617_sents['POS_sents']:\n",
    "    for sentence in entry:\n",
    "        for (ent1, kind1),(ent2,kind2) in zip(sentence[:-1], sentence[1:]):\n",
    "            if (kind1,ent2.lower())==(NTarget,Word):\n",
    "                NResults.add(ent1)\n",
    "            else:\n",
    "                continue\n",
    "\n",
    "print(NResults)"
   ]
  },
  {
   "cell_type": "markdown",
   "metadata": {},
   "source": [
    "**POS for SMO between 2016-2017**\n",
    "\n",
    "The top **NNP** (proper noun, singular) still reveals actors and organizations highly mentioned between 2016-2017. 'FPI' and 'NU' (aka 'Nahdlatul' 'Ulama') still appears on the top NNP list. However, after consistently appearing in the 2 past election cycles Muhammadiyah has been replaced by 'MUI', another Islamic SMO. Interestingly, despite looking at articles specifically on SMO we can see many actors who appeared on all articles (party + SMO). What''s very striking is that, in the previous cycles there weren't as many actors who appear in the general dataset and the SMO only dtaset. This might reveal **a notable shift of SMOs towards the mainstream political realm**. Furthermore, this shift is supported by the fact that both gubernatorial candidates' names appear in this list instead of only one of them as seen in the general dataset ('Ahok' and 'Anies') alongside the president ('Jokowi') and SMO actors ('Gus', 'Rizieq').\n",
    "\n",
    "The **NN**s (noun, singular or plural) that are related to SMOs in this election cycle is interestingly more politically charged than in the previous cycles. For example, words such as 'rally', 'government', and 'police' signals that **at least one SMO is engaged contentious politics**. The word 'election' also indicates further that the SMOs are more closely related to the nation's politics in this election cycle. Interestingly, when we look at **JJ** (adjective) related to the word 'voters' the word 'Muslim' and 'many' appears, which might refer to the number of Muslim voters that the politicians are trying to engage in this election cycle. Might the SMO play a role in swinging the \"Muslim votes\"?\n",
    "\n",
    "Other words such as 'case', and 'blasphemy' reveals something that is more specific to this election cycle. This is interesting if we look at the **JJ** (adjective) closely related to the word 'candidate'. In this election cycle 'Ahok' is a 'Non-Muslim' incumbent candidate for the 'gubernatorial' election and actors from FPI (an SMO) tries to charge Ahok for 'blasphemy' to stop him from running for governorship. **While adjectives such as 'hard-line' and 'Muslim' are still closely related to the word 'organization' at this time period this POS tagging method has revealed how the SMOs has shifted its violent tendencies in the past to political power in 2016-2017**. "
   ]
  },
  {
   "cell_type": "code",
   "execution_count": 515,
   "metadata": {
    "collapsed": true
   },
   "outputs": [],
   "source": [
    "#Filter for articles from 2016-2017.\n",
    "news_SMO_16 = news_SMO.loc[news_SMO['Year'] == 2016]\n",
    "news_SMO_17 = news_SMO.loc[news_SMO['Year'] == 2017]\n",
    "news_SMO_1617 = pandas.concat([news_SMO_16, news_SMO_17])"
   ]
  },
  {
   "cell_type": "code",
   "execution_count": 484,
   "metadata": {
    "collapsed": true
   },
   "outputs": [],
   "source": [
    "#Sample random 50 articles for SMO between 2016-2017.\n",
    "random_SMO_1617 = news_SMO_1617.sample(n=1000)"
   ]
  },
  {
   "cell_type": "code",
   "execution_count": 485,
   "metadata": {
    "collapsed": true
   },
   "outputs": [],
   "source": [
    "#Apply POS.\n",
    "random_SMO_1617['POS_sents'] = random_SMO_1617['sentences'].apply(lambda x: stanford.postTagger.tag_sents(x))"
   ]
  },
  {
   "cell_type": "code",
   "execution_count": 516,
   "metadata": {},
   "outputs": [
    {
     "data": {
      "text/plain": [
       "[('(', 111),\n",
       " ('Jakarta', 109),\n",
       " ('NU', 107),\n",
       " (')', 96),\n",
       " ('Islam', 90),\n",
       " ('Indonesia', 83),\n",
       " ('Police', 68),\n",
       " ('Ahok', 62),\n",
       " ('FPI', 55),\n",
       " ('Rizieq', 45),\n",
       " ('Java', 43),\n",
       " ('National', 41),\n",
       " ('West', 31),\n",
       " ('Jokowi', 31),\n",
       " ('Friday', 30),\n",
       " ('Ulama', 27),\n",
       " ('Nahdlatul', 25),\n",
       " ('Gus', 21),\n",
       " ('MUI', 21),\n",
       " ('Anies', 21)]"
      ]
     },
     "execution_count": 516,
     "metadata": {},
     "output_type": "execute_result"
    }
   ],
   "source": [
    "countTarget = 'NNP'\n",
    "targetCounts = {}\n",
    "for entry in random_SMO_1617['POS_sents']:\n",
    "    for sentence in entry:\n",
    "        for ent, kind in sentence:\n",
    "            if kind != countTarget:\n",
    "                continue\n",
    "            elif ent in targetCounts:\n",
    "                targetCounts[ent] += 1\n",
    "            else:\n",
    "                targetCounts[ent] = 1\n",
    "sortedTargets = sorted(targetCounts.items(), key = lambda x: x[1], reverse = True)\n",
    "sortedTargets[:20]"
   ]
  },
  {
   "cell_type": "code",
   "execution_count": 517,
   "metadata": {},
   "outputs": [
    {
     "data": {
      "text/plain": [
       "[('police', 73),\n",
       " ('country', 62),\n",
       " (')', 51),\n",
       " ('government', 48),\n",
       " ('organization', 45),\n",
       " ('rally', 43),\n",
       " ('case', 38),\n",
       " ('blasphemy', 32),\n",
       " ('leader', 29),\n",
       " ('Front', 27),\n",
       " ('state', 27),\n",
       " ('chairman', 26),\n",
       " ('year', 26),\n",
       " ('group', 25),\n",
       " (']', 24),\n",
       " ('event', 24),\n",
       " ('chief', 22),\n",
       " ('election', 22),\n",
       " ('(', 21),\n",
       " ('school', 20)]"
      ]
     },
     "execution_count": 517,
     "metadata": {},
     "output_type": "execute_result"
    }
   ],
   "source": [
    "countTarget = 'NN'\n",
    "targetCounts = {}\n",
    "for entry in random_SMO_1617['POS_sents']:\n",
    "    for sentence in entry:\n",
    "        for ent, kind in sentence:\n",
    "            if kind != countTarget:\n",
    "                continue\n",
    "            elif ent in targetCounts:\n",
    "                targetCounts[ent] += 1\n",
    "            else:\n",
    "                targetCounts[ent] = 1\n",
    "sortedTargets = sorted(targetCounts.items(), key = lambda x: x[1], reverse = True)\n",
    "sortedTargets[:20]"
   ]
  },
  {
   "cell_type": "code",
   "execution_count": 518,
   "metadata": {},
   "outputs": [
    {
     "name": "stdout",
     "output_type": "stream",
     "text": [
      "{'hard-line', 'Islamic', 'Muslim', 'legal', 'non-governmental', 'NU-like'}\n"
     ]
    }
   ],
   "source": [
    "NTarget = 'JJ'\n",
    "Word = 'organization'\n",
    "NResults = set()\n",
    "for entry in random_SMO_1617['POS_sents']:\n",
    "    for sentence in entry:\n",
    "        for (ent1, kind1),(ent2,kind2) in zip(sentence[:-1], sentence[1:]):\n",
    "            if (kind1,ent2.lower())==(NTarget,Word):\n",
    "                NResults.add(ent1)\n",
    "            else:\n",
    "                continue\n",
    "\n",
    "print(NResults)"
   ]
  },
  {
   "cell_type": "code",
   "execution_count": 539,
   "metadata": {},
   "outputs": [
    {
     "name": "stdout",
     "output_type": "stream",
     "text": [
      "{'Muslim', 'many'}\n"
     ]
    }
   ],
   "source": [
    "NTarget = 'JJ'\n",
    "Word = 'voters'\n",
    "NResults = set()\n",
    "for entry in random_SMO_1617['POS_sents']:\n",
    "    for sentence in entry:\n",
    "        for (ent1, kind1),(ent2,kind2) in zip(sentence[:-1], sentence[1:]):\n",
    "            if (kind1,ent2.lower())==(NTarget,Word):\n",
    "                NResults.add(ent1)\n",
    "            else:\n",
    "                continue\n",
    "\n",
    "print(NResults)"
   ]
  },
  {
   "cell_type": "code",
   "execution_count": 550,
   "metadata": {},
   "outputs": [
    {
     "name": "stdout",
     "output_type": "stream",
     "text": [
      "{'non-Muslim', 'gubernatorial'}\n"
     ]
    }
   ],
   "source": [
    "NTarget = 'JJ'\n",
    "Word = 'candidate'\n",
    "NResults = set()\n",
    "for entry in random_SMO_1617['POS_sents']:\n",
    "    for sentence in entry:\n",
    "        for (ent1, kind1),(ent2,kind2) in zip(sentence[:-1], sentence[1:]):\n",
    "            if (kind1,ent2.lower())==(NTarget,Word):\n",
    "                NResults.add(ent1)\n",
    "            else:\n",
    "                continue\n",
    "\n",
    "print(NResults)"
   ]
  },
  {
   "cell_type": "markdown",
   "metadata": {},
   "source": [
    "<h2>WEEK 4</h2>"
   ]
  },
  {
   "cell_type": "markdown",
   "metadata": {},
   "source": [
    "<h3>Word-2-Vec</h3>"
   ]
  },
  {
   "cell_type": "code",
   "execution_count": 293,
   "metadata": {
    "collapsed": true
   },
   "outputs": [],
   "source": [
    "news_W2V = gensim.models.word2vec.Word2Vec(df_new['normalized_sents'].sum())"
   ]
  },
  {
   "cell_type": "markdown",
   "metadata": {},
   "source": [
    "Full matrix, syn0 stores all the vectors:"
   ]
  },
  {
   "cell_type": "code",
   "execution_count": 294,
   "metadata": {},
   "outputs": [
    {
     "data": {
      "text/plain": [
       "array([[ 0.9085335 ,  0.4924366 , -0.08565232, ...,  0.12615398,\n",
       "         2.730047  , -1.0875794 ],\n",
       "       [ 2.2665708 ,  2.0555058 ,  0.17184994, ...,  0.03961373,\n",
       "        -0.44058108,  2.1389    ],\n",
       "       [ 1.3542795 ,  2.7949374 , -0.38727137, ..., -2.7075436 ,\n",
       "        -0.7242309 , -2.4007766 ],\n",
       "       ...,\n",
       "       [ 0.03129344, -0.07885535, -0.01368948, ...,  0.11232428,\n",
       "        -0.08154757, -0.02200471],\n",
       "       [-0.04749041, -0.05290969, -0.02896613, ...,  0.11361046,\n",
       "        -0.01916927, -0.01903452],\n",
       "       [-0.02419502, -0.06358492,  0.03858384, ...,  0.1045482 ,\n",
       "         0.00964875,  0.02684173]], dtype=float32)"
      ]
     },
     "execution_count": 294,
     "metadata": {},
     "output_type": "execute_result"
    }
   ],
   "source": [
    "news_W2V.wv.syn0"
   ]
  },
  {
   "cell_type": "markdown",
   "metadata": {},
   "source": [
    "Now we can look at a few things that come from the word vectors. The first is to find similar vectors (cosine similarity):"
   ]
  },
  {
   "cell_type": "code",
   "execution_count": 295,
   "metadata": {},
   "outputs": [
    {
     "data": {
      "text/plain": [
       "[('tahrir', 0.9610133171081543),\n",
       " ('hti', 0.8135484457015991),\n",
       " ('baitul', 0.7155582904815674),\n",
       " ('persatuan', 0.707801103591919),\n",
       " ('muslimin', 0.6923957467079163),\n",
       " ('jamaah', 0.6833691596984863),\n",
       " ('gerakan', 0.6827689409255981),\n",
       " ('salafi', 0.6744477152824402),\n",
       " ('darul', 0.6742594242095947),\n",
       " ('islamiyah', 0.673783540725708)]"
      ]
     },
     "execution_count": 295,
     "metadata": {},
     "output_type": "execute_result"
    }
   ],
   "source": [
    "news_W2V.most_similar('hizbut')"
   ]
  },
  {
   "cell_type": "code",
   "execution_count": 296,
   "metadata": {},
   "outputs": [
    {
     "data": {
      "text/plain": [
       "[('defenders', 0.6609232425689697),\n",
       " ('rizieq', 0.6407318115234375),\n",
       " ('gafatar', 0.6307985782623291),\n",
       " ('hti', 0.6043345928192139),\n",
       " ('ahmadiyah', 0.5994358658790588),\n",
       " ('munarman', 0.5854163765907288),\n",
       " ('banser', 0.5586118698120117),\n",
       " ('islam', 0.5472561120986938),\n",
       " ('gmbi', 0.5399589538574219),\n",
       " ('habib', 0.5359525680541992)]"
      ]
     },
     "execution_count": 296,
     "metadata": {},
     "output_type": "execute_result"
    }
   ],
   "source": [
    "news_W2V.most_similar('fpi')"
   ]
  },
  {
   "cell_type": "code",
   "execution_count": 298,
   "metadata": {},
   "outputs": [
    {
     "data": {
      "text/plain": [
       "[('ulama', 0.900090217590332),\n",
       " ('nadhlatul', 0.8784515857696533),\n",
       " ('ulamaõs', 0.8173874616622925),\n",
       " ('nahdatul', 0.7892819046974182),\n",
       " ('muhammadiyah', 0.7408321499824524),\n",
       " ('wathan', 0.7296918630599976),\n",
       " ('upturn', 0.7091419100761414),\n",
       " ('nahdhlatul', 0.7010366916656494),\n",
       " ('nu', 0.6929893493652344),\n",
       " ('nuõs', 0.6772975325584412)]"
      ]
     },
     "execution_count": 298,
     "metadata": {},
     "output_type": "execute_result"
    }
   ],
   "source": [
    "news_W2V.most_similar('nahdlatul')"
   ]
  },
  {
   "cell_type": "code",
   "execution_count": 300,
   "metadata": {},
   "outputs": [
    {
     "data": {
      "text/plain": [
       "[('jokowiõs', 0.7614142894744873),\n",
       " ('sby', 0.7563997507095337),\n",
       " ('yudhoyono', 0.7207401990890503),\n",
       " ('megawati', 0.6725518703460693),\n",
       " ('kalla', 0.6698206663131714),\n",
       " ('prabowo', 0.610152542591095),\n",
       " ('ahok', 0.607346773147583),\n",
       " ('òjokowió', 0.6064018607139587),\n",
       " ('joko', 0.5822492837905884),\n",
       " ('widodo', 0.5810831189155579)]"
      ]
     },
     "execution_count": 300,
     "metadata": {},
     "output_type": "execute_result"
    }
   ],
   "source": [
    "news_W2V.most_similar('jokowi')"
   ]
  },
  {
   "cell_type": "code",
   "execution_count": 299,
   "metadata": {},
   "outputs": [
    {
     "data": {
      "text/plain": [
       "[('perjuangan', 0.6920674443244934),\n",
       " ('agum', 0.6813360452651978),\n",
       " ('prya', 0.6769644021987915),\n",
       " ('affan', 0.666623592376709),\n",
       " ('ganjar', 0.6612926721572876),\n",
       " ('maphilinda', 0.6579527258872986),\n",
       " ('fenita', 0.6571731567382812),\n",
       " ('suhaimi', 0.6532416343688965),\n",
       " ('sumanegara', 0.6530462503433228),\n",
       " ('thabranie', 0.6518823504447937)]"
      ]
     },
     "execution_count": 299,
     "metadata": {},
     "output_type": "execute_result"
    }
   ],
   "source": [
    "news_W2V.most_similar('pdip')"
   ]
  },
  {
   "cell_type": "code",
   "execution_count": 302,
   "metadata": {},
   "outputs": [
    {
     "data": {
      "text/plain": [
       "[('prosperous', 0.625213623046875),\n",
       " ('fahri', 0.6124092936515808),\n",
       " ('gerindra', 0.6047829389572144),\n",
       " ('ppp', 0.6017215251922607),\n",
       " ('pan', 0.5961775779724121),\n",
       " ('pksõ', 0.574804425239563),\n",
       " ('golkar', 0.5692847967147827),\n",
       " ('pkb', 0.5637001991271973),\n",
       " ('anis', 0.5620695352554321),\n",
       " ('pd', 0.5596140027046204)]"
      ]
     },
     "execution_count": 302,
     "metadata": {},
     "output_type": "execute_result"
    }
   ],
   "source": [
    "news_W2V.most_similar('pks')"
   ]
  },
  {
   "cell_type": "code",
   "execution_count": 301,
   "metadata": {},
   "outputs": [
    {
     "data": {
      "text/plain": [
       "[('pkb', 0.7047128677368164),\n",
       " ('nasdem', 0.6589409708976746),\n",
       " ('pks', 0.5961774587631226),\n",
       " ('panõs', 0.5949815511703491),\n",
       " ('amien', 0.5887771844863892),\n",
       " ('zulkifli', 0.5748744606971741),\n",
       " ('dems', 0.5674453377723694),\n",
       " ('gerindra', 0.5671314001083374),\n",
       " ('ppp', 0.5649738311767578),\n",
       " ('pd', 0.5609534978866577)]"
      ]
     },
     "execution_count": 301,
     "metadata": {},
     "output_type": "execute_result"
    }
   ],
   "source": [
    "news_W2V.most_similar('pan')"
   ]
  },
  {
   "cell_type": "code",
   "execution_count": 303,
   "metadata": {},
   "outputs": [
    {
     "data": {
      "text/plain": [
       "[('hanura', 0.7296870946884155),\n",
       " ('nasdem', 0.6587892770767212),\n",
       " ('gerinda', 0.6398107409477234),\n",
       " ('kmp', 0.6376669406890869),\n",
       " ('pks', 0.6047829389572144),\n",
       " ('subianto', 0.5825847387313843),\n",
       " ('golkar', 0.5709103345870972),\n",
       " ('pan', 0.5671314001083374),\n",
       " ('mahesa', 0.5573458671569824),\n",
       " ('prabowo', 0.5410110950469971)]"
      ]
     },
     "execution_count": 303,
     "metadata": {},
     "output_type": "execute_result"
    }
   ],
   "source": [
    "news_W2V.most_similar('gerindra')"
   ]
  },
  {
   "cell_type": "markdown",
   "metadata": {},
   "source": [
    "We can also find which word best matches the result of a semantic equation (here, we seek the words whose vectors best fit the missing entry from the equation: <b>X + Y - Z = _</b>.\n",
    "\n",
    "We will look at FPI's relationship with the police and its equal for HTI."
   ]
  },
  {
   "cell_type": "code",
   "execution_count": null,
   "metadata": {
    "collapsed": true
   },
   "outputs": [],
   "source": [
    "news_W2V.most_similar(positive=['fpi', 'hti'], negative = ['police'])"
   ]
  },
  {
   "cell_type": "markdown",
   "metadata": {},
   "source": [
    "Here we see that <b>FPI + HTI - police = government</b>. In other words, in this dataset and period, <b>FPI</b> was to <b>police</b> as <b>HTI</b> was to <b>government</b>. This is interesting as FPI has had a long history of police involvement, from its leaders to its members who were often charged for hate speech and vigilantism. Meanwhile HTI has has always had a conflicting view with the government for attempting to replace the nation's Pancasila ideology and democracy with Islamic caliphate. These relations can be seen in the <i> most similar<i> word test."
   ]
  },
  {
   "cell_type": "markdown",
   "metadata": {},
   "source": [
    "Let's look at a few things that come from the word vectors between 2008-2009. The first is to find similar vectors (cosine similarity):"
   ]
  },
  {
   "cell_type": "code",
   "execution_count": 316,
   "metadata": {
    "collapsed": true
   },
   "outputs": [],
   "source": [
    "news_W2V_0809 = gensim.models.word2vec.Word2Vec(news_0809['normalized_sents'].sum())"
   ]
  },
  {
   "cell_type": "code",
   "execution_count": 317,
   "metadata": {},
   "outputs": [
    {
     "data": {
      "text/plain": [
       "array([[-1.20008862e+00, -1.05091996e-01,  2.63793796e-01, ...,\n",
       "        -9.42923129e-01,  1.63683295e+00, -2.57246852e-01],\n",
       "       [ 6.03330612e-01,  1.02900875e+00,  1.31073594e+00, ...,\n",
       "         9.15414512e-01, -8.04987431e-01,  7.02072918e-01],\n",
       "       [ 6.10623896e-01,  8.41137588e-01,  6.30933464e-01, ...,\n",
       "        -9.13787857e-02, -7.76142418e-01, -1.86337858e-01],\n",
       "       ...,\n",
       "       [ 3.51036228e-02, -3.26108150e-02,  2.61879270e-03, ...,\n",
       "        -1.40241266e-03, -4.24464643e-02,  1.29398815e-02],\n",
       "       [ 5.19000366e-03, -5.87052405e-02,  7.66532309e-03, ...,\n",
       "        -4.10011224e-03, -6.96427301e-02,  6.52081566e-03],\n",
       "       [-1.77974347e-02, -4.10598218e-02,  6.31499961e-02, ...,\n",
       "        -4.89362180e-02, -3.80176604e-02, -6.01215735e-02]], dtype=float32)"
      ]
     },
     "execution_count": 317,
     "metadata": {},
     "output_type": "execute_result"
    }
   ],
   "source": [
    "#Storing vector\n",
    "news_W2V_0809.wv.syn0"
   ]
  },
  {
   "cell_type": "code",
   "execution_count": 318,
   "metadata": {},
   "outputs": [
    {
     "data": {
      "text/plain": [
       "[('attack', 0.8501436710357666),\n",
       " ('defenders', 0.8485628962516785),\n",
       " ('akkbb', 0.8107459545135498),\n",
       " ('shihab', 0.7480639815330505),\n",
       " ('attacked', 0.7438262701034546),\n",
       " ('ahmadiyah', 0.738564670085907),\n",
       " ('rizieq', 0.7332050204277039),\n",
       " ('activists', 0.7331201434135437),\n",
       " ('front', 0.7293624877929688),\n",
       " ('group', 0.7120883464813232)]"
      ]
     },
     "execution_count": 318,
     "metadata": {},
     "output_type": "execute_result"
    }
   ],
   "source": [
    "news_W2V_0809.most_similar('fpi')"
   ]
  },
  {
   "cell_type": "code",
   "execution_count": 326,
   "metadata": {},
   "outputs": [
    {
     "data": {
      "text/plain": [
       "[('muslimin', 0.8972820043563843),\n",
       " ('tasikmalaya', 0.8941513895988464),\n",
       " ('comprised', 0.8908499479293823),\n",
       " ('hmi', 0.8879172205924988),\n",
       " ('mujahidin', 0.883868396282196),\n",
       " ('infidels', 0.8811303377151489),\n",
       " ('fitra', 0.8808263540267944),\n",
       " ('husni', 0.8804721832275391),\n",
       " ('ayub', 0.8802872896194458),\n",
       " ('fkub', 0.8795778751373291)]"
      ]
     },
     "execution_count": 326,
     "metadata": {},
     "output_type": "execute_result"
    }
   ],
   "source": [
    "news_W2V_0809.most_similar('fui')"
   ]
  },
  {
   "cell_type": "markdown",
   "metadata": {},
   "source": [
    "Now we can look at a few things that come from the word vectors. The first is to find similar vectors (cosine similarity):"
   ]
  },
  {
   "cell_type": "code",
   "execution_count": 309,
   "metadata": {
    "collapsed": true
   },
   "outputs": [],
   "source": [
    "news_W2V_1314 = gensim.models.word2vec.Word2Vec(news_1314['normalized_sents'].sum())"
   ]
  },
  {
   "cell_type": "code",
   "execution_count": 311,
   "metadata": {},
   "outputs": [
    {
     "data": {
      "text/plain": [
       "array([[ 3.4357545e-01, -3.3732906e-01, -5.4841286e-01, ...,\n",
       "        -1.1618748e+00,  6.7330226e-02,  4.5958290e-01],\n",
       "       [ 2.5977388e-01,  7.6108843e-01,  1.1062653e+00, ...,\n",
       "         2.2604806e+00,  6.7796630e-01,  1.2803147e+00],\n",
       "       [ 1.6097366e+00,  4.5782360e-03,  1.2792698e+00, ...,\n",
       "         5.4302812e-01, -2.1862833e+00,  1.3585911e+00],\n",
       "       ...,\n",
       "       [ 2.9287014e-02, -1.6087180e-01,  5.2061591e-02, ...,\n",
       "         5.9692985e-03, -2.5401231e-02, -1.2365203e-02],\n",
       "       [-1.0439122e-02, -7.6605342e-02,  6.1140429e-02, ...,\n",
       "        -1.2067160e-02,  9.9276972e-04, -5.7544027e-02],\n",
       "       [-1.0178196e-03, -4.6055336e-02, -9.7566778e-03, ...,\n",
       "         2.9221794e-02, -4.9739540e-02,  1.6552975e-02]], dtype=float32)"
      ]
     },
     "execution_count": 311,
     "metadata": {},
     "output_type": "execute_result"
    }
   ],
   "source": [
    "#Storing vector\n",
    "news_W2V_1314.wv.syn0"
   ]
  },
  {
   "cell_type": "code",
   "execution_count": 313,
   "metadata": {},
   "outputs": [
    {
     "data": {
      "text/plain": [
       "[('defenders', 0.8114345669746399),\n",
       " ('raids', 0.6694478988647461),\n",
       " ('habib', 0.6672974824905396),\n",
       " ('protest', 0.6579796671867371),\n",
       " ('rizieq', 0.6375614404678345),\n",
       " ('islam', 0.6300868391990662),\n",
       " ('violent', 0.6292943954467773),\n",
       " ('clash', 0.6232600212097168),\n",
       " ('ahmadis', 0.6142605543136597),\n",
       " ('threatened', 0.6107065081596375)]"
      ]
     },
     "execution_count": 313,
     "metadata": {},
     "output_type": "execute_result"
    }
   ],
   "source": [
    "news_W2V_1314.most_similar('fpi')"
   ]
  },
  {
   "cell_type": "code",
   "execution_count": 327,
   "metadata": {},
   "outputs": [
    {
     "data": {
      "text/plain": [
       "[('alumni', 0.8910675048828125),\n",
       " ('kahmi', 0.8908041715621948),\n",
       " ('icmi', 0.8695387244224548),\n",
       " ('jihad', 0.8638888001441956),\n",
       " ('huda', 0.8632725477218628),\n",
       " ('firebrand', 0.8536677360534668),\n",
       " ('umbrella', 0.8512057065963745),\n",
       " ('parti', 0.8476306200027466),\n",
       " ('azra', 0.8447432518005371),\n",
       " ('muslimin', 0.8411786556243896)]"
      ]
     },
     "execution_count": 327,
     "metadata": {},
     "output_type": "execute_result"
    }
   ],
   "source": [
    "news_W2V_1314.most_similar('fui')"
   ]
  },
  {
   "cell_type": "code",
   "execution_count": 330,
   "metadata": {},
   "outputs": [
    {
     "data": {
      "text/plain": [
       "[('hanura', 0.729273796081543),\n",
       " ('nasdem', 0.7048040628433228),\n",
       " ('patron', 0.674811601638794),\n",
       " ('great', 0.6738317012786865),\n",
       " ('conscience', 0.6498193144798279),\n",
       " ('movement', 0.6490168571472168),\n",
       " ('zon', 0.6435006856918335),\n",
       " ('golkar', 0.6369192600250244),\n",
       " ('fadli', 0.6369003057479858),\n",
       " ('rival', 0.6302211880683899)]"
      ]
     },
     "execution_count": 330,
     "metadata": {},
     "output_type": "execute_result"
    }
   ],
   "source": [
    "news_W2V_1314.most_similar('gerindra')"
   ]
  },
  {
   "cell_type": "markdown",
   "metadata": {},
   "source": [
    "Now we can look at a few things that come from the word vectors. The first is to find similar vectors (cosine similarity):"
   ]
  },
  {
   "cell_type": "code",
   "execution_count": 319,
   "metadata": {
    "collapsed": true
   },
   "outputs": [],
   "source": [
    "news_W2V_1617 = gensim.models.word2vec.Word2Vec(news_1617['normalized_sents'].sum())"
   ]
  },
  {
   "cell_type": "code",
   "execution_count": 320,
   "metadata": {},
   "outputs": [
    {
     "data": {
      "text/plain": [
       "array([[ 1.5960456 , -0.07740809, -0.05936744, ...,  0.7000257 ,\n",
       "         0.11853071, -1.5289818 ],\n",
       "       [ 0.8281983 , -0.20192236,  1.1466198 , ...,  1.1358731 ,\n",
       "         0.09679662,  1.1351762 ],\n",
       "       [ 0.11662417, -0.20546168, -0.09734111, ..., -0.77905446,\n",
       "         1.4900073 ,  1.2124658 ],\n",
       "       ...,\n",
       "       [ 0.00653987, -0.08221103,  0.03343563, ...,  0.03545066,\n",
       "        -0.0026092 , -0.0029037 ],\n",
       "       [-0.01878829, -0.12450029,  0.03233742, ...,  0.05230998,\n",
       "        -0.06855273, -0.0025163 ],\n",
       "       [-0.04216756, -0.04021986,  0.02439289, ...,  0.06636339,\n",
       "        -0.06385922, -0.04082707]], dtype=float32)"
      ]
     },
     "execution_count": 320,
     "metadata": {},
     "output_type": "execute_result"
    }
   ],
   "source": [
    "#Storing vector\n",
    "news_W2V_1617.wv.syn0"
   ]
  },
  {
   "cell_type": "code",
   "execution_count": 321,
   "metadata": {},
   "outputs": [
    {
     "data": {
      "text/plain": [
       "[('defenders', 0.8668028116226196),\n",
       " ('rizieq', 0.792001485824585),\n",
       " ('shihab', 0.7855856418609619),\n",
       " ('gafatar', 0.778397798538208),\n",
       " ('habib', 0.7338113188743591),\n",
       " ('islam', 0.7204492092132568),\n",
       " ('fpiõs', 0.7117666602134705),\n",
       " ('syihab', 0.6952912211418152),\n",
       " ('sunnah', 0.6935631632804871),\n",
       " ('front', 0.6908200979232788)]"
      ]
     },
     "execution_count": 321,
     "metadata": {},
     "output_type": "execute_result"
    }
   ],
   "source": [
    "news_W2V_1617.most_similar('fpi')"
   ]
  },
  {
   "cell_type": "markdown",
   "metadata": {},
   "source": [
    "<h3>Projection</h3>"
   ]
  },
  {
   "cell_type": "code",
   "execution_count": 369,
   "metadata": {},
   "outputs": [
    {
     "data": {
      "text/plain": [
       "array([[ 1.4047825 , -0.5980916 ,  1.9646668 , ...,  0.80146056,\n",
       "        -2.384063  , -2.4929998 ],\n",
       "       [ 1.2697436 , -0.89021844, -2.2978117 , ...,  2.281876  ,\n",
       "        -0.39533544, -1.6250076 ],\n",
       "       [ 1.26156   , -3.4399784 ,  1.8072728 , ...,  0.3148116 ,\n",
       "        -3.6511776 , -0.1172886 ],\n",
       "       ...,\n",
       "       [ 1.6477388 ,  4.696894  ,  1.0732177 , ..., -1.7997189 ,\n",
       "         1.2545213 ,  0.39473084],\n",
       "       [-0.42296576, -1.6822822 ,  0.5640866 , ..., -2.2421267 ,\n",
       "        -0.5720832 , -1.8353035 ],\n",
       "       [-0.11582258, -0.93201923, -0.47399884, ..., -0.96992344,\n",
       "        -3.404448  ,  0.08729959]], dtype=float32)"
      ]
     },
     "execution_count": 369,
     "metadata": {},
     "output_type": "execute_result"
    }
   ],
   "source": [
    "#words to create dimensions\n",
    "newsTargetWords = ['fpi','islamic', 'defenders', 'front', 'rizieq', 'shihab', 'jokowi', 'joko', 'widodo', 'nu','nahdlatul', 'ulama']\n",
    "#words we will be mapping\n",
    "newsTargetWords += [\"rally\", \"protest\", \"support\", \"speech\", \"islamist\", \"police\", \"mass\", \"organization\", \"challenge\", \"legal\", \"law\", \"conservative\", \"pluralistic\", \"traditions\", \"raids\", \"government\", \"sectarian\", \"vigilantism\", \"radical\", \"jakarta\", \"democracy\",\"pancasila\", \"tolerance\", \"election\", \"coalition\", \"ban\", \"sharia\", \"campaign\", \"secular\"]\n",
    "wordsSubMatrix = []\n",
    "for word in newsTargetWords:\n",
    "    wordsSubMatrix.append(news_W2V[word])\n",
    "wordsSubMatrix = np.array(wordsSubMatrix)\n",
    "wordsSubMatrix"
   ]
  },
  {
   "cell_type": "code",
   "execution_count": 370,
   "metadata": {
    "collapsed": true
   },
   "outputs": [],
   "source": [
    "pcaWordsJP = sklearn.decomposition.PCA(n_components = 50).fit(wordsSubMatrix)\n",
    "reducedPCA_dataJP = pcaWordsJP.transform(wordsSubMatrix)\n",
    "#T-SNE is theoretically better, but you should experiment\n",
    "tsneWordsJP = sklearn.manifold.TSNE(n_components = 2).fit_transform(reducedPCA_dataJP)"
   ]
  },
  {
   "cell_type": "code",
   "execution_count": 371,
   "metadata": {},
   "outputs": [
    {
     "data": {
      "image/png": "[encoded data removed]",
      "text/plain": [
       "<Figure size 720x432 with 1 Axes>"
      ]
     },
     "metadata": {},
     "output_type": "display_data"
    }
   ],
   "source": [
    "fig = plt.figure(figsize = (10,6))\n",
    "ax = fig.add_subplot(111)\n",
    "ax.set_frame_on(False)\n",
    "plt.scatter(tsneWordsJP[:, 0], tsneWordsJP[:, 1], alpha = 0) #Making the points invisible\n",
    "for i, word in enumerate(newsTargetWords):\n",
    "    ax.annotate(word, (tsneWordsJP[:, 0][i],tsneWordsJP[:, 1][i]), size =  20 * (len(newsTargetWords) - i) / len(newsTargetWords))\n",
    "plt.xticks(())\n",
    "plt.yticks(())\n",
    "plt.show()"
   ]
  },
  {
   "cell_type": "markdown",
   "metadata": {},
   "source": [
    "Define some convenient functions for getting dimensions."
   ]
  },
  {
   "cell_type": "code",
   "execution_count": 372,
   "metadata": {
    "collapsed": true
   },
   "outputs": [],
   "source": [
    "def normalize(vector):\n",
    "    normalized_vector = vector / np.linalg.norm(vector)\n",
    "    return normalized_vector\n",
    "\n",
    "def dimension(model, positives, negatives):\n",
    "    diff = sum([normalize(model[x]) for x in positives]) - sum([normalize(model[y]) for y in negatives])\n",
    "    return diff"
   ]
  },
  {
   "cell_type": "markdown",
   "metadata": {},
   "source": [
    "Let's calculate three dimensions: action, ideology, and government.\n",
    "\n",
    "**SMO** will classify each social movement organizations, which are FPI and HTI.\n",
    "\n",
    "**Action** will reveal which activities each social movement organizations are more related to.\n",
    "\n",
    "**Ideology** will reveal which ideological tendencies each social movement organizations have.\n",
    "\n",
    "**Government** will show how the government act towards each social movement organizations."
   ]
  },
  {
   "cell_type": "code",
   "execution_count": 386,
   "metadata": {
    "collapsed": true
   },
   "outputs": [],
   "source": [
    "SMO = dimension(news_W2V, ['fpi', 'islamic', 'defenders', 'front'], ['nu', 'nahdlatul', 'ulama'])\n",
    "Institution = dimension(news_W2V, ['mass', 'organization'], ['government', 'police', 'jokowi'])\n",
    "#Actors = dimension(news_W2V, ['rizieq'], ['jokowi'])\n",
    "Organization = dimension(news_W2V, ['mass', 'organization'], ['political', 'party'])"
   ]
  },
  {
   "cell_type": "code",
   "execution_count": 390,
   "metadata": {
    "collapsed": true
   },
   "outputs": [],
   "source": [
    "Action = [\"rally\",\"protest\",\"support\",\"speech\", \"challenge\", \"raids\", \"vigilantism\", \"coalition\", \"campaign\"]\n",
    "\n",
    "Ideology = [\"islamist\", \"conservative\", \"pluralistic\", \"traditions\", \"sectarian\", \"radical\", \"democracy\", \"pancasila\", \"tolerance\", \"sharia\", \"secular\"]\n",
    "            \n",
    "Government  = [\"police\", \"legal\", \"law\", \"government\", \"jakarta\", \"ban\", \"election\", \"coalition\"]"
   ]
  },
  {
   "cell_type": "markdown",
   "metadata": {},
   "source": [
    "Define a function to project words in a word list to each of the three dimensions."
   ]
  },
  {
   "cell_type": "code",
   "execution_count": 391,
   "metadata": {
    "collapsed": true
   },
   "outputs": [],
   "source": [
    "def makeDF(model, word_list):\n",
    "    g = []\n",
    "    r = []\n",
    "    c = []\n",
    "    d = []\n",
    "    for word in word_list:\n",
    "        g.append(sklearn.metrics.pairwise.cosine_similarity(model[word].reshape(1,-1), SMO.reshape(1,-1))[0][0])\n",
    "        r.append(sklearn.metrics.pairwise.cosine_similarity(model[word].reshape(1,-1), Institution.reshape(1,-1))[0][0])\n",
    "        c.append(sklearn.metrics.pairwise.cosine_similarity(model[word].reshape(1,-1), Actors.reshape(1,-1))[0][0])\n",
    "        d.append(sklearn.metrics.pairwise.cosine_similarity(model[word].reshape(1,-1), Organization.reshape(1,-1))[0][0])\n",
    "    df = pandas.DataFrame({'SMO': g, 'Institution': r, 'Actors': c, 'Organization': d}, index = word_list)\n",
    "    return df"
   ]
  },
  {
   "cell_type": "markdown",
   "metadata": {},
   "source": [
    "Get the projections."
   ]
  },
  {
   "cell_type": "code",
   "execution_count": 392,
   "metadata": {
    "collapsed": true
   },
   "outputs": [],
   "source": [
    "model = gensim.models.word2vec.Word2Vec(df_new['normalized_sents'].sum())"
   ]
  },
  {
   "cell_type": "code",
   "execution_count": 393,
   "metadata": {
    "collapsed": true
   },
   "outputs": [],
   "source": [
    "Actiondf = makeDF(model, Action) \n",
    "Ideologydf = makeDF(model, Ideology)\n",
    "Governmentdf = makeDF(model, Government)"
   ]
  },
  {
   "cell_type": "markdown",
   "metadata": {},
   "source": [
    "Define some useful functions for plotting."
   ]
  },
  {
   "cell_type": "code",
   "execution_count": 394,
   "metadata": {
    "collapsed": true
   },
   "outputs": [],
   "source": [
    "def Coloring(Series):\n",
    "    x = Series.values\n",
    "    y = x-x.min()\n",
    "    z = y/y.max()\n",
    "    c = list(plt.cm.rainbow(z))\n",
    "    return c\n",
    "\n",
    "def PlotDimension(ax,df, dim):\n",
    "    ax.set_frame_on(False)\n",
    "    ax.set_title(dim, fontsize = 20)\n",
    "    colors = Coloring(df[dim])\n",
    "    for i, word in enumerate(df.index):\n",
    "        ax.annotate(word, (0, df[dim][i]), color = colors[i], alpha = 0.6, fontsize = 12)\n",
    "    MaxY = df[dim].max()\n",
    "    MinY = df[dim].min()\n",
    "    plt.ylim(MinY,MaxY)\n",
    "    plt.yticks(())\n",
    "    plt.xticks(())"
   ]
  },
  {
   "cell_type": "code",
   "execution_count": 395,
   "metadata": {},
   "outputs": [
    {
     "data": {
      "image/png": "[encoded data removed]",
      "text/plain": [
       "<Figure size 864x288 with 3 Axes>"
      ]
     },
     "metadata": {},
     "output_type": "display_data"
    }
   ],
   "source": [
    "fig = plt.figure(figsize = (12,4))\n",
    "ax1 = fig.add_subplot(131)\n",
    "PlotDimension(ax1, Actiondf, 'SMO')\n",
    "ax2 = fig.add_subplot(132)\n",
    "PlotDimension(ax2, Actiondf, 'Institution')\n",
    "ax3 = fig.add_subplot(133)\n",
    "PlotDimension(ax3, Actiondf, 'Organization')\n",
    "plt.show()"
   ]
  },
  {
   "cell_type": "code",
   "execution_count": 396,
   "metadata": {},
   "outputs": [
    {
     "data": {
      "image/png": "[encoded data removed]",
      "text/plain": [
       "<Figure size 864x288 with 3 Axes>"
      ]
     },
     "metadata": {},
     "output_type": "display_data"
    }
   ],
   "source": [
    "fig = plt.figure(figsize = (12,4))\n",
    "ax1 = fig.add_subplot(131)\n",
    "PlotDimension(ax1, Ideologydf, 'SMO')\n",
    "ax2 = fig.add_subplot(132)\n",
    "PlotDimension(ax2, Ideologydf, 'Institution')\n",
    "ax3 = fig.add_subplot(133)\n",
    "PlotDimension(ax3, Ideologydf, 'Organization')\n",
    "plt.show()"
   ]
  },
  {
   "cell_type": "code",
   "execution_count": 397,
   "metadata": {},
   "outputs": [
    {
     "data": {
      "image/png": "[encoded data removed]",
      "text/plain": [
       "<Figure size 864x288 with 3 Axes>"
      ]
     },
     "metadata": {},
     "output_type": "display_data"
    }
   ],
   "source": [
    "fig = plt.figure(figsize = (12,4))\n",
    "ax1 = fig.add_subplot(131)\n",
    "PlotDimension(ax1, Governmentdf, 'SMO')\n",
    "ax2 = fig.add_subplot(132)\n",
    "PlotDimension(ax2, Governmentdf, 'Institution')\n",
    "ax3 = fig.add_subplot(133)\n",
    "PlotDimension(ax3, Governmentdf, 'Organization')\n",
    "plt.show()"
   ]
  },
  {
   "cell_type": "code",
   "execution_count": null,
   "metadata": {
    "collapsed": true
   },
   "outputs": [],
   "source": []
  }
 ],
 "metadata": {
  "kernelspec": {
   "display_name": "Python 3",
   "language": "python",
   "name": "python3"
  },
  "language_info": {
   "codemirror_mode": {
    "name": "ipython",
    "version": 3
   },
   "file_extension": ".py",
   "mimetype": "text/x-python",
   "name": "python",
   "nbconvert_exporter": "python",
   "pygments_lexer": "ipython3",
   "version": "3.6.3"
  }
 },
 "nbformat": 4,
 "nbformat_minor": 2
}
